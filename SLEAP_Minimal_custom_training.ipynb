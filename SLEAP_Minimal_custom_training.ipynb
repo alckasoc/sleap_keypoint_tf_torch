{
  "nbformat": 4,
  "nbformat_minor": 0,
  "metadata": {
    "colab": {
      "provenance": [],
      "machine_shape": "hm",
      "toc_visible": true
    },
    "kernelspec": {
      "name": "python3",
      "display_name": "Python 3"
    },
    "accelerator": "GPU",
    "widgets": {
      "application/vnd.jupyter.widget-state+json": {
        "5050bfa7c43c4fa0b9b7f3bc53a1940c": {
          "model_module": "@jupyter-widgets/controls",
          "model_name": "VBoxModel",
          "model_module_version": "1.5.0",
          "state": {
            "_dom_classes": [],
            "_model_module": "@jupyter-widgets/controls",
            "_model_module_version": "1.5.0",
            "_model_name": "VBoxModel",
            "_view_count": null,
            "_view_module": "@jupyter-widgets/controls",
            "_view_module_version": "1.5.0",
            "_view_name": "VBoxView",
            "box_style": "",
            "children": [
              "IPY_MODEL_2f5091017db543529e404e1aef4f6b98",
              "IPY_MODEL_265e62f57e7e443b9f382871e7562fd9"
            ],
            "layout": "IPY_MODEL_93874057cef4491db28b8aa73f3d1ab2"
          }
        },
        "2f5091017db543529e404e1aef4f6b98": {
          "model_module": "@jupyter-widgets/controls",
          "model_name": "LabelModel",
          "model_module_version": "1.5.0",
          "state": {
            "_dom_classes": [],
            "_model_module": "@jupyter-widgets/controls",
            "_model_module_version": "1.5.0",
            "_model_name": "LabelModel",
            "_view_count": null,
            "_view_module": "@jupyter-widgets/controls",
            "_view_module_version": "1.5.0",
            "_view_name": "LabelView",
            "description": "",
            "description_tooltip": null,
            "layout": "IPY_MODEL_dd394f6c2bfc404d8a5aecea48f192a8",
            "placeholder": "​",
            "style": "IPY_MODEL_fe9fca6c48624f4a81bb8f90dc7bf260",
            "value": "0.020 MB of 0.020 MB uploaded (0.000 MB deduped)\r"
          }
        },
        "265e62f57e7e443b9f382871e7562fd9": {
          "model_module": "@jupyter-widgets/controls",
          "model_name": "FloatProgressModel",
          "model_module_version": "1.5.0",
          "state": {
            "_dom_classes": [],
            "_model_module": "@jupyter-widgets/controls",
            "_model_module_version": "1.5.0",
            "_model_name": "FloatProgressModel",
            "_view_count": null,
            "_view_module": "@jupyter-widgets/controls",
            "_view_module_version": "1.5.0",
            "_view_name": "ProgressView",
            "bar_style": "",
            "description": "",
            "description_tooltip": null,
            "layout": "IPY_MODEL_de8922f228da47ee84a840e1c013ba49",
            "max": 1,
            "min": 0,
            "orientation": "horizontal",
            "style": "IPY_MODEL_eff4d951129547de99f664ea63ce56a2",
            "value": 1
          }
        },
        "93874057cef4491db28b8aa73f3d1ab2": {
          "model_module": "@jupyter-widgets/base",
          "model_name": "LayoutModel",
          "model_module_version": "1.2.0",
          "state": {
            "_model_module": "@jupyter-widgets/base",
            "_model_module_version": "1.2.0",
            "_model_name": "LayoutModel",
            "_view_count": null,
            "_view_module": "@jupyter-widgets/base",
            "_view_module_version": "1.2.0",
            "_view_name": "LayoutView",
            "align_content": null,
            "align_items": null,
            "align_self": null,
            "border": null,
            "bottom": null,
            "display": null,
            "flex": null,
            "flex_flow": null,
            "grid_area": null,
            "grid_auto_columns": null,
            "grid_auto_flow": null,
            "grid_auto_rows": null,
            "grid_column": null,
            "grid_gap": null,
            "grid_row": null,
            "grid_template_areas": null,
            "grid_template_columns": null,
            "grid_template_rows": null,
            "height": null,
            "justify_content": null,
            "justify_items": null,
            "left": null,
            "margin": null,
            "max_height": null,
            "max_width": null,
            "min_height": null,
            "min_width": null,
            "object_fit": null,
            "object_position": null,
            "order": null,
            "overflow": null,
            "overflow_x": null,
            "overflow_y": null,
            "padding": null,
            "right": null,
            "top": null,
            "visibility": null,
            "width": null
          }
        },
        "dd394f6c2bfc404d8a5aecea48f192a8": {
          "model_module": "@jupyter-widgets/base",
          "model_name": "LayoutModel",
          "model_module_version": "1.2.0",
          "state": {
            "_model_module": "@jupyter-widgets/base",
            "_model_module_version": "1.2.0",
            "_model_name": "LayoutModel",
            "_view_count": null,
            "_view_module": "@jupyter-widgets/base",
            "_view_module_version": "1.2.0",
            "_view_name": "LayoutView",
            "align_content": null,
            "align_items": null,
            "align_self": null,
            "border": null,
            "bottom": null,
            "display": null,
            "flex": null,
            "flex_flow": null,
            "grid_area": null,
            "grid_auto_columns": null,
            "grid_auto_flow": null,
            "grid_auto_rows": null,
            "grid_column": null,
            "grid_gap": null,
            "grid_row": null,
            "grid_template_areas": null,
            "grid_template_columns": null,
            "grid_template_rows": null,
            "height": null,
            "justify_content": null,
            "justify_items": null,
            "left": null,
            "margin": null,
            "max_height": null,
            "max_width": null,
            "min_height": null,
            "min_width": null,
            "object_fit": null,
            "object_position": null,
            "order": null,
            "overflow": null,
            "overflow_x": null,
            "overflow_y": null,
            "padding": null,
            "right": null,
            "top": null,
            "visibility": null,
            "width": null
          }
        },
        "fe9fca6c48624f4a81bb8f90dc7bf260": {
          "model_module": "@jupyter-widgets/controls",
          "model_name": "DescriptionStyleModel",
          "model_module_version": "1.5.0",
          "state": {
            "_model_module": "@jupyter-widgets/controls",
            "_model_module_version": "1.5.0",
            "_model_name": "DescriptionStyleModel",
            "_view_count": null,
            "_view_module": "@jupyter-widgets/base",
            "_view_module_version": "1.2.0",
            "_view_name": "StyleView",
            "description_width": ""
          }
        },
        "de8922f228da47ee84a840e1c013ba49": {
          "model_module": "@jupyter-widgets/base",
          "model_name": "LayoutModel",
          "model_module_version": "1.2.0",
          "state": {
            "_model_module": "@jupyter-widgets/base",
            "_model_module_version": "1.2.0",
            "_model_name": "LayoutModel",
            "_view_count": null,
            "_view_module": "@jupyter-widgets/base",
            "_view_module_version": "1.2.0",
            "_view_name": "LayoutView",
            "align_content": null,
            "align_items": null,
            "align_self": null,
            "border": null,
            "bottom": null,
            "display": null,
            "flex": null,
            "flex_flow": null,
            "grid_area": null,
            "grid_auto_columns": null,
            "grid_auto_flow": null,
            "grid_auto_rows": null,
            "grid_column": null,
            "grid_gap": null,
            "grid_row": null,
            "grid_template_areas": null,
            "grid_template_columns": null,
            "grid_template_rows": null,
            "height": null,
            "justify_content": null,
            "justify_items": null,
            "left": null,
            "margin": null,
            "max_height": null,
            "max_width": null,
            "min_height": null,
            "min_width": null,
            "object_fit": null,
            "object_position": null,
            "order": null,
            "overflow": null,
            "overflow_x": null,
            "overflow_y": null,
            "padding": null,
            "right": null,
            "top": null,
            "visibility": null,
            "width": null
          }
        },
        "eff4d951129547de99f664ea63ce56a2": {
          "model_module": "@jupyter-widgets/controls",
          "model_name": "ProgressStyleModel",
          "model_module_version": "1.5.0",
          "state": {
            "_model_module": "@jupyter-widgets/controls",
            "_model_module_version": "1.5.0",
            "_model_name": "ProgressStyleModel",
            "_view_count": null,
            "_view_module": "@jupyter-widgets/base",
            "_view_module_version": "1.2.0",
            "_view_name": "StyleView",
            "bar_color": null,
            "description_width": ""
          }
        },
        "0815ea409c1f4b06b8a25e26506b19ff": {
          "model_module": "@jupyter-widgets/controls",
          "model_name": "VBoxModel",
          "model_module_version": "1.5.0",
          "state": {
            "_dom_classes": [],
            "_model_module": "@jupyter-widgets/controls",
            "_model_module_version": "1.5.0",
            "_model_name": "VBoxModel",
            "_view_count": null,
            "_view_module": "@jupyter-widgets/controls",
            "_view_module_version": "1.5.0",
            "_view_name": "VBoxView",
            "box_style": "",
            "children": [
              "IPY_MODEL_9541a4007bd54089a93f416c86429dce",
              "IPY_MODEL_f5cd5247bdf046ee958148364e82442d"
            ],
            "layout": "IPY_MODEL_62aeddfbefd945478d73d1323cf6cf06"
          }
        },
        "9541a4007bd54089a93f416c86429dce": {
          "model_module": "@jupyter-widgets/controls",
          "model_name": "LabelModel",
          "model_module_version": "1.5.0",
          "state": {
            "_dom_classes": [],
            "_model_module": "@jupyter-widgets/controls",
            "_model_module_version": "1.5.0",
            "_model_name": "LabelModel",
            "_view_count": null,
            "_view_module": "@jupyter-widgets/controls",
            "_view_module_version": "1.5.0",
            "_view_name": "LabelView",
            "description": "",
            "description_tooltip": null,
            "layout": "IPY_MODEL_5d3c32497f5b42819328086d9f8e3091",
            "placeholder": "​",
            "style": "IPY_MODEL_ca8fe55362cd43539d1e017936297d27",
            "value": "0.001 MB of 0.010 MB uploaded (0.000 MB deduped)\r"
          }
        },
        "f5cd5247bdf046ee958148364e82442d": {
          "model_module": "@jupyter-widgets/controls",
          "model_name": "FloatProgressModel",
          "model_module_version": "1.5.0",
          "state": {
            "_dom_classes": [],
            "_model_module": "@jupyter-widgets/controls",
            "_model_module_version": "1.5.0",
            "_model_name": "FloatProgressModel",
            "_view_count": null,
            "_view_module": "@jupyter-widgets/controls",
            "_view_module_version": "1.5.0",
            "_view_name": "ProgressView",
            "bar_style": "",
            "description": "",
            "description_tooltip": null,
            "layout": "IPY_MODEL_f23d1a0ff96f4007ace997cb89f94a55",
            "max": 1,
            "min": 0,
            "orientation": "horizontal",
            "style": "IPY_MODEL_45492085e55a4f06b3ba5d1263c8212e",
            "value": 0.11426372992209291
          }
        },
        "62aeddfbefd945478d73d1323cf6cf06": {
          "model_module": "@jupyter-widgets/base",
          "model_name": "LayoutModel",
          "model_module_version": "1.2.0",
          "state": {
            "_model_module": "@jupyter-widgets/base",
            "_model_module_version": "1.2.0",
            "_model_name": "LayoutModel",
            "_view_count": null,
            "_view_module": "@jupyter-widgets/base",
            "_view_module_version": "1.2.0",
            "_view_name": "LayoutView",
            "align_content": null,
            "align_items": null,
            "align_self": null,
            "border": null,
            "bottom": null,
            "display": null,
            "flex": null,
            "flex_flow": null,
            "grid_area": null,
            "grid_auto_columns": null,
            "grid_auto_flow": null,
            "grid_auto_rows": null,
            "grid_column": null,
            "grid_gap": null,
            "grid_row": null,
            "grid_template_areas": null,
            "grid_template_columns": null,
            "grid_template_rows": null,
            "height": null,
            "justify_content": null,
            "justify_items": null,
            "left": null,
            "margin": null,
            "max_height": null,
            "max_width": null,
            "min_height": null,
            "min_width": null,
            "object_fit": null,
            "object_position": null,
            "order": null,
            "overflow": null,
            "overflow_x": null,
            "overflow_y": null,
            "padding": null,
            "right": null,
            "top": null,
            "visibility": null,
            "width": null
          }
        },
        "5d3c32497f5b42819328086d9f8e3091": {
          "model_module": "@jupyter-widgets/base",
          "model_name": "LayoutModel",
          "model_module_version": "1.2.0",
          "state": {
            "_model_module": "@jupyter-widgets/base",
            "_model_module_version": "1.2.0",
            "_model_name": "LayoutModel",
            "_view_count": null,
            "_view_module": "@jupyter-widgets/base",
            "_view_module_version": "1.2.0",
            "_view_name": "LayoutView",
            "align_content": null,
            "align_items": null,
            "align_self": null,
            "border": null,
            "bottom": null,
            "display": null,
            "flex": null,
            "flex_flow": null,
            "grid_area": null,
            "grid_auto_columns": null,
            "grid_auto_flow": null,
            "grid_auto_rows": null,
            "grid_column": null,
            "grid_gap": null,
            "grid_row": null,
            "grid_template_areas": null,
            "grid_template_columns": null,
            "grid_template_rows": null,
            "height": null,
            "justify_content": null,
            "justify_items": null,
            "left": null,
            "margin": null,
            "max_height": null,
            "max_width": null,
            "min_height": null,
            "min_width": null,
            "object_fit": null,
            "object_position": null,
            "order": null,
            "overflow": null,
            "overflow_x": null,
            "overflow_y": null,
            "padding": null,
            "right": null,
            "top": null,
            "visibility": null,
            "width": null
          }
        },
        "ca8fe55362cd43539d1e017936297d27": {
          "model_module": "@jupyter-widgets/controls",
          "model_name": "DescriptionStyleModel",
          "model_module_version": "1.5.0",
          "state": {
            "_model_module": "@jupyter-widgets/controls",
            "_model_module_version": "1.5.0",
            "_model_name": "DescriptionStyleModel",
            "_view_count": null,
            "_view_module": "@jupyter-widgets/base",
            "_view_module_version": "1.2.0",
            "_view_name": "StyleView",
            "description_width": ""
          }
        },
        "f23d1a0ff96f4007ace997cb89f94a55": {
          "model_module": "@jupyter-widgets/base",
          "model_name": "LayoutModel",
          "model_module_version": "1.2.0",
          "state": {
            "_model_module": "@jupyter-widgets/base",
            "_model_module_version": "1.2.0",
            "_model_name": "LayoutModel",
            "_view_count": null,
            "_view_module": "@jupyter-widgets/base",
            "_view_module_version": "1.2.0",
            "_view_name": "LayoutView",
            "align_content": null,
            "align_items": null,
            "align_self": null,
            "border": null,
            "bottom": null,
            "display": null,
            "flex": null,
            "flex_flow": null,
            "grid_area": null,
            "grid_auto_columns": null,
            "grid_auto_flow": null,
            "grid_auto_rows": null,
            "grid_column": null,
            "grid_gap": null,
            "grid_row": null,
            "grid_template_areas": null,
            "grid_template_columns": null,
            "grid_template_rows": null,
            "height": null,
            "justify_content": null,
            "justify_items": null,
            "left": null,
            "margin": null,
            "max_height": null,
            "max_width": null,
            "min_height": null,
            "min_width": null,
            "object_fit": null,
            "object_position": null,
            "order": null,
            "overflow": null,
            "overflow_x": null,
            "overflow_y": null,
            "padding": null,
            "right": null,
            "top": null,
            "visibility": null,
            "width": null
          }
        },
        "45492085e55a4f06b3ba5d1263c8212e": {
          "model_module": "@jupyter-widgets/controls",
          "model_name": "ProgressStyleModel",
          "model_module_version": "1.5.0",
          "state": {
            "_model_module": "@jupyter-widgets/controls",
            "_model_module_version": "1.5.0",
            "_model_name": "ProgressStyleModel",
            "_view_count": null,
            "_view_module": "@jupyter-widgets/base",
            "_view_module_version": "1.2.0",
            "_view_name": "StyleView",
            "bar_color": null,
            "description_width": ""
          }
        },
        "96e2fda644bf422789d869e6d564d1ab": {
          "model_module": "@jupyter-widgets/controls",
          "model_name": "VBoxModel",
          "model_module_version": "1.5.0",
          "state": {
            "_dom_classes": [],
            "_model_module": "@jupyter-widgets/controls",
            "_model_module_version": "1.5.0",
            "_model_name": "VBoxModel",
            "_view_count": null,
            "_view_module": "@jupyter-widgets/controls",
            "_view_module_version": "1.5.0",
            "_view_name": "VBoxView",
            "box_style": "",
            "children": [
              "IPY_MODEL_d47d7cd318c74fb4b4d64bf5dfa31324",
              "IPY_MODEL_4573efdd7d484afb83908283d123b61f"
            ],
            "layout": "IPY_MODEL_933246f857404c66a1e11974f513d2e0"
          }
        },
        "d47d7cd318c74fb4b4d64bf5dfa31324": {
          "model_module": "@jupyter-widgets/controls",
          "model_name": "LabelModel",
          "model_module_version": "1.5.0",
          "state": {
            "_dom_classes": [],
            "_model_module": "@jupyter-widgets/controls",
            "_model_module_version": "1.5.0",
            "_model_name": "LabelModel",
            "_view_count": null,
            "_view_module": "@jupyter-widgets/controls",
            "_view_module_version": "1.5.0",
            "_view_name": "LabelView",
            "description": "",
            "description_tooltip": null,
            "layout": "IPY_MODEL_b48d8c0deec64acab9ce853b0c667dc8",
            "placeholder": "​",
            "style": "IPY_MODEL_8450c7548a0e4911861b4f3a0d5d3aaf",
            "value": "0.011 MB of 0.011 MB uploaded (0.000 MB deduped)\r"
          }
        },
        "4573efdd7d484afb83908283d123b61f": {
          "model_module": "@jupyter-widgets/controls",
          "model_name": "FloatProgressModel",
          "model_module_version": "1.5.0",
          "state": {
            "_dom_classes": [],
            "_model_module": "@jupyter-widgets/controls",
            "_model_module_version": "1.5.0",
            "_model_name": "FloatProgressModel",
            "_view_count": null,
            "_view_module": "@jupyter-widgets/controls",
            "_view_module_version": "1.5.0",
            "_view_name": "ProgressView",
            "bar_style": "",
            "description": "",
            "description_tooltip": null,
            "layout": "IPY_MODEL_6cddc73c70fb4a8f9f1a3910871c19f6",
            "max": 1,
            "min": 0,
            "orientation": "horizontal",
            "style": "IPY_MODEL_ceb11aa1e94941eda96eb5693487a2ee",
            "value": 1
          }
        },
        "933246f857404c66a1e11974f513d2e0": {
          "model_module": "@jupyter-widgets/base",
          "model_name": "LayoutModel",
          "model_module_version": "1.2.0",
          "state": {
            "_model_module": "@jupyter-widgets/base",
            "_model_module_version": "1.2.0",
            "_model_name": "LayoutModel",
            "_view_count": null,
            "_view_module": "@jupyter-widgets/base",
            "_view_module_version": "1.2.0",
            "_view_name": "LayoutView",
            "align_content": null,
            "align_items": null,
            "align_self": null,
            "border": null,
            "bottom": null,
            "display": null,
            "flex": null,
            "flex_flow": null,
            "grid_area": null,
            "grid_auto_columns": null,
            "grid_auto_flow": null,
            "grid_auto_rows": null,
            "grid_column": null,
            "grid_gap": null,
            "grid_row": null,
            "grid_template_areas": null,
            "grid_template_columns": null,
            "grid_template_rows": null,
            "height": null,
            "justify_content": null,
            "justify_items": null,
            "left": null,
            "margin": null,
            "max_height": null,
            "max_width": null,
            "min_height": null,
            "min_width": null,
            "object_fit": null,
            "object_position": null,
            "order": null,
            "overflow": null,
            "overflow_x": null,
            "overflow_y": null,
            "padding": null,
            "right": null,
            "top": null,
            "visibility": null,
            "width": null
          }
        },
        "b48d8c0deec64acab9ce853b0c667dc8": {
          "model_module": "@jupyter-widgets/base",
          "model_name": "LayoutModel",
          "model_module_version": "1.2.0",
          "state": {
            "_model_module": "@jupyter-widgets/base",
            "_model_module_version": "1.2.0",
            "_model_name": "LayoutModel",
            "_view_count": null,
            "_view_module": "@jupyter-widgets/base",
            "_view_module_version": "1.2.0",
            "_view_name": "LayoutView",
            "align_content": null,
            "align_items": null,
            "align_self": null,
            "border": null,
            "bottom": null,
            "display": null,
            "flex": null,
            "flex_flow": null,
            "grid_area": null,
            "grid_auto_columns": null,
            "grid_auto_flow": null,
            "grid_auto_rows": null,
            "grid_column": null,
            "grid_gap": null,
            "grid_row": null,
            "grid_template_areas": null,
            "grid_template_columns": null,
            "grid_template_rows": null,
            "height": null,
            "justify_content": null,
            "justify_items": null,
            "left": null,
            "margin": null,
            "max_height": null,
            "max_width": null,
            "min_height": null,
            "min_width": null,
            "object_fit": null,
            "object_position": null,
            "order": null,
            "overflow": null,
            "overflow_x": null,
            "overflow_y": null,
            "padding": null,
            "right": null,
            "top": null,
            "visibility": null,
            "width": null
          }
        },
        "8450c7548a0e4911861b4f3a0d5d3aaf": {
          "model_module": "@jupyter-widgets/controls",
          "model_name": "DescriptionStyleModel",
          "model_module_version": "1.5.0",
          "state": {
            "_model_module": "@jupyter-widgets/controls",
            "_model_module_version": "1.5.0",
            "_model_name": "DescriptionStyleModel",
            "_view_count": null,
            "_view_module": "@jupyter-widgets/base",
            "_view_module_version": "1.2.0",
            "_view_name": "StyleView",
            "description_width": ""
          }
        },
        "6cddc73c70fb4a8f9f1a3910871c19f6": {
          "model_module": "@jupyter-widgets/base",
          "model_name": "LayoutModel",
          "model_module_version": "1.2.0",
          "state": {
            "_model_module": "@jupyter-widgets/base",
            "_model_module_version": "1.2.0",
            "_model_name": "LayoutModel",
            "_view_count": null,
            "_view_module": "@jupyter-widgets/base",
            "_view_module_version": "1.2.0",
            "_view_name": "LayoutView",
            "align_content": null,
            "align_items": null,
            "align_self": null,
            "border": null,
            "bottom": null,
            "display": null,
            "flex": null,
            "flex_flow": null,
            "grid_area": null,
            "grid_auto_columns": null,
            "grid_auto_flow": null,
            "grid_auto_rows": null,
            "grid_column": null,
            "grid_gap": null,
            "grid_row": null,
            "grid_template_areas": null,
            "grid_template_columns": null,
            "grid_template_rows": null,
            "height": null,
            "justify_content": null,
            "justify_items": null,
            "left": null,
            "margin": null,
            "max_height": null,
            "max_width": null,
            "min_height": null,
            "min_width": null,
            "object_fit": null,
            "object_position": null,
            "order": null,
            "overflow": null,
            "overflow_x": null,
            "overflow_y": null,
            "padding": null,
            "right": null,
            "top": null,
            "visibility": null,
            "width": null
          }
        },
        "ceb11aa1e94941eda96eb5693487a2ee": {
          "model_module": "@jupyter-widgets/controls",
          "model_name": "ProgressStyleModel",
          "model_module_version": "1.5.0",
          "state": {
            "_model_module": "@jupyter-widgets/controls",
            "_model_module_version": "1.5.0",
            "_model_name": "ProgressStyleModel",
            "_view_count": null,
            "_view_module": "@jupyter-widgets/base",
            "_view_module_version": "1.2.0",
            "_view_name": "StyleView",
            "bar_color": null,
            "description_width": ""
          }
        },
        "416f60eaad0a41a58bbf563a7bf478da": {
          "model_module": "@jupyter-widgets/controls",
          "model_name": "VBoxModel",
          "model_module_version": "1.5.0",
          "state": {
            "_dom_classes": [],
            "_model_module": "@jupyter-widgets/controls",
            "_model_module_version": "1.5.0",
            "_model_name": "VBoxModel",
            "_view_count": null,
            "_view_module": "@jupyter-widgets/controls",
            "_view_module_version": "1.5.0",
            "_view_name": "VBoxView",
            "box_style": "",
            "children": [
              "IPY_MODEL_a91f01de3a7846f7ac54daa91578073e",
              "IPY_MODEL_3ed65c4130ef4ea29456aba7be4a2963"
            ],
            "layout": "IPY_MODEL_0ab12d5585d24d4ba24102698d17ed30"
          }
        },
        "a91f01de3a7846f7ac54daa91578073e": {
          "model_module": "@jupyter-widgets/controls",
          "model_name": "LabelModel",
          "model_module_version": "1.5.0",
          "state": {
            "_dom_classes": [],
            "_model_module": "@jupyter-widgets/controls",
            "_model_module_version": "1.5.0",
            "_model_name": "LabelModel",
            "_view_count": null,
            "_view_module": "@jupyter-widgets/controls",
            "_view_module_version": "1.5.0",
            "_view_name": "LabelView",
            "description": "",
            "description_tooltip": null,
            "layout": "IPY_MODEL_33b5238d947c4522926309832172eac6",
            "placeholder": "​",
            "style": "IPY_MODEL_961af572887443c39d2d06a2d88aa309",
            "value": "0.001 MB of 0.011 MB uploaded (0.000 MB deduped)\r"
          }
        },
        "3ed65c4130ef4ea29456aba7be4a2963": {
          "model_module": "@jupyter-widgets/controls",
          "model_name": "FloatProgressModel",
          "model_module_version": "1.5.0",
          "state": {
            "_dom_classes": [],
            "_model_module": "@jupyter-widgets/controls",
            "_model_module_version": "1.5.0",
            "_model_name": "FloatProgressModel",
            "_view_count": null,
            "_view_module": "@jupyter-widgets/controls",
            "_view_module_version": "1.5.0",
            "_view_name": "ProgressView",
            "bar_style": "",
            "description": "",
            "description_tooltip": null,
            "layout": "IPY_MODEL_815ea60e0438496f912d4ef7ffa17ab4",
            "max": 1,
            "min": 0,
            "orientation": "horizontal",
            "style": "IPY_MODEL_4330c7ec736b49668d83dc3e8506409b",
            "value": 0.1027083153067405
          }
        },
        "0ab12d5585d24d4ba24102698d17ed30": {
          "model_module": "@jupyter-widgets/base",
          "model_name": "LayoutModel",
          "model_module_version": "1.2.0",
          "state": {
            "_model_module": "@jupyter-widgets/base",
            "_model_module_version": "1.2.0",
            "_model_name": "LayoutModel",
            "_view_count": null,
            "_view_module": "@jupyter-widgets/base",
            "_view_module_version": "1.2.0",
            "_view_name": "LayoutView",
            "align_content": null,
            "align_items": null,
            "align_self": null,
            "border": null,
            "bottom": null,
            "display": null,
            "flex": null,
            "flex_flow": null,
            "grid_area": null,
            "grid_auto_columns": null,
            "grid_auto_flow": null,
            "grid_auto_rows": null,
            "grid_column": null,
            "grid_gap": null,
            "grid_row": null,
            "grid_template_areas": null,
            "grid_template_columns": null,
            "grid_template_rows": null,
            "height": null,
            "justify_content": null,
            "justify_items": null,
            "left": null,
            "margin": null,
            "max_height": null,
            "max_width": null,
            "min_height": null,
            "min_width": null,
            "object_fit": null,
            "object_position": null,
            "order": null,
            "overflow": null,
            "overflow_x": null,
            "overflow_y": null,
            "padding": null,
            "right": null,
            "top": null,
            "visibility": null,
            "width": null
          }
        },
        "33b5238d947c4522926309832172eac6": {
          "model_module": "@jupyter-widgets/base",
          "model_name": "LayoutModel",
          "model_module_version": "1.2.0",
          "state": {
            "_model_module": "@jupyter-widgets/base",
            "_model_module_version": "1.2.0",
            "_model_name": "LayoutModel",
            "_view_count": null,
            "_view_module": "@jupyter-widgets/base",
            "_view_module_version": "1.2.0",
            "_view_name": "LayoutView",
            "align_content": null,
            "align_items": null,
            "align_self": null,
            "border": null,
            "bottom": null,
            "display": null,
            "flex": null,
            "flex_flow": null,
            "grid_area": null,
            "grid_auto_columns": null,
            "grid_auto_flow": null,
            "grid_auto_rows": null,
            "grid_column": null,
            "grid_gap": null,
            "grid_row": null,
            "grid_template_areas": null,
            "grid_template_columns": null,
            "grid_template_rows": null,
            "height": null,
            "justify_content": null,
            "justify_items": null,
            "left": null,
            "margin": null,
            "max_height": null,
            "max_width": null,
            "min_height": null,
            "min_width": null,
            "object_fit": null,
            "object_position": null,
            "order": null,
            "overflow": null,
            "overflow_x": null,
            "overflow_y": null,
            "padding": null,
            "right": null,
            "top": null,
            "visibility": null,
            "width": null
          }
        },
        "961af572887443c39d2d06a2d88aa309": {
          "model_module": "@jupyter-widgets/controls",
          "model_name": "DescriptionStyleModel",
          "model_module_version": "1.5.0",
          "state": {
            "_model_module": "@jupyter-widgets/controls",
            "_model_module_version": "1.5.0",
            "_model_name": "DescriptionStyleModel",
            "_view_count": null,
            "_view_module": "@jupyter-widgets/base",
            "_view_module_version": "1.2.0",
            "_view_name": "StyleView",
            "description_width": ""
          }
        },
        "815ea60e0438496f912d4ef7ffa17ab4": {
          "model_module": "@jupyter-widgets/base",
          "model_name": "LayoutModel",
          "model_module_version": "1.2.0",
          "state": {
            "_model_module": "@jupyter-widgets/base",
            "_model_module_version": "1.2.0",
            "_model_name": "LayoutModel",
            "_view_count": null,
            "_view_module": "@jupyter-widgets/base",
            "_view_module_version": "1.2.0",
            "_view_name": "LayoutView",
            "align_content": null,
            "align_items": null,
            "align_self": null,
            "border": null,
            "bottom": null,
            "display": null,
            "flex": null,
            "flex_flow": null,
            "grid_area": null,
            "grid_auto_columns": null,
            "grid_auto_flow": null,
            "grid_auto_rows": null,
            "grid_column": null,
            "grid_gap": null,
            "grid_row": null,
            "grid_template_areas": null,
            "grid_template_columns": null,
            "grid_template_rows": null,
            "height": null,
            "justify_content": null,
            "justify_items": null,
            "left": null,
            "margin": null,
            "max_height": null,
            "max_width": null,
            "min_height": null,
            "min_width": null,
            "object_fit": null,
            "object_position": null,
            "order": null,
            "overflow": null,
            "overflow_x": null,
            "overflow_y": null,
            "padding": null,
            "right": null,
            "top": null,
            "visibility": null,
            "width": null
          }
        },
        "4330c7ec736b49668d83dc3e8506409b": {
          "model_module": "@jupyter-widgets/controls",
          "model_name": "ProgressStyleModel",
          "model_module_version": "1.5.0",
          "state": {
            "_model_module": "@jupyter-widgets/controls",
            "_model_module_version": "1.5.0",
            "_model_name": "ProgressStyleModel",
            "_view_count": null,
            "_view_module": "@jupyter-widgets/base",
            "_view_module_version": "1.2.0",
            "_view_name": "StyleView",
            "bar_color": null,
            "description_width": ""
          }
        }
      }
    }
  },
  "cells": [
    {
      "cell_type": "markdown",
      "source": [
        "Below are links to resources related to this notebook:\n",
        "* [W&B Project](https://wandb.ai/vincenttu/torch_vs_tf_talmo_lab?workspace=user-vincenttu)\n",
        "* [GitHub](https://github.com/alckasoc/sleap_keypoint_tf_torch)\n",
        "\n"
      ],
      "metadata": {
        "id": "8A-NjhkjgVY8"
      }
    },
    {
      "cell_type": "markdown",
      "metadata": {
        "id": "BeeqrLbdupmE"
      },
      "source": [
        "# Install SLEAP\n",
        "Don't forget to set **Runtime** -> **Change runtime type...** -> **GPU** as the accelerator."
      ]
    },
    {
      "cell_type": "code",
      "metadata": {
        "id": "BYxJ2rJOMW8B",
        "colab": {
          "base_uri": "https://localhost:8080/"
        },
        "outputId": "520b58ef-325b-4070-d13c-73d90a946114"
      },
      "source": [
        "!pip install sleap -qqq\n",
        "!pip install nvidia-ml-py3 -qqq"
      ],
      "execution_count": null,
      "outputs": [
        {
          "output_type": "stream",
          "name": "stdout",
          "text": [
            "\u001b[2K     \u001b[90m━━━━━━━━━━━━━━━━━━━━━━━━━━━━━━━━━━━━━━━━\u001b[0m \u001b[32m64.4/64.4 MB\u001b[0m \u001b[31m15.1 MB/s\u001b[0m eta \u001b[36m0:00:00\u001b[0m\n",
            "\u001b[2K     \u001b[90m━━━━━━━━━━━━━━━━━━━━━━━━━━━━━━━━━━━━━━━━\u001b[0m \u001b[32m60.6/60.6 kB\u001b[0m \u001b[31m7.9 MB/s\u001b[0m eta \u001b[36m0:00:00\u001b[0m\n",
            "\u001b[2K     \u001b[90m━━━━━━━━━━━━━━━━━━━━━━━━━━━━━━━━━━━━━━━━\u001b[0m \u001b[32m4.5/4.5 MB\u001b[0m \u001b[31m93.2 MB/s\u001b[0m eta \u001b[36m0:00:00\u001b[0m\n",
            "\u001b[2K     \u001b[90m━━━━━━━━━━━━━━━━━━━━━━━━━━━━━━━━━━━━━━━━\u001b[0m \u001b[32m1.7/1.7 MB\u001b[0m \u001b[31m82.8 MB/s\u001b[0m eta \u001b[36m0:00:00\u001b[0m\n",
            "\u001b[2K     \u001b[90m━━━━━━━━━━━━━━━━━━━━━━━━━━━━━━━━━━━━━━━━\u001b[0m \u001b[32m60.5/60.5 MB\u001b[0m \u001b[31m13.1 MB/s\u001b[0m eta \u001b[36m0:00:00\u001b[0m\n",
            "\u001b[2K     \u001b[90m━━━━━━━━━━━━━━━━━━━━━━━━━━━━━━━━━━━━━━━━\u001b[0m \u001b[32m84.9/84.9 kB\u001b[0m \u001b[31m10.9 MB/s\u001b[0m eta \u001b[36m0:00:00\u001b[0m\n",
            "\u001b[2K     \u001b[90m━━━━━━━━━━━━━━━━━━━━━━━━━━━━━━━━━━━━━━━━\u001b[0m \u001b[32m3.3/3.3 MB\u001b[0m \u001b[31m90.1 MB/s\u001b[0m eta \u001b[36m0:00:00\u001b[0m\n",
            "\u001b[2K     \u001b[90m━━━━━━━━━━━━━━━━━━━━━━━━━━━━━━━━━━━━━━━━\u001b[0m \u001b[32m43.9/43.9 MB\u001b[0m \u001b[31m17.8 MB/s\u001b[0m eta \u001b[36m0:00:00\u001b[0m\n",
            "\u001b[2K     \u001b[90m━━━━━━━━━━━━━━━━━━━━━━━━━━━━━━━━━━━━━━━━\u001b[0m \u001b[32m26.5/26.5 MB\u001b[0m \u001b[31m61.6 MB/s\u001b[0m eta \u001b[36m0:00:00\u001b[0m\n",
            "\u001b[2K     \u001b[90m━━━━━━━━━━━━━━━━━━━━━━━━━━━━━━━━━━━━━━━━\u001b[0m \u001b[32m2.3/2.3 MB\u001b[0m \u001b[31m66.8 MB/s\u001b[0m eta \u001b[36m0:00:00\u001b[0m\n",
            "\u001b[2K     \u001b[90m━━━━━━━━━━━━━━━━━━━━━━━━━━━━━━━━━━━━━━\u001b[0m \u001b[32m904.1/904.1 kB\u001b[0m \u001b[31m55.8 MB/s\u001b[0m eta \u001b[36m0:00:00\u001b[0m\n",
            "\u001b[?25h  Preparing metadata (setup.py) ... \u001b[?25l\u001b[?25hdone\n",
            "\u001b[2K     \u001b[90m━━━━━━━━━━━━━━━━━━━━━━━━━━━━━━━━━━━━━━\u001b[0m \u001b[32m228.9/228.9 kB\u001b[0m \u001b[31m28.5 MB/s\u001b[0m eta \u001b[36m0:00:00\u001b[0m\n",
            "\u001b[?25h  Preparing metadata (setup.py) ... \u001b[?25l\u001b[?25hdone\n",
            "\u001b[2K     \u001b[90m━━━━━━━━━━━━━━━━━━━━━━━━━━━━━━━━━━━━━━\u001b[0m \u001b[32m214.3/214.3 kB\u001b[0m \u001b[31m25.1 MB/s\u001b[0m eta \u001b[36m0:00:00\u001b[0m\n",
            "\u001b[2K     \u001b[90m━━━━━━━━━━━━━━━━━━━━━━━━━━━━━━━━━━━━━━\u001b[0m \u001b[32m149.2/149.2 kB\u001b[0m \u001b[31m15.5 MB/s\u001b[0m eta \u001b[36m0:00:00\u001b[0m\n",
            "\u001b[2K     \u001b[90m━━━━━━━━━━━━━━━━━━━━━━━━━━━━━━━━━━━━━━\u001b[0m \u001b[32m131.9/131.9 kB\u001b[0m \u001b[31m14.6 MB/s\u001b[0m eta \u001b[36m0:00:00\u001b[0m\n",
            "\u001b[2K     \u001b[90m━━━━━━━━━━━━━━━━━━━━━━━━━━━━━━━━━━━━━━━━\u001b[0m \u001b[32m88.2/88.2 kB\u001b[0m \u001b[31m10.6 MB/s\u001b[0m eta \u001b[36m0:00:00\u001b[0m\n",
            "\u001b[2K     \u001b[90m━━━━━━━━━━━━━━━━━━━━━━━━━━━━━━━━━━━━━━━\u001b[0m \u001b[32m498.1/498.1 MB\u001b[0m \u001b[31m3.4 MB/s\u001b[0m eta \u001b[36m0:00:00\u001b[0m\n",
            "\u001b[2K     \u001b[90m━━━━━━━━━━━━━━━━━━━━━━━━━━━━━━━━━━━━━━━\u001b[0m \u001b[32m156.1/156.1 MB\u001b[0m \u001b[31m7.5 MB/s\u001b[0m eta \u001b[36m0:00:00\u001b[0m\n",
            "\u001b[2K     \u001b[90m━━━━━━━━━━━━━━━━━━━━━━━━━━━━━━━━━━━━━━━━\u001b[0m \u001b[32m51.1/51.1 kB\u001b[0m \u001b[31m6.0 MB/s\u001b[0m eta \u001b[36m0:00:00\u001b[0m\n",
            "\u001b[2K     \u001b[90m━━━━━━━━━━━━━━━━━━━━━━━━━━━━━━━━━━━━━━━━\u001b[0m \u001b[32m50.7/50.7 kB\u001b[0m \u001b[31m6.2 MB/s\u001b[0m eta \u001b[36m0:00:00\u001b[0m\n",
            "\u001b[2K     \u001b[90m━━━━━━━━━━━━━━━━━━━━━━━━━━━━━━━━━━━━━━\u001b[0m \u001b[32m832.9/832.9 kB\u001b[0m \u001b[31m62.3 MB/s\u001b[0m eta \u001b[36m0:00:00\u001b[0m\n",
            "\u001b[2K     \u001b[90m━━━━━━━━━━━━━━━━━━━━━━━━━━━━━━━━━━━━━━━━\u001b[0m \u001b[32m42.6/42.6 kB\u001b[0m \u001b[31m5.1 MB/s\u001b[0m eta \u001b[36m0:00:00\u001b[0m\n",
            "\u001b[2K     \u001b[90m━━━━━━━━━━━━━━━━━━━━━━━━━━━━━━━━━━━━━━━━\u001b[0m \u001b[32m1.1/1.1 MB\u001b[0m \u001b[31m63.9 MB/s\u001b[0m eta \u001b[36m0:00:00\u001b[0m\n",
            "\u001b[2K     \u001b[90m━━━━━━━━━━━━━━━━━━━━━━━━━━━━━━━━━━━━━━━━\u001b[0m \u001b[32m5.8/5.8 MB\u001b[0m \u001b[31m98.9 MB/s\u001b[0m eta \u001b[36m0:00:00\u001b[0m\n",
            "\u001b[2K     \u001b[90m━━━━━━━━━━━━━━━━━━━━━━━━━━━━━━━━━━━━━━\u001b[0m \u001b[32m462.3/462.3 kB\u001b[0m \u001b[31m44.6 MB/s\u001b[0m eta \u001b[36m0:00:00\u001b[0m\n",
            "\u001b[2K     \u001b[90m━━━━━━━━━━━━━━━━━━━━━━━━━━━━━━━━━━━━━━━━\u001b[0m \u001b[32m1.4/1.4 MB\u001b[0m \u001b[31m80.6 MB/s\u001b[0m eta \u001b[36m0:00:00\u001b[0m\n",
            "\u001b[2K     \u001b[90m━━━━━━━━━━━━━━━━━━━━━━━━━━━━━━━━━━━━━━\u001b[0m \u001b[32m192.2/192.2 kB\u001b[0m \u001b[31m21.0 MB/s\u001b[0m eta \u001b[36m0:00:00\u001b[0m\n",
            "\u001b[2K     \u001b[90m━━━━━━━━━━━━━━━━━━━━━━━━━━━━━━━━━━━━━━\u001b[0m \u001b[32m109.1/109.1 kB\u001b[0m \u001b[31m14.3 MB/s\u001b[0m eta \u001b[36m0:00:00\u001b[0m\n",
            "\u001b[2K     \u001b[90m━━━━━━━━━━━━━━━━━━━━━━━━━━━━━━━━━━━━━━━━\u001b[0m \u001b[32m4.9/4.9 MB\u001b[0m \u001b[31m103.6 MB/s\u001b[0m eta \u001b[36m0:00:00\u001b[0m\n",
            "\u001b[2K     \u001b[90m━━━━━━━━━━━━━━━━━━━━━━━━━━━━━━━━━━━━━━\u001b[0m \u001b[32m485.6/485.6 kB\u001b[0m \u001b[31m41.8 MB/s\u001b[0m eta \u001b[36m0:00:00\u001b[0m\n",
            "\u001b[?25h  Building wheel for pykalman (setup.py) ... \u001b[?25l\u001b[?25hdone\n",
            "  Building wheel for jsmin (setup.py) ... \u001b[?25l\u001b[?25hdone\n",
            "\u001b[31mERROR: pip's dependency resolver does not currently take into account all the packages that are installed. This behaviour is the source of the following dependency conflicts.\n",
            "flax 0.6.9 requires rich>=11.1, but you have rich 10.16.1 which is incompatible.\n",
            "tensorflow-datasets 4.9.2 requires protobuf>=3.20, but you have protobuf 3.19.6 which is incompatible.\n",
            "tensorflow-metadata 1.13.1 requires protobuf<5,>=3.20.3, but you have protobuf 3.19.6 which is incompatible.\u001b[0m\u001b[31m\n",
            "\u001b[0m  Preparing metadata (setup.py) ... \u001b[?25l\u001b[?25hdone\n",
            "  Building wheel for nvidia-ml-py3 (setup.py) ... \u001b[?25l\u001b[?25hdone\n"
          ]
        }
      ]
    },
    {
      "cell_type": "code",
      "metadata": {
        "colab": {
          "base_uri": "https://localhost:8080/"
        },
        "id": "jftAOyvvuQeh",
        "outputId": "2438619c-1b22-4df8-945d-2ce8531b29b9"
      },
      "source": [
        "import os\n",
        "import gc\n",
        "import random\n",
        "import time\n",
        "\n",
        "import nvidia_smi\n",
        "\n",
        "import numpy as np\n",
        "import tensorflow as tf\n",
        "\n",
        "import sleap\n",
        "\n",
        "sleap.versions()"
      ],
      "execution_count": null,
      "outputs": [
        {
          "output_type": "stream",
          "name": "stdout",
          "text": [
            "SLEAP: 1.3.0\n",
            "TensorFlow: 2.8.4\n",
            "Numpy: 1.22.4\n",
            "Python: 3.10.11\n",
            "OS: Linux-5.10.147+-x86_64-with-glibc2.31\n"
          ]
        }
      ]
    },
    {
      "cell_type": "code",
      "source": [
        "!pip install wandb -qqq\n",
        "import wandb\n",
        "wandb.login()"
      ],
      "metadata": {
        "colab": {
          "base_uri": "https://localhost:8080/",
          "height": 225
        },
        "id": "9yvGIQSkWyt_",
        "outputId": "208673b8-dad9-4ce0-b935-7690b9fda2e2"
      },
      "execution_count": null,
      "outputs": [
        {
          "output_type": "stream",
          "name": "stdout",
          "text": [
            "\u001b[2K     \u001b[90m━━━━━━━━━━━━━━━━━━━━━━━━━━━━━━━━━━━━━━━━\u001b[0m \u001b[32m2.0/2.0 MB\u001b[0m \u001b[31m55.3 MB/s\u001b[0m eta \u001b[36m0:00:00\u001b[0m\n",
            "\u001b[2K     \u001b[90m━━━━━━━━━━━━━━━━━━━━━━━━━━━━━━━━━━━━━━\u001b[0m \u001b[32m184.3/184.3 kB\u001b[0m \u001b[31m23.1 MB/s\u001b[0m eta \u001b[36m0:00:00\u001b[0m\n",
            "\u001b[2K     \u001b[90m━━━━━━━━━━━━━━━━━━━━━━━━━━━━━━━━━━━━━━\u001b[0m \u001b[32m203.3/203.3 kB\u001b[0m \u001b[31m23.6 MB/s\u001b[0m eta \u001b[36m0:00:00\u001b[0m\n",
            "\u001b[?25h  Preparing metadata (setup.py) ... \u001b[?25l\u001b[?25hdone\n",
            "\u001b[2K     \u001b[90m━━━━━━━━━━━━━━━━━━━━━━━━━━━━━━━━━━━━━━━━\u001b[0m \u001b[32m62.7/62.7 kB\u001b[0m \u001b[31m8.0 MB/s\u001b[0m eta \u001b[36m0:00:00\u001b[0m\n",
            "\u001b[?25h  Building wheel for pathtools (setup.py) ... \u001b[?25l\u001b[?25hdone\n"
          ]
        },
        {
          "output_type": "display_data",
          "data": {
            "text/plain": [
              "<IPython.core.display.Javascript object>"
            ],
            "application/javascript": [
              "\n",
              "        window._wandbApiKey = new Promise((resolve, reject) => {\n",
              "            function loadScript(url) {\n",
              "            return new Promise(function(resolve, reject) {\n",
              "                let newScript = document.createElement(\"script\");\n",
              "                newScript.onerror = reject;\n",
              "                newScript.onload = resolve;\n",
              "                document.body.appendChild(newScript);\n",
              "                newScript.src = url;\n",
              "            });\n",
              "            }\n",
              "            loadScript(\"https://cdn.jsdelivr.net/npm/postmate/build/postmate.min.js\").then(() => {\n",
              "            const iframe = document.createElement('iframe')\n",
              "            iframe.style.cssText = \"width:0;height:0;border:none\"\n",
              "            document.body.appendChild(iframe)\n",
              "            const handshake = new Postmate({\n",
              "                container: iframe,\n",
              "                url: 'https://wandb.ai/authorize'\n",
              "            });\n",
              "            const timeout = setTimeout(() => reject(\"Couldn't auto authenticate\"), 5000)\n",
              "            handshake.then(function(child) {\n",
              "                child.on('authorize', data => {\n",
              "                    clearTimeout(timeout)\n",
              "                    resolve(data)\n",
              "                });\n",
              "            });\n",
              "            })\n",
              "        });\n",
              "    "
            ]
          },
          "metadata": {}
        },
        {
          "output_type": "stream",
          "name": "stderr",
          "text": [
            "\u001b[34m\u001b[1mwandb\u001b[0m: Logging into wandb.ai. (Learn how to deploy a W&B server locally: https://wandb.me/wandb-server)\n",
            "\u001b[34m\u001b[1mwandb\u001b[0m: You can find your API key in your browser here: https://wandb.ai/authorize\n",
            "wandb: Paste an API key from your profile and hit enter, or press ctrl+c to quit:"
          ]
        },
        {
          "name": "stdout",
          "output_type": "stream",
          "text": [
            " ··········\n"
          ]
        },
        {
          "output_type": "stream",
          "name": "stderr",
          "text": [
            "\u001b[34m\u001b[1mwandb\u001b[0m: Appending key for api.wandb.ai to your netrc file: /root/.netrc\n"
          ]
        },
        {
          "output_type": "execute_result",
          "data": {
            "text/plain": [
              "True"
            ]
          },
          "metadata": {},
          "execution_count": 3
        }
      ]
    },
    {
      "cell_type": "markdown",
      "source": [
        "# Utils"
      ],
      "metadata": {
        "id": "7TIJQcB2hz44"
      }
    },
    {
      "cell_type": "code",
      "source": [
        "def seed_everything(seed=42):\n",
        "    random.seed(seed)\n",
        "    os.environ['PYTHONHASHSEED'] = str(seed)\n",
        "    np.random.seed(seed)\n",
        "    tf.random.set_seed(seed)\n",
        "    tf.keras.utils.set_random_seed(seed)\n",
        "\n",
        "def get_vram():\n",
        "    nvidia_smi.nvmlInit()\n",
        "\n",
        "    deviceCount = nvidia_smi.nvmlDeviceGetCount()\n",
        "    for i in range(deviceCount):\n",
        "        handle = nvidia_smi.nvmlDeviceGetHandleByIndex(i)\n",
        "        info = nvidia_smi.nvmlDeviceGetMemoryInfo(handle)\n",
        "        output = (\"Device {}: {}, Memory : ({:.2f}% free): {} (total), {} (free), {} (used)\"\n",
        "              .format(i, nvidia_smi.nvmlDeviceGetName(handle), 100*info.free/info.total, \n",
        "                      info.total/(1024 ** 3), info.free/(1024 ** 3), info.used/(1024 ** 3)))\n",
        "\n",
        "    nvidia_smi.nvmlShutdown()\n",
        "\n",
        "    return output\n",
        "\n",
        "def get_param_count(model):\n",
        "  trainable_params = np.sum([np.prod(v.get_shape()) for v in model.trainable_weights])\n",
        "  nontrainable_params = np.sum([np.prod(v.get_shape()) for v in model.non_trainable_weights])\n",
        "  total_params = trainable_params + nontrainable_params\n",
        "  return trainable_params, nontrainable_params, total_params"
      ],
      "metadata": {
        "id": "yxpqyaxnhzN9"
      },
      "execution_count": null,
      "outputs": []
    },
    {
      "cell_type": "code",
      "source": [
        "seed = 42\n",
        "seed_everything(seed)"
      ],
      "metadata": {
        "id": "h8FyuIUFh_if"
      },
      "execution_count": null,
      "outputs": []
    },
    {
      "cell_type": "markdown",
      "metadata": {
        "id": "wSdTJYOdu4L6"
      },
      "source": [
        "# Download training data"
      ]
    },
    {
      "cell_type": "code",
      "source": [
        "!curl -L --output labels.slp https://storage.googleapis.com/sleap-data/datasets/wt_gold.13pt/tracking_split2/train.pkg.slp\n",
        "!ls -lah\n",
        "\n",
        "!curl -L --output val_labels.slp https://storage.googleapis.com/sleap-data/datasets/wt_gold.13pt/tracking_split2/val.pkg.slp\n",
        "!ls -lah"
      ],
      "metadata": {
        "colab": {
          "base_uri": "https://localhost:8080/"
        },
        "id": "UlQlnc4uM-U7",
        "outputId": "acd0d87a-4485-4f60-d624-c3f343ccf23b"
      },
      "execution_count": null,
      "outputs": [
        {
          "output_type": "stream",
          "name": "stdout",
          "text": [
            "  % Total    % Received % Xferd  Average Speed   Time    Time     Time  Current\n",
            "                                 Dload  Upload   Total   Spent    Left  Speed\n",
            "100  619M  100  619M    0     0  14.5M      0  0:00:42  0:00:42 --:--:-- 16.0M\n",
            "total 620M\n",
            "drwxr-xr-x 1 root root 4.0K May 11 04:31 .\n",
            "drwxr-xr-x 1 root root 4.0K May 11 04:28 ..\n",
            "drwxr-xr-x 4 root root 4.0K May  9 13:34 .config\n",
            "-rw-r--r-- 1 root root 620M May 11 04:32 labels.slp\n",
            "drwxr-xr-x 1 root root 4.0K May  9 13:35 sample_data\n",
            "  % Total    % Received % Xferd  Average Speed   Time    Time     Time  Current\n",
            "                                 Dload  Upload   Total   Spent    Left  Speed\n",
            "100 77.2M  100 77.2M    0     0  10.5M      0  0:00:07  0:00:07 --:--:-- 14.3M\n",
            "total 697M\n",
            "drwxr-xr-x 1 root root 4.0K May 11 04:32 .\n",
            "drwxr-xr-x 1 root root 4.0K May 11 04:28 ..\n",
            "drwxr-xr-x 4 root root 4.0K May  9 13:34 .config\n",
            "-rw-r--r-- 1 root root 620M May 11 04:32 labels.slp\n",
            "drwxr-xr-x 1 root root 4.0K May  9 13:35 sample_data\n",
            "-rw-r--r-- 1 root root  78M May 11 04:32 val_labels.slp\n"
          ]
        }
      ]
    },
    {
      "cell_type": "markdown",
      "metadata": {
        "id": "5lugn7a_HC0Q"
      },
      "source": [
        "# Load the training data"
      ]
    },
    {
      "cell_type": "code",
      "metadata": {
        "colab": {
          "base_uri": "https://localhost:8080/"
        },
        "id": "UMkSIZrTHCMr",
        "outputId": "807b782b-056c-484c-b595-30408d28c36a"
      },
      "source": [
        "# SLEAP Labels files (.slp) can include the images as well as labeled instances and\n",
        "# other metadata for a project.\n",
        "labels = sleap.load_file(\"labels.slp\")\n",
        "labels = labels.with_user_labels_only()\n",
        "labels.describe()"
      ],
      "execution_count": null,
      "outputs": [
        {
          "output_type": "stream",
          "name": "stdout",
          "text": [
            "Skeleton: Skeleton(description=None, nodes=[head, thorax, abdomen, wingL, wingR, forelegL4, forelegR4, midlegL4, midlegR4, hindlegL4, hindlegR4, eyeL, eyeR], edges=[thorax->head, thorax->abdomen, thorax->wingL, thorax->wingR, thorax->forelegL4, thorax->forelegR4, thorax->midlegL4, thorax->midlegR4, thorax->hindlegL4, thorax->hindlegR4, head->eyeL, head->eyeR], symmetries=[eyeL<->eyeR, forelegL4<->forelegR4, midlegL4<->midlegR4, wingL<->wingR, hindlegL4<->hindlegR4])\n",
            "Videos: ['labels.slp', 'labels.slp', 'labels.slp', 'labels.slp', 'labels.slp', 'labels.slp', 'labels.slp', 'labels.slp', 'labels.slp', 'labels.slp', 'labels.slp', 'labels.slp', 'labels.slp', 'labels.slp', 'labels.slp', 'labels.slp', 'labels.slp', 'labels.slp', 'labels.slp', 'labels.slp', 'labels.slp', 'labels.slp', 'labels.slp', 'labels.slp', 'labels.slp', 'labels.slp', 'labels.slp', 'labels.slp', 'labels.slp', 'labels.slp']\n",
            "Frames (user/predicted): 1,600/0\n",
            "Instances (user/predicted): 3,200/0\n",
            "Tracks: [Track(spawned_on=0, name='female'), Track(spawned_on=0, name='male')]\n",
            "Suggestions: 0\n",
            "Provenance: {}\n"
          ]
        }
      ]
    },
    {
      "cell_type": "code",
      "source": [
        "# Let's also do the same for the val labels.\n",
        "val_labels = sleap.load_file(\"val_labels.slp\")\n",
        "val_labels = val_labels.with_user_labels_only()\n",
        "val_labels.describe()"
      ],
      "metadata": {
        "colab": {
          "base_uri": "https://localhost:8080/"
        },
        "id": "IanzIx9WsqoH",
        "outputId": "adf31f08-d2e4-44ea-b75f-38c3b77ddaea"
      },
      "execution_count": null,
      "outputs": [
        {
          "output_type": "stream",
          "name": "stdout",
          "text": [
            "Skeleton: Skeleton(description=None, nodes=[head, thorax, abdomen, wingL, wingR, forelegL4, forelegR4, midlegL4, midlegR4, hindlegL4, hindlegR4, eyeL, eyeR], edges=[thorax->head, thorax->abdomen, thorax->wingL, thorax->wingR, thorax->forelegL4, thorax->forelegR4, thorax->midlegL4, thorax->midlegR4, thorax->hindlegL4, thorax->hindlegR4, head->eyeL, head->eyeR], symmetries=[wingL<->wingR, hindlegL4<->hindlegR4, forelegL4<->forelegR4, eyeL<->eyeR, midlegL4<->midlegR4])\n",
            "Videos: ['val_labels.slp', 'val_labels.slp', 'val_labels.slp', 'val_labels.slp', 'val_labels.slp', 'val_labels.slp', 'val_labels.slp', 'val_labels.slp', 'val_labels.slp', 'val_labels.slp', 'val_labels.slp', 'val_labels.slp', 'val_labels.slp', 'val_labels.slp', 'val_labels.slp', 'val_labels.slp', 'val_labels.slp', 'val_labels.slp', 'val_labels.slp', 'val_labels.slp', 'val_labels.slp', 'val_labels.slp', 'val_labels.slp', 'val_labels.slp', 'val_labels.slp', 'val_labels.slp', 'val_labels.slp', 'val_labels.slp', 'val_labels.slp', 'val_labels.slp']\n",
            "Frames (user/predicted): 200/0\n",
            "Instances (user/predicted): 400/0\n",
            "Tracks: [Track(spawned_on=0, name='female'), Track(spawned_on=0, name='male')]\n",
            "Suggestions: 0\n",
            "Provenance: {}\n"
          ]
        }
      ]
    },
    {
      "cell_type": "code",
      "metadata": {
        "colab": {
          "base_uri": "https://localhost:8080/"
        },
        "id": "EK8DDPHDHBr_",
        "outputId": "21aca748-b0b2-4258-abb6-dc97918c6d64"
      },
      "source": [
        "# Labels are list-like containers whose elements are LabeledFrames\n",
        "print(f\"Number of labels: {len(labels)}\")\n",
        "\n",
        "labeled_frame = labels[0]\n",
        "labeled_frame"
      ],
      "execution_count": null,
      "outputs": [
        {
          "output_type": "stream",
          "name": "stdout",
          "text": [
            "Number of labels: 1600\n"
          ]
        },
        {
          "output_type": "execute_result",
          "data": {
            "text/plain": [
              "LabeledFrame(video=HDF5Video('labels.slp'), frame_idx=166050, instances=2)"
            ]
          },
          "metadata": {},
          "execution_count": 9
        }
      ]
    },
    {
      "cell_type": "code",
      "metadata": {
        "colab": {
          "base_uri": "https://localhost:8080/"
        },
        "id": "pP5uXrU3HX6o",
        "outputId": "dd72140a-7b1c-459c-fe61-01401b8188ed"
      },
      "source": [
        "# LabeledFrames are containers for instances that were labeled in a single frame\n",
        "instance = labeled_frame[0]\n",
        "instance"
      ],
      "execution_count": null,
      "outputs": [
        {
          "output_type": "execute_result",
          "data": {
            "text/plain": [
              "Instance(video=Video(filename=labels.slp, shape=(66, 1024, 1024, 1), backend=HDF5Video), frame_idx=166050, points=[head: (491.6, 187.7), thorax: (474.4, 224.8), abdomen: (459.9, 262.2), wingL: (448.3, 271.7), wingR: (452.1, 273.5), forelegL4: (478.5, 175.9), forelegR4: (499.9, 177.9), midlegL4: (440.6, 216.4), midlegR4: (510.1, 242.7), hindlegL4: (437.2, 234.3), hindlegR4: (490.9, 266.7), eyeL: (477.5, 193.2), eyeR: (498.4, 201.2)], track=Track(spawned_on=0, name='female'))"
            ]
          },
          "metadata": {},
          "execution_count": 10
        }
      ]
    },
    {
      "cell_type": "code",
      "metadata": {
        "colab": {
          "base_uri": "https://localhost:8080/"
        },
        "id": "700fTPs4Hurg",
        "outputId": "d0d7656f-1771-471f-91ac-b87d9ffd1b0f"
      },
      "source": [
        "# They can be converted to numpy arrays where each row corresponds to the coordinates\n",
        "# of a different body part:\n",
        "pts = instance.numpy()\n",
        "pts"
      ],
      "execution_count": null,
      "outputs": [
        {
          "output_type": "execute_result",
          "data": {
            "text/plain": [
              "rec.array([[491.58118169, 187.72078779],\n",
              "           [474.3603939 , 224.80196948],\n",
              "           [459.90098474, 262.16236338],\n",
              "           [448.26137864, 271.72078779],\n",
              "           [452.08118169, 273.54059084],\n",
              "           [478.5       , 175.90098474],\n",
              "           [499.94157558, 177.90098474],\n",
              "           [440.58118169, 216.3603939 ],\n",
              "           [510.12177253, 242.72078779],\n",
              "           [         nan,          nan],\n",
              "           [490.90098474, 266.72078779],\n",
              "           [477.54059084, 193.16236338],\n",
              "           [498.40098474, 201.18019695]],\n",
              "          dtype=float64)"
            ]
          },
          "metadata": {},
          "execution_count": 11
        }
      ]
    },
    {
      "cell_type": "markdown",
      "metadata": {
        "id": "-vYsPusvviiu"
      },
      "source": [
        "# Setup training data generation"
      ]
    },
    {
      "cell_type": "code",
      "metadata": {
        "colab": {
          "base_uri": "https://localhost:8080/"
        },
        "id": "3SuKuK6GIDLg",
        "outputId": "cf4dee2b-ec43-4490-b75f-29a64e9228f9"
      },
      "source": [
        "# Initialize a pipeline from the labels.\n",
        "p = labels.with_user_labels_only().to_pipeline()\n",
        "\n",
        "# This pipeline will output dictionaries with tensors containing frame data:\n",
        "p.describe()"
      ],
      "execution_count": null,
      "outputs": [
        {
          "output_type": "stream",
          "name": "stdout",
          "text": [
            "         image: type=EagerTensor, shape=(1024, 1024, 1), dtype=tf.uint8, device=/job:localhost/replica:0/task:0/device:CPU:0\n",
            "raw_image_size: type=EagerTensor, shape=(3,), dtype=tf.int32, device=/job:localhost/replica:0/task:0/device:CPU:0\n",
            "   example_ind: type=EagerTensor, shape=(), dtype=tf.int64, device=/job:localhost/replica:0/task:0/device:CPU:0\n",
            "     video_ind: type=EagerTensor, shape=(), dtype=tf.int32, device=/job:localhost/replica:0/task:0/device:CPU:0\n",
            "     frame_ind: type=EagerTensor, shape=(), dtype=tf.int64, device=/job:localhost/replica:0/task:0/device:CPU:0\n",
            "         scale: type=EagerTensor, shape=(2,), dtype=tf.float32, device=/job:localhost/replica:0/task:0/device:CPU:0\n",
            "     instances: type=EagerTensor, shape=(2, 13, 2), dtype=tf.float32, device=/job:localhost/replica:0/task:0/device:CPU:0\n",
            " skeleton_inds: type=EagerTensor, shape=(2,), dtype=tf.int32, device=/job:localhost/replica:0/task:0/device:CPU:0\n",
            "    track_inds: type=EagerTensor, shape=(2,), dtype=tf.int32, device=/job:localhost/replica:0/task:0/device:CPU:0\n",
            "      n_tracks: type=EagerTensor, shape=(), dtype=tf.int32, device=/job:localhost/replica:0/task:0/device:CPU:0\n"
          ]
        }
      ]
    },
    {
      "cell_type": "code",
      "metadata": {
        "colab": {
          "base_uri": "https://localhost:8080/"
        },
        "id": "ozFr7JQeI22M",
        "outputId": "6d068ce3-46ff-4644-d366-3e4f52c79b9d"
      },
      "source": [
        "# Let's add some transformations necessary for the centered-instance model.\n",
        "p = labels.with_user_labels_only().to_pipeline()\n",
        "p += sleap.pipelines.ImgaugAugmenter.from_config(sleap.pipelines.AugmentationConfig(rotate=True, rotation_min_angle=-180, rotation_max_angle=180))\n",
        "p += sleap.pipelines.Normalizer()\n",
        "p += sleap.pipelines.InstanceCentroidFinder(center_on_anchor_part=True, anchor_part_names=\"thorax\", skeletons=labels.skeletons)\n",
        "p += sleap.pipelines.InstanceCropper(crop_width=160, crop_height=160)\n",
        "p += sleap.pipelines.InstanceConfidenceMapGenerator(sigma=1.5, output_stride=2)\n",
        "p += sleap.pipelines.Batcher(batch_size=4, drop_remainder=True)\n",
        "p.describe()"
      ],
      "execution_count": null,
      "outputs": [
        {
          "output_type": "stream",
          "name": "stdout",
          "text": [
            "          instance_image: type=EagerTensor, shape=(4, 160, 160, 1), dtype=tf.float32, device=/job:localhost/replica:0/task:0/device:CPU:0\n",
            "                    bbox: type=EagerTensor, shape=(4, 4), dtype=tf.float32, device=/job:localhost/replica:0/task:0/device:CPU:0\n",
            "         center_instance: type=EagerTensor, shape=(4, 13, 2), dtype=tf.float32, device=/job:localhost/replica:0/task:0/device:CPU:0\n",
            "     center_instance_ind: type=EagerTensor, shape=(4, 1), dtype=tf.int32, device=/job:localhost/replica:0/task:0/device:CPU:0\n",
            "               track_ind: type=EagerTensor, shape=(4, 1), dtype=tf.int32, device=/job:localhost/replica:0/task:0/device:CPU:0\n",
            "           all_instances: type=EagerTensor, shape=(4, 2, 13, 2), dtype=tf.float32, device=/job:localhost/replica:0/task:0/device:CPU:0\n",
            "                centroid: type=EagerTensor, shape=(4, 2), dtype=tf.float32, device=/job:localhost/replica:0/task:0/device:CPU:0\n",
            "       full_image_height: type=EagerTensor, shape=(4, 1), dtype=tf.int32, device=/job:localhost/replica:0/task:0/device:CPU:0\n",
            "        full_image_width: type=EagerTensor, shape=(4, 1), dtype=tf.int32, device=/job:localhost/replica:0/task:0/device:CPU:0\n",
            "          raw_image_size: type=EagerTensor, shape=(4, 3), dtype=tf.int32, device=/job:localhost/replica:0/task:0/device:CPU:0\n",
            "             example_ind: type=EagerTensor, shape=(4, 1), dtype=tf.int64, device=/job:localhost/replica:0/task:0/device:CPU:0\n",
            "               video_ind: type=EagerTensor, shape=(4, 1), dtype=tf.int32, device=/job:localhost/replica:0/task:0/device:CPU:0\n",
            "               frame_ind: type=EagerTensor, shape=(4, 1), dtype=tf.int64, device=/job:localhost/replica:0/task:0/device:CPU:0\n",
            "                   scale: type=EagerTensor, shape=(4, 2), dtype=tf.float32, device=/job:localhost/replica:0/task:0/device:CPU:0\n",
            "           skeleton_inds: type=EagerTensor, shape=(4, 2), dtype=tf.int32, device=/job:localhost/replica:0/task:0/device:CPU:0\n",
            "              track_inds: type=EagerTensor, shape=(4, 2), dtype=tf.int32, device=/job:localhost/replica:0/task:0/device:CPU:0\n",
            "                n_tracks: type=EagerTensor, shape=(4, 1), dtype=tf.int32, device=/job:localhost/replica:0/task:0/device:CPU:0\n",
            "instance_confidence_maps: type=EagerTensor, shape=(4, 80, 80, 13), dtype=tf.float32, device=/job:localhost/replica:0/task:0/device:CPU:0\n"
          ]
        }
      ]
    },
    {
      "cell_type": "code",
      "source": [
        "# Let's build our validation pipeline.\n",
        "# Note, we didn't include the augmentations.\n",
        "val_p = labels.with_user_labels_only().to_pipeline()\n",
        "val_p += sleap.pipelines.Normalizer()\n",
        "val_p += sleap.pipelines.InstanceCentroidFinder(center_on_anchor_part=True, anchor_part_names=\"thorax\", skeletons=labels.skeletons)\n",
        "val_p += sleap.pipelines.InstanceCropper(crop_width=160, crop_height=160)\n",
        "val_p += sleap.pipelines.InstanceConfidenceMapGenerator(sigma=1.5, output_stride=2)\n",
        "val_p += sleap.pipelines.Batcher(batch_size=4, drop_remainder=True)\n",
        "val_p.describe()"
      ],
      "metadata": {
        "colab": {
          "base_uri": "https://localhost:8080/"
        },
        "id": "lJRdies-tWuK",
        "outputId": "1aeaadd8-5265-417f-ed6e-370b5267a56c"
      },
      "execution_count": null,
      "outputs": [
        {
          "output_type": "stream",
          "name": "stdout",
          "text": [
            "          instance_image: type=EagerTensor, shape=(4, 160, 160, 1), dtype=tf.float32, device=/job:localhost/replica:0/task:0/device:CPU:0\n",
            "                    bbox: type=EagerTensor, shape=(4, 4), dtype=tf.float32, device=/job:localhost/replica:0/task:0/device:CPU:0\n",
            "         center_instance: type=EagerTensor, shape=(4, 13, 2), dtype=tf.float32, device=/job:localhost/replica:0/task:0/device:CPU:0\n",
            "     center_instance_ind: type=EagerTensor, shape=(4, 1), dtype=tf.int32, device=/job:localhost/replica:0/task:0/device:CPU:0\n",
            "               track_ind: type=EagerTensor, shape=(4, 1), dtype=tf.int32, device=/job:localhost/replica:0/task:0/device:CPU:0\n",
            "           all_instances: type=EagerTensor, shape=(4, 2, 13, 2), dtype=tf.float32, device=/job:localhost/replica:0/task:0/device:CPU:0\n",
            "                centroid: type=EagerTensor, shape=(4, 2), dtype=tf.float32, device=/job:localhost/replica:0/task:0/device:CPU:0\n",
            "       full_image_height: type=EagerTensor, shape=(4, 1), dtype=tf.int32, device=/job:localhost/replica:0/task:0/device:CPU:0\n",
            "        full_image_width: type=EagerTensor, shape=(4, 1), dtype=tf.int32, device=/job:localhost/replica:0/task:0/device:CPU:0\n",
            "          raw_image_size: type=EagerTensor, shape=(4, 3), dtype=tf.int32, device=/job:localhost/replica:0/task:0/device:CPU:0\n",
            "             example_ind: type=EagerTensor, shape=(4, 1), dtype=tf.int64, device=/job:localhost/replica:0/task:0/device:CPU:0\n",
            "               video_ind: type=EagerTensor, shape=(4, 1), dtype=tf.int32, device=/job:localhost/replica:0/task:0/device:CPU:0\n",
            "               frame_ind: type=EagerTensor, shape=(4, 1), dtype=tf.int64, device=/job:localhost/replica:0/task:0/device:CPU:0\n",
            "                   scale: type=EagerTensor, shape=(4, 2), dtype=tf.float32, device=/job:localhost/replica:0/task:0/device:CPU:0\n",
            "           skeleton_inds: type=EagerTensor, shape=(4, 2), dtype=tf.int32, device=/job:localhost/replica:0/task:0/device:CPU:0\n",
            "              track_inds: type=EagerTensor, shape=(4, 2), dtype=tf.int32, device=/job:localhost/replica:0/task:0/device:CPU:0\n",
            "                n_tracks: type=EagerTensor, shape=(4, 1), dtype=tf.int32, device=/job:localhost/replica:0/task:0/device:CPU:0\n",
            "instance_confidence_maps: type=EagerTensor, shape=(4, 80, 80, 13), dtype=tf.float32, device=/job:localhost/replica:0/task:0/device:CPU:0\n"
          ]
        }
      ]
    },
    {
      "cell_type": "markdown",
      "metadata": {
        "id": "0yo95XzRKkba"
      },
      "source": [
        "# Setting up a neural network model"
      ]
    },
    {
      "cell_type": "code",
      "metadata": {
        "colab": {
          "base_uri": "https://localhost:8080/"
        },
        "id": "kjshAqdqKyUI",
        "outputId": "6fd52c24-b681-43b3-bb14-a1c16329b1df"
      },
      "source": [
        "# Instantiate the backbone builder.\n",
        "unet = sleap.nn.architectures.unet.UNet(filters=32, filters_rate=1.5, down_blocks=4, up_blocks=3, up_interpolate=True)\n",
        "\n",
        "# Create the input layer (see above for the dimensions)\n",
        "x_in = tf.keras.layers.Input((160, 160, 1))\n",
        "\n",
        "# Create the feature extractor backbone.\n",
        "x_features, x_intermediate = unet.make_backbone(x_in)\n",
        "\n",
        "# Do a 1x1 conv with linear activation to remap activations to the number of channels in\n",
        "# the confidence maps (see above)\n",
        "x_confmaps = tf.keras.layers.Conv2D(filters=13, kernel_size=1, strides=1, padding=\"same\")(x_features)\n",
        "\n",
        "# Create a Model that links the whole graph\n",
        "model = tf.keras.Model(x_in, x_confmaps)\n",
        "model.summary()"
      ],
      "execution_count": null,
      "outputs": [
        {
          "output_type": "stream",
          "name": "stdout",
          "text": [
            "Model: \"model\"\n",
            "__________________________________________________________________________________________________\n",
            " Layer (type)                   Output Shape         Param #     Connected to                     \n",
            "==================================================================================================\n",
            " input_1 (InputLayer)           [(None, 160, 160, 1  0           []                               \n",
            "                                )]                                                                \n",
            "                                                                                                  \n",
            " stack0_enc0_conv0 (Conv2D)     (None, 160, 160, 32  320         ['input_1[0][0]']                \n",
            "                                )                                                                 \n",
            "                                                                                                  \n",
            " stack0_enc0_act0_relu (Activat  (None, 160, 160, 32  0          ['stack0_enc0_conv0[0][0]']      \n",
            " ion)                           )                                                                 \n",
            "                                                                                                  \n",
            " stack0_enc0_conv1 (Conv2D)     (None, 160, 160, 32  9248        ['stack0_enc0_act0_relu[0][0]']  \n",
            "                                )                                                                 \n",
            "                                                                                                  \n",
            " stack0_enc0_act1_relu (Activat  (None, 160, 160, 32  0          ['stack0_enc0_conv1[0][0]']      \n",
            " ion)                           )                                                                 \n",
            "                                                                                                  \n",
            " stack0_enc1_pool (MaxPooling2D  (None, 80, 80, 32)  0           ['stack0_enc0_act1_relu[0][0]']  \n",
            " )                                                                                                \n",
            "                                                                                                  \n",
            " stack0_enc1_conv0 (Conv2D)     (None, 80, 80, 48)   13872       ['stack0_enc1_pool[0][0]']       \n",
            "                                                                                                  \n",
            " stack0_enc1_act0_relu (Activat  (None, 80, 80, 48)  0           ['stack0_enc1_conv0[0][0]']      \n",
            " ion)                                                                                             \n",
            "                                                                                                  \n",
            " stack0_enc1_conv1 (Conv2D)     (None, 80, 80, 48)   20784       ['stack0_enc1_act0_relu[0][0]']  \n",
            "                                                                                                  \n",
            " stack0_enc1_act1_relu (Activat  (None, 80, 80, 48)  0           ['stack0_enc1_conv1[0][0]']      \n",
            " ion)                                                                                             \n",
            "                                                                                                  \n",
            " stack0_enc2_pool (MaxPooling2D  (None, 40, 40, 48)  0           ['stack0_enc1_act1_relu[0][0]']  \n",
            " )                                                                                                \n",
            "                                                                                                  \n",
            " stack0_enc2_conv0 (Conv2D)     (None, 40, 40, 72)   31176       ['stack0_enc2_pool[0][0]']       \n",
            "                                                                                                  \n",
            " stack0_enc2_act0_relu (Activat  (None, 40, 40, 72)  0           ['stack0_enc2_conv0[0][0]']      \n",
            " ion)                                                                                             \n",
            "                                                                                                  \n",
            " stack0_enc2_conv1 (Conv2D)     (None, 40, 40, 72)   46728       ['stack0_enc2_act0_relu[0][0]']  \n",
            "                                                                                                  \n",
            " stack0_enc2_act1_relu (Activat  (None, 40, 40, 72)  0           ['stack0_enc2_conv1[0][0]']      \n",
            " ion)                                                                                             \n",
            "                                                                                                  \n",
            " stack0_enc3_pool (MaxPooling2D  (None, 20, 20, 72)  0           ['stack0_enc2_act1_relu[0][0]']  \n",
            " )                                                                                                \n",
            "                                                                                                  \n",
            " stack0_enc3_conv0 (Conv2D)     (None, 20, 20, 108)  70092       ['stack0_enc3_pool[0][0]']       \n",
            "                                                                                                  \n",
            " stack0_enc3_act0_relu (Activat  (None, 20, 20, 108)  0          ['stack0_enc3_conv0[0][0]']      \n",
            " ion)                                                                                             \n",
            "                                                                                                  \n",
            " stack0_enc3_conv1 (Conv2D)     (None, 20, 20, 108)  105084      ['stack0_enc3_act0_relu[0][0]']  \n",
            "                                                                                                  \n",
            " stack0_enc3_act1_relu (Activat  (None, 20, 20, 108)  0          ['stack0_enc3_conv1[0][0]']      \n",
            " ion)                                                                                             \n",
            "                                                                                                  \n",
            " stack0_enc4_last_pool (MaxPool  (None, 10, 10, 108)  0          ['stack0_enc3_act1_relu[0][0]']  \n",
            " ing2D)                                                                                           \n",
            "                                                                                                  \n",
            " stack0_enc5_middle_expand_conv  (None, 10, 10, 162)  157626     ['stack0_enc4_last_pool[0][0]']  \n",
            " 0 (Conv2D)                                                                                       \n",
            "                                                                                                  \n",
            " stack0_enc5_middle_expand_act0  (None, 10, 10, 162)  0          ['stack0_enc5_middle_expand_conv0\n",
            " _relu (Activation)                                              [0][0]']                         \n",
            "                                                                                                  \n",
            " stack0_enc6_middle_contract_co  (None, 10, 10, 162)  236358     ['stack0_enc5_middle_expand_act0_\n",
            " nv0 (Conv2D)                                                    relu[0][0]']                     \n",
            "                                                                                                  \n",
            " stack0_enc6_middle_contract_ac  (None, 10, 10, 162)  0          ['stack0_enc6_middle_contract_con\n",
            " t0_relu (Activation)                                            v0[0][0]']                       \n",
            "                                                                                                  \n",
            " stack0_dec0_s16_to_s8_interp_b  (None, 20, 20, 162)  0          ['stack0_enc6_middle_contract_act\n",
            " ilinear (UpSampling2D)                                          0_relu[0][0]']                   \n",
            "                                                                                                  \n",
            " stack0_dec0_s16_to_s8_skip_con  (None, 20, 20, 270)  0          ['stack0_enc3_act1_relu[0][0]',  \n",
            " cat (Concatenate)                                                'stack0_dec0_s16_to_s8_interp_bi\n",
            "                                                                 linear[0][0]']                   \n",
            "                                                                                                  \n",
            " stack0_dec0_s16_to_s8_refine_c  (None, 20, 20, 108)  262548     ['stack0_dec0_s16_to_s8_skip_conc\n",
            " onv0 (Conv2D)                                                   at[0][0]']                       \n",
            "                                                                                                  \n",
            " stack0_dec0_s16_to_s8_refine_c  (None, 20, 20, 108)  0          ['stack0_dec0_s16_to_s8_refine_co\n",
            " onv0_act_relu (Activation)                                      nv0[0][0]']                      \n",
            "                                                                                                  \n",
            " stack0_dec0_s16_to_s8_refine_c  (None, 20, 20, 108)  105084     ['stack0_dec0_s16_to_s8_refine_co\n",
            " onv1 (Conv2D)                                                   nv0_act_relu[0][0]']             \n",
            "                                                                                                  \n",
            " stack0_dec0_s16_to_s8_refine_c  (None, 20, 20, 108)  0          ['stack0_dec0_s16_to_s8_refine_co\n",
            " onv1_act_relu (Activation)                                      nv1[0][0]']                      \n",
            "                                                                                                  \n",
            " stack0_dec1_s8_to_s4_interp_bi  (None, 40, 40, 108)  0          ['stack0_dec0_s16_to_s8_refine_co\n",
            " linear (UpSampling2D)                                           nv1_act_relu[0][0]']             \n",
            "                                                                                                  \n",
            " stack0_dec1_s8_to_s4_skip_conc  (None, 40, 40, 180)  0          ['stack0_enc2_act1_relu[0][0]',  \n",
            " at (Concatenate)                                                 'stack0_dec1_s8_to_s4_interp_bil\n",
            "                                                                 inear[0][0]']                    \n",
            "                                                                                                  \n",
            " stack0_dec1_s8_to_s4_refine_co  (None, 40, 40, 72)  116712      ['stack0_dec1_s8_to_s4_skip_conca\n",
            " nv0 (Conv2D)                                                    t[0][0]']                        \n",
            "                                                                                                  \n",
            " stack0_dec1_s8_to_s4_refine_co  (None, 40, 40, 72)  0           ['stack0_dec1_s8_to_s4_refine_con\n",
            " nv0_act_relu (Activation)                                       v0[0][0]']                       \n",
            "                                                                                                  \n",
            " stack0_dec1_s8_to_s4_refine_co  (None, 40, 40, 72)  46728       ['stack0_dec1_s8_to_s4_refine_con\n",
            " nv1 (Conv2D)                                                    v0_act_relu[0][0]']              \n",
            "                                                                                                  \n",
            " stack0_dec1_s8_to_s4_refine_co  (None, 40, 40, 72)  0           ['stack0_dec1_s8_to_s4_refine_con\n",
            " nv1_act_relu (Activation)                                       v1[0][0]']                       \n",
            "                                                                                                  \n",
            " stack0_dec2_s4_to_s2_interp_bi  (None, 80, 80, 72)  0           ['stack0_dec1_s8_to_s4_refine_con\n",
            " linear (UpSampling2D)                                           v1_act_relu[0][0]']              \n",
            "                                                                                                  \n",
            " stack0_dec2_s4_to_s2_skip_conc  (None, 80, 80, 120)  0          ['stack0_enc1_act1_relu[0][0]',  \n",
            " at (Concatenate)                                                 'stack0_dec2_s4_to_s2_interp_bil\n",
            "                                                                 inear[0][0]']                    \n",
            "                                                                                                  \n",
            " stack0_dec2_s4_to_s2_refine_co  (None, 80, 80, 48)  51888       ['stack0_dec2_s4_to_s2_skip_conca\n",
            " nv0 (Conv2D)                                                    t[0][0]']                        \n",
            "                                                                                                  \n",
            " stack0_dec2_s4_to_s2_refine_co  (None, 80, 80, 48)  0           ['stack0_dec2_s4_to_s2_refine_con\n",
            " nv0_act_relu (Activation)                                       v0[0][0]']                       \n",
            "                                                                                                  \n",
            " stack0_dec2_s4_to_s2_refine_co  (None, 80, 80, 48)  20784       ['stack0_dec2_s4_to_s2_refine_con\n",
            " nv1 (Conv2D)                                                    v0_act_relu[0][0]']              \n",
            "                                                                                                  \n",
            " stack0_dec2_s4_to_s2_refine_co  (None, 80, 80, 48)  0           ['stack0_dec2_s4_to_s2_refine_con\n",
            " nv1_act_relu (Activation)                                       v1[0][0]']                       \n",
            "                                                                                                  \n",
            " conv2d (Conv2D)                (None, 80, 80, 13)   637         ['stack0_dec2_s4_to_s2_refine_con\n",
            "                                                                 v1_act_relu[0][0]']              \n",
            "                                                                                                  \n",
            "==================================================================================================\n",
            "Total params: 1,295,669\n",
            "Trainable params: 1,295,669\n",
            "Non-trainable params: 0\n",
            "__________________________________________________________________________________________________\n"
          ]
        }
      ]
    },
    {
      "cell_type": "markdown",
      "metadata": {
        "id": "gEfgZT4hLyW4"
      },
      "source": [
        "# Train the model"
      ]
    },
    {
      "cell_type": "code",
      "metadata": {
        "id": "3IKZi6FRL5e_"
      },
      "source": [
        "# Setup the optimizer and loss function.\n",
        "optimizer = tf.keras.optimizers.Adam(learning_rate=1e-4)\n",
        "loss_fn = tf.keras.losses.MeanSquaredError()\n",
        "\n",
        "# Define a \"training step\" function. This does the forward/backward passes and applies\n",
        "# the gradients to update the model weights.\n",
        "@tf.function\n",
        "def train_step(ex, model, optimizer, loss_fn):\n",
        "    with tf.GradientTape() as tape:\n",
        "        predicted_confmaps = model(ex[\"instance_image\"])\n",
        "        loss = loss_fn(ex[\"instance_confidence_maps\"], predicted_confmaps)\n",
        "\n",
        "    grads = tape.gradient(loss, model.trainable_weights)\n",
        "    optimizer.apply_gradients(zip(grads, model.trainable_weights))\n",
        "\n",
        "    return loss\n",
        "\n",
        "@tf.function\n",
        "def val_step(ex, model, loss_fn):\n",
        "    predicted_confmaps = model(ex[\"instance_image\"])\n",
        "    loss = loss_fn(ex[\"instance_confidence_maps\"], predicted_confmaps)\n",
        "\n",
        "    return loss"
      ],
      "execution_count": null,
      "outputs": []
    },
    {
      "cell_type": "code",
      "source": [
        "!pip freeze > requirements.txt\n",
        "\n",
        "# Some of this code is redundant. I kept the previous cells un-deleted just for reference.\n",
        "for i in range(5):\n",
        "    @tf.function\n",
        "    def train_step(ex, model, optimizer, loss_fn):\n",
        "        with tf.GradientTape() as tape:\n",
        "            predicted_confmaps = model(ex[\"instance_image\"])\n",
        "            loss = loss_fn(ex[\"instance_confidence_maps\"], predicted_confmaps)\n",
        "\n",
        "        grads = tape.gradient(loss, model.trainable_weights)\n",
        "        optimizer.apply_gradients(zip(grads, model.trainable_weights))\n",
        "\n",
        "        return loss\n",
        "\n",
        "    @tf.function\n",
        "    def val_step(ex, model, loss_fn):\n",
        "        predicted_confmaps = model(ex[\"instance_image\"])\n",
        "        loss = loss_fn(ex[\"instance_confidence_maps\"], predicted_confmaps)\n",
        "\n",
        "        return loss\n",
        "\n",
        "    unet = sleap.nn.architectures.unet.UNet(filters=32, filters_rate=1.5, down_blocks=4, up_blocks=3, up_interpolate=True)\n",
        "    x_in = tf.keras.layers.Input((160, 160, 1))\n",
        "    x_features, x_intermediate = unet.make_backbone(x_in)\n",
        "    x_confmaps = tf.keras.layers.Conv2D(filters=13, kernel_size=1, strides=1, padding=\"same\")(x_features)\n",
        "    model = tf.keras.Model(x_in, x_confmaps)\n",
        "\n",
        "    optimizer = tf.keras.optimizers.Adam(learning_rate=1e-4)\n",
        "    loss_fn = tf.keras.losses.MeanSquaredError()\n",
        "\n",
        "    run = wandb.init(\n",
        "        project=\"torch_vs_tf_talmo_lab\", \n",
        "        name=f\"tf_baseline_run{i}\", \n",
        "        config={\n",
        "            \"device_and_memory\": get_vram(),\n",
        "            \"seed\": seed,\n",
        "            \"model_param_count\": get_param_count(model)\n",
        "        }, \n",
        "        tags=[\"baseline\"],\n",
        "        notes=\"This experiment was done in a Google Colab Notebook.\"\n",
        "    )\n",
        "\n",
        "    # Log dependencies.\n",
        "    artifact = wandb.Artifact(\"Dependencies\", type=\"dependencies\")\n",
        "    artifact.add_file(\"requirements.txt\", name=f\"requirements.txt\")\n",
        "    run.log_artifact(artifact)\n",
        "\n",
        "    # Training loop, go!\n",
        "    epochs = 3\n",
        "    for epoch in range(epochs):\n",
        "        start_time = time.time()\n",
        "        train_loss = 0\n",
        "        for step, ex in enumerate(p.make_dataset()):\n",
        "            loss = train_step(ex, model, optimizer, loss_fn)\n",
        "\n",
        "            if step % 100 == 0:\n",
        "                print(f\"Epoch {epoch:03d} | Step {step:03d} | loss = {loss:.5f}\")\n",
        "\n",
        "            train_loss += loss\n",
        "\n",
        "        train_loss /= (step+1)\n",
        "        train_time = time.time() - start_time\n",
        "        print(f\"TRAIN: --- {train_time}s seconds ---\")\n",
        "\n",
        "        start_time = time.time()\n",
        "        val_loss = 0\n",
        "        for step, ex in enumerate(val_p.make_dataset()):\n",
        "            loss = val_step(ex, model, loss_fn)\n",
        "            val_loss += loss\n",
        "\n",
        "        val_loss /= (step+1)\n",
        "        val_time = time.time() - start_time\n",
        "        print(f\"VAL: --- {val_time}s seconds ---\")\n",
        "\n",
        "        run.log({\n",
        "            \"train_loss\": train_loss,\n",
        "            \"val_loss\": val_loss,\n",
        "            \"train_time\": train_time,\n",
        "            \"val_time\": val_time,\n",
        "            \"total_time\": train_time + val_time\n",
        "        })\n",
        "\n",
        "    del model, optimizer, loss_fn, unet, x_in, x_features, x_intermediate, x_confmaps\n",
        "    gc.collect()\n",
        "    run.finish()"
      ],
      "metadata": {
        "colab": {
          "base_uri": "https://localhost:8080/",
          "height": 1000,
          "referenced_widgets": [
            "5050bfa7c43c4fa0b9b7f3bc53a1940c",
            "2f5091017db543529e404e1aef4f6b98",
            "265e62f57e7e443b9f382871e7562fd9",
            "93874057cef4491db28b8aa73f3d1ab2",
            "dd394f6c2bfc404d8a5aecea48f192a8",
            "fe9fca6c48624f4a81bb8f90dc7bf260",
            "de8922f228da47ee84a840e1c013ba49",
            "eff4d951129547de99f664ea63ce56a2",
            "0815ea409c1f4b06b8a25e26506b19ff",
            "9541a4007bd54089a93f416c86429dce",
            "f5cd5247bdf046ee958148364e82442d",
            "62aeddfbefd945478d73d1323cf6cf06",
            "5d3c32497f5b42819328086d9f8e3091",
            "ca8fe55362cd43539d1e017936297d27",
            "f23d1a0ff96f4007ace997cb89f94a55",
            "45492085e55a4f06b3ba5d1263c8212e",
            "96e2fda644bf422789d869e6d564d1ab",
            "d47d7cd318c74fb4b4d64bf5dfa31324",
            "4573efdd7d484afb83908283d123b61f",
            "933246f857404c66a1e11974f513d2e0",
            "b48d8c0deec64acab9ce853b0c667dc8",
            "8450c7548a0e4911861b4f3a0d5d3aaf",
            "6cddc73c70fb4a8f9f1a3910871c19f6",
            "ceb11aa1e94941eda96eb5693487a2ee",
            "416f60eaad0a41a58bbf563a7bf478da",
            "a91f01de3a7846f7ac54daa91578073e",
            "3ed65c4130ef4ea29456aba7be4a2963",
            "0ab12d5585d24d4ba24102698d17ed30",
            "33b5238d947c4522926309832172eac6",
            "961af572887443c39d2d06a2d88aa309",
            "815ea60e0438496f912d4ef7ffa17ab4",
            "4330c7ec736b49668d83dc3e8506409b"
          ]
        },
        "id": "goZvpYV8Xe0l",
        "outputId": "2840d714-a02c-406e-d12a-4e6b1d2292dd"
      },
      "execution_count": null,
      "outputs": [
        {
          "output_type": "stream",
          "name": "stderr",
          "text": [
            "\u001b[34m\u001b[1mwandb\u001b[0m: Currently logged in as: \u001b[33mvincenttu\u001b[0m. Use \u001b[1m`wandb login --relogin`\u001b[0m to force relogin\n"
          ]
        },
        {
          "output_type": "display_data",
          "data": {
            "text/plain": [
              "<IPython.core.display.HTML object>"
            ],
            "text/html": [
              "Tracking run with wandb version 0.15.2"
            ]
          },
          "metadata": {}
        },
        {
          "output_type": "display_data",
          "data": {
            "text/plain": [
              "<IPython.core.display.HTML object>"
            ],
            "text/html": [
              "Run data is saved locally in <code>/content/wandb/run-20230511_043301-xx5msq4v</code>"
            ]
          },
          "metadata": {}
        },
        {
          "output_type": "display_data",
          "data": {
            "text/plain": [
              "<IPython.core.display.HTML object>"
            ],
            "text/html": [
              "Syncing run <strong><a href='https://wandb.ai/vincenttu/torch_vs_tf_talmo_lab/runs/xx5msq4v' target=\"_blank\">tf_baseline_run0</a></strong> to <a href='https://wandb.ai/vincenttu/torch_vs_tf_talmo_lab' target=\"_blank\">Weights & Biases</a> (<a href='https://wandb.me/run' target=\"_blank\">docs</a>)<br/>"
            ]
          },
          "metadata": {}
        },
        {
          "output_type": "display_data",
          "data": {
            "text/plain": [
              "<IPython.core.display.HTML object>"
            ],
            "text/html": [
              " View project at <a href='https://wandb.ai/vincenttu/torch_vs_tf_talmo_lab' target=\"_blank\">https://wandb.ai/vincenttu/torch_vs_tf_talmo_lab</a>"
            ]
          },
          "metadata": {}
        },
        {
          "output_type": "display_data",
          "data": {
            "text/plain": [
              "<IPython.core.display.HTML object>"
            ],
            "text/html": [
              " View run at <a href='https://wandb.ai/vincenttu/torch_vs_tf_talmo_lab/runs/xx5msq4v' target=\"_blank\">https://wandb.ai/vincenttu/torch_vs_tf_talmo_lab/runs/xx5msq4v</a>"
            ]
          },
          "metadata": {}
        },
        {
          "output_type": "stream",
          "name": "stdout",
          "text": [
            "Epoch 000 | Step 000 | loss = 0.00122\n",
            "Epoch 000 | Step 100 | loss = 0.00094\n",
            "Epoch 000 | Step 200 | loss = 0.00104\n",
            "Epoch 000 | Step 300 | loss = 0.00103\n",
            "Epoch 000 | Step 400 | loss = 0.00100\n",
            "Epoch 000 | Step 500 | loss = 0.00098\n",
            "Epoch 000 | Step 600 | loss = 0.00093\n",
            "Epoch 000 | Step 700 | loss = 0.00093\n",
            "TRAIN: --- 83.46495270729065s seconds ---\n",
            "VAL: --- 39.868571758270264s seconds ---\n",
            "Epoch 001 | Step 000 | loss = 0.00080\n",
            "Epoch 001 | Step 100 | loss = 0.00077\n",
            "Epoch 001 | Step 200 | loss = 0.00072\n",
            "Epoch 001 | Step 300 | loss = 0.00068\n",
            "Epoch 001 | Step 400 | loss = 0.00072\n",
            "Epoch 001 | Step 500 | loss = 0.00069\n",
            "Epoch 001 | Step 600 | loss = 0.00082\n",
            "Epoch 001 | Step 700 | loss = 0.00068\n",
            "TRAIN: --- 60.24529242515564s seconds ---\n",
            "VAL: --- 43.027061462402344s seconds ---\n",
            "Epoch 002 | Step 000 | loss = 0.00060\n",
            "Epoch 002 | Step 100 | loss = 0.00067\n",
            "Epoch 002 | Step 200 | loss = 0.00049\n",
            "Epoch 002 | Step 300 | loss = 0.00050\n",
            "Epoch 002 | Step 400 | loss = 0.00061\n",
            "Epoch 002 | Step 500 | loss = 0.00054\n",
            "Epoch 002 | Step 600 | loss = 0.00079\n",
            "Epoch 002 | Step 700 | loss = 0.00060\n",
            "TRAIN: --- 83.38324189186096s seconds ---\n",
            "VAL: --- 38.74066162109375s seconds ---\n"
          ]
        },
        {
          "output_type": "display_data",
          "data": {
            "text/plain": [
              "<IPython.core.display.HTML object>"
            ],
            "text/html": [
              "Waiting for W&B process to finish... <strong style=\"color:green\">(success).</strong>"
            ]
          },
          "metadata": {}
        },
        {
          "output_type": "display_data",
          "data": {
            "text/plain": [
              "VBox(children=(Label(value='0.010 MB of 0.010 MB uploaded (0.000 MB deduped)\\r'), FloatProgress(value=1.0, max…"
            ],
            "application/vnd.jupyter.widget-view+json": {
              "version_major": 2,
              "version_minor": 0,
              "model_id": "5050bfa7c43c4fa0b9b7f3bc53a1940c"
            }
          },
          "metadata": {}
        },
        {
          "output_type": "display_data",
          "data": {
            "text/plain": [
              "<IPython.core.display.HTML object>"
            ],
            "text/html": [
              "<style>\n",
              "    table.wandb td:nth-child(1) { padding: 0 10px; text-align: left ; width: auto;} td:nth-child(2) {text-align: left ; width: 100%}\n",
              "    .wandb-row { display: flex; flex-direction: row; flex-wrap: wrap; justify-content: flex-start; width: 100% }\n",
              "    .wandb-col { display: flex; flex-direction: column; flex-basis: 100%; flex: 1; padding: 10px; }\n",
              "    </style>\n",
              "<div class=\"wandb-row\"><div class=\"wandb-col\"><h3>Run history:</h3><br/><table class=\"wandb\"><tr><td>total_time</td><td>█▁█</td></tr><tr><td>train_loss</td><td>█▄▁</td></tr><tr><td>train_time</td><td>█▁█</td></tr><tr><td>val_loss</td><td>█▄▁</td></tr><tr><td>val_time</td><td>▃█▁</td></tr></table><br/></div><div class=\"wandb-col\"><h3>Run summary:</h3><br/><table class=\"wandb\"><tr><td>total_time</td><td>122.1239</td></tr><tr><td>train_loss</td><td>0.00056</td></tr><tr><td>train_time</td><td>83.38324</td></tr><tr><td>val_loss</td><td>0.0005</td></tr><tr><td>val_time</td><td>38.74066</td></tr></table><br/></div></div>"
            ]
          },
          "metadata": {}
        },
        {
          "output_type": "display_data",
          "data": {
            "text/plain": [
              "<IPython.core.display.HTML object>"
            ],
            "text/html": [
              " View run <strong style=\"color:#cdcd00\">tf_baseline_run0</strong> at: <a href='https://wandb.ai/vincenttu/torch_vs_tf_talmo_lab/runs/xx5msq4v' target=\"_blank\">https://wandb.ai/vincenttu/torch_vs_tf_talmo_lab/runs/xx5msq4v</a><br/>Synced 5 W&B file(s), 0 media file(s), 1 artifact file(s) and 0 other file(s)"
            ]
          },
          "metadata": {}
        },
        {
          "output_type": "display_data",
          "data": {
            "text/plain": [
              "<IPython.core.display.HTML object>"
            ],
            "text/html": [
              "Find logs at: <code>./wandb/run-20230511_043301-xx5msq4v/logs</code>"
            ]
          },
          "metadata": {}
        },
        {
          "output_type": "display_data",
          "data": {
            "text/plain": [
              "<IPython.core.display.HTML object>"
            ],
            "text/html": [
              "Tracking run with wandb version 0.15.2"
            ]
          },
          "metadata": {}
        },
        {
          "output_type": "display_data",
          "data": {
            "text/plain": [
              "<IPython.core.display.HTML object>"
            ],
            "text/html": [
              "Run data is saved locally in <code>/content/wandb/run-20230511_043857-11jc0au8</code>"
            ]
          },
          "metadata": {}
        },
        {
          "output_type": "display_data",
          "data": {
            "text/plain": [
              "<IPython.core.display.HTML object>"
            ],
            "text/html": [
              "Syncing run <strong><a href='https://wandb.ai/vincenttu/torch_vs_tf_talmo_lab/runs/11jc0au8' target=\"_blank\">tf_baseline_run1</a></strong> to <a href='https://wandb.ai/vincenttu/torch_vs_tf_talmo_lab' target=\"_blank\">Weights & Biases</a> (<a href='https://wandb.me/run' target=\"_blank\">docs</a>)<br/>"
            ]
          },
          "metadata": {}
        },
        {
          "output_type": "display_data",
          "data": {
            "text/plain": [
              "<IPython.core.display.HTML object>"
            ],
            "text/html": [
              " View project at <a href='https://wandb.ai/vincenttu/torch_vs_tf_talmo_lab' target=\"_blank\">https://wandb.ai/vincenttu/torch_vs_tf_talmo_lab</a>"
            ]
          },
          "metadata": {}
        },
        {
          "output_type": "display_data",
          "data": {
            "text/plain": [
              "<IPython.core.display.HTML object>"
            ],
            "text/html": [
              " View run at <a href='https://wandb.ai/vincenttu/torch_vs_tf_talmo_lab/runs/11jc0au8' target=\"_blank\">https://wandb.ai/vincenttu/torch_vs_tf_talmo_lab/runs/11jc0au8</a>"
            ]
          },
          "metadata": {}
        },
        {
          "output_type": "stream",
          "name": "stdout",
          "text": [
            "Epoch 000 | Step 000 | loss = 0.00113\n",
            "Epoch 000 | Step 100 | loss = 0.00093\n",
            "Epoch 000 | Step 200 | loss = 0.00102\n",
            "Epoch 000 | Step 300 | loss = 0.00099\n",
            "Epoch 000 | Step 400 | loss = 0.00097\n",
            "Epoch 000 | Step 500 | loss = 0.00097\n",
            "Epoch 000 | Step 600 | loss = 0.00094\n",
            "Epoch 000 | Step 700 | loss = 0.00088\n",
            "TRAIN: --- 62.66209530830383s seconds ---\n",
            "VAL: --- 38.92150664329529s seconds ---\n",
            "Epoch 001 | Step 000 | loss = 0.00077\n",
            "Epoch 001 | Step 100 | loss = 0.00073\n",
            "Epoch 001 | Step 200 | loss = 0.00064\n",
            "Epoch 001 | Step 300 | loss = 0.00063\n",
            "Epoch 001 | Step 400 | loss = 0.00069\n",
            "Epoch 001 | Step 500 | loss = 0.00063\n",
            "Epoch 001 | Step 600 | loss = 0.00081\n",
            "Epoch 001 | Step 700 | loss = 0.00064\n",
            "TRAIN: --- 60.06672668457031s seconds ---\n",
            "VAL: --- 38.094924211502075s seconds ---\n",
            "Epoch 002 | Step 000 | loss = 0.00053\n",
            "Epoch 002 | Step 100 | loss = 0.00060\n",
            "Epoch 002 | Step 200 | loss = 0.00040\n",
            "Epoch 002 | Step 300 | loss = 0.00044\n",
            "Epoch 002 | Step 400 | loss = 0.00063\n",
            "Epoch 002 | Step 500 | loss = 0.00046\n",
            "Epoch 002 | Step 600 | loss = 0.00079\n",
            "Epoch 002 | Step 700 | loss = 0.00050\n",
            "TRAIN: --- 83.37656760215759s seconds ---\n",
            "VAL: --- 42.31272888183594s seconds ---\n"
          ]
        },
        {
          "output_type": "display_data",
          "data": {
            "text/plain": [
              "<IPython.core.display.HTML object>"
            ],
            "text/html": [
              "Waiting for W&B process to finish... <strong style=\"color:green\">(success).</strong>"
            ]
          },
          "metadata": {}
        },
        {
          "output_type": "display_data",
          "data": {
            "text/plain": [
              "<IPython.core.display.HTML object>"
            ],
            "text/html": [
              "<style>\n",
              "    table.wandb td:nth-child(1) { padding: 0 10px; text-align: left ; width: auto;} td:nth-child(2) {text-align: left ; width: 100%}\n",
              "    .wandb-row { display: flex; flex-direction: row; flex-wrap: wrap; justify-content: flex-start; width: 100% }\n",
              "    .wandb-col { display: flex; flex-direction: column; flex-basis: 100%; flex: 1; padding: 10px; }\n",
              "    </style>\n",
              "<div class=\"wandb-row\"><div class=\"wandb-col\"><h3>Run history:</h3><br/><table class=\"wandb\"><tr><td>total_time</td><td>▂▁█</td></tr><tr><td>train_loss</td><td>█▄▁</td></tr><tr><td>train_time</td><td>▂▁█</td></tr><tr><td>val_loss</td><td>█▄▁</td></tr><tr><td>val_time</td><td>▂▁█</td></tr></table><br/></div><div class=\"wandb-col\"><h3>Run summary:</h3><br/><table class=\"wandb\"><tr><td>total_time</td><td>125.6893</td></tr><tr><td>train_loss</td><td>0.00049</td></tr><tr><td>train_time</td><td>83.37657</td></tr><tr><td>val_loss</td><td>0.00045</td></tr><tr><td>val_time</td><td>42.31273</td></tr></table><br/></div></div>"
            ]
          },
          "metadata": {}
        },
        {
          "output_type": "display_data",
          "data": {
            "text/plain": [
              "<IPython.core.display.HTML object>"
            ],
            "text/html": [
              " View run <strong style=\"color:#cdcd00\">tf_baseline_run1</strong> at: <a href='https://wandb.ai/vincenttu/torch_vs_tf_talmo_lab/runs/11jc0au8' target=\"_blank\">https://wandb.ai/vincenttu/torch_vs_tf_talmo_lab/runs/11jc0au8</a><br/>Synced 5 W&B file(s), 0 media file(s), 0 artifact file(s) and 0 other file(s)"
            ]
          },
          "metadata": {}
        },
        {
          "output_type": "display_data",
          "data": {
            "text/plain": [
              "<IPython.core.display.HTML object>"
            ],
            "text/html": [
              "Find logs at: <code>./wandb/run-20230511_043857-11jc0au8/logs</code>"
            ]
          },
          "metadata": {}
        },
        {
          "output_type": "display_data",
          "data": {
            "text/plain": [
              "<IPython.core.display.HTML object>"
            ],
            "text/html": [
              "Tracking run with wandb version 0.15.2"
            ]
          },
          "metadata": {}
        },
        {
          "output_type": "display_data",
          "data": {
            "text/plain": [
              "<IPython.core.display.HTML object>"
            ],
            "text/html": [
              "Run data is saved locally in <code>/content/wandb/run-20230511_044433-1axoc6vf</code>"
            ]
          },
          "metadata": {}
        },
        {
          "output_type": "display_data",
          "data": {
            "text/plain": [
              "<IPython.core.display.HTML object>"
            ],
            "text/html": [
              "Syncing run <strong><a href='https://wandb.ai/vincenttu/torch_vs_tf_talmo_lab/runs/1axoc6vf' target=\"_blank\">tf_baseline_run2</a></strong> to <a href='https://wandb.ai/vincenttu/torch_vs_tf_talmo_lab' target=\"_blank\">Weights & Biases</a> (<a href='https://wandb.me/run' target=\"_blank\">docs</a>)<br/>"
            ]
          },
          "metadata": {}
        },
        {
          "output_type": "display_data",
          "data": {
            "text/plain": [
              "<IPython.core.display.HTML object>"
            ],
            "text/html": [
              " View project at <a href='https://wandb.ai/vincenttu/torch_vs_tf_talmo_lab' target=\"_blank\">https://wandb.ai/vincenttu/torch_vs_tf_talmo_lab</a>"
            ]
          },
          "metadata": {}
        },
        {
          "output_type": "display_data",
          "data": {
            "text/plain": [
              "<IPython.core.display.HTML object>"
            ],
            "text/html": [
              " View run at <a href='https://wandb.ai/vincenttu/torch_vs_tf_talmo_lab/runs/1axoc6vf' target=\"_blank\">https://wandb.ai/vincenttu/torch_vs_tf_talmo_lab/runs/1axoc6vf</a>"
            ]
          },
          "metadata": {}
        },
        {
          "output_type": "stream",
          "name": "stdout",
          "text": [
            "Epoch 000 | Step 000 | loss = 0.00108\n",
            "Epoch 000 | Step 100 | loss = 0.00093\n",
            "Epoch 000 | Step 200 | loss = 0.00102\n",
            "Epoch 000 | Step 300 | loss = 0.00100\n",
            "Epoch 000 | Step 400 | loss = 0.00096\n",
            "Epoch 000 | Step 500 | loss = 0.00093\n",
            "Epoch 000 | Step 600 | loss = 0.00095\n",
            "Epoch 000 | Step 700 | loss = 0.00085\n",
            "TRAIN: --- 83.49517035484314s seconds ---\n",
            "VAL: --- 38.23449921607971s seconds ---\n",
            "Epoch 001 | Step 000 | loss = 0.00074\n",
            "Epoch 001 | Step 100 | loss = 0.00070\n",
            "Epoch 001 | Step 200 | loss = 0.00065\n",
            "Epoch 001 | Step 300 | loss = 0.00061\n",
            "Epoch 001 | Step 400 | loss = 0.00065\n",
            "Epoch 001 | Step 500 | loss = 0.00063\n",
            "Epoch 001 | Step 600 | loss = 0.00082\n",
            "Epoch 001 | Step 700 | loss = 0.00066\n",
            "TRAIN: --- 83.40260434150696s seconds ---\n",
            "VAL: --- 42.70505690574646s seconds ---\n",
            "Epoch 002 | Step 000 | loss = 0.00056\n",
            "Epoch 002 | Step 100 | loss = 0.00062\n",
            "Epoch 002 | Step 200 | loss = 0.00043\n",
            "Epoch 002 | Step 300 | loss = 0.00046\n",
            "Epoch 002 | Step 400 | loss = 0.00064\n",
            "Epoch 002 | Step 500 | loss = 0.00047\n",
            "Epoch 002 | Step 600 | loss = 0.00083\n",
            "Epoch 002 | Step 700 | loss = 0.00053\n",
            "TRAIN: --- 83.36511301994324s seconds ---\n",
            "VAL: --- 38.1188588142395s seconds ---\n"
          ]
        },
        {
          "output_type": "display_data",
          "data": {
            "text/plain": [
              "<IPython.core.display.HTML object>"
            ],
            "text/html": [
              "Waiting for W&B process to finish... <strong style=\"color:green\">(success).</strong>"
            ]
          },
          "metadata": {}
        },
        {
          "output_type": "display_data",
          "data": {
            "text/plain": [
              "VBox(children=(Label(value='0.001 MB of 0.001 MB uploaded (0.000 MB deduped)\\r'), FloatProgress(value=1.0, max…"
            ],
            "application/vnd.jupyter.widget-view+json": {
              "version_major": 2,
              "version_minor": 0,
              "model_id": "0815ea409c1f4b06b8a25e26506b19ff"
            }
          },
          "metadata": {}
        },
        {
          "output_type": "display_data",
          "data": {
            "text/plain": [
              "<IPython.core.display.HTML object>"
            ],
            "text/html": [
              "<style>\n",
              "    table.wandb td:nth-child(1) { padding: 0 10px; text-align: left ; width: auto;} td:nth-child(2) {text-align: left ; width: 100%}\n",
              "    .wandb-row { display: flex; flex-direction: row; flex-wrap: wrap; justify-content: flex-start; width: 100% }\n",
              "    .wandb-col { display: flex; flex-direction: column; flex-basis: 100%; flex: 1; padding: 10px; }\n",
              "    </style>\n",
              "<div class=\"wandb-row\"><div class=\"wandb-col\"><h3>Run history:</h3><br/><table class=\"wandb\"><tr><td>total_time</td><td>▁█▁</td></tr><tr><td>train_loss</td><td>█▃▁</td></tr><tr><td>train_time</td><td>█▃▁</td></tr><tr><td>val_loss</td><td>█▃▁</td></tr><tr><td>val_time</td><td>▁█▁</td></tr></table><br/></div><div class=\"wandb-col\"><h3>Run summary:</h3><br/><table class=\"wandb\"><tr><td>total_time</td><td>121.48397</td></tr><tr><td>train_loss</td><td>0.00051</td></tr><tr><td>train_time</td><td>83.36511</td></tr><tr><td>val_loss</td><td>0.00048</td></tr><tr><td>val_time</td><td>38.11886</td></tr></table><br/></div></div>"
            ]
          },
          "metadata": {}
        },
        {
          "output_type": "display_data",
          "data": {
            "text/plain": [
              "<IPython.core.display.HTML object>"
            ],
            "text/html": [
              " View run <strong style=\"color:#cdcd00\">tf_baseline_run2</strong> at: <a href='https://wandb.ai/vincenttu/torch_vs_tf_talmo_lab/runs/1axoc6vf' target=\"_blank\">https://wandb.ai/vincenttu/torch_vs_tf_talmo_lab/runs/1axoc6vf</a><br/>Synced 5 W&B file(s), 0 media file(s), 0 artifact file(s) and 0 other file(s)"
            ]
          },
          "metadata": {}
        },
        {
          "output_type": "display_data",
          "data": {
            "text/plain": [
              "<IPython.core.display.HTML object>"
            ],
            "text/html": [
              "Find logs at: <code>./wandb/run-20230511_044433-1axoc6vf/logs</code>"
            ]
          },
          "metadata": {}
        },
        {
          "output_type": "display_data",
          "data": {
            "text/plain": [
              "<IPython.core.display.HTML object>"
            ],
            "text/html": [
              "Tracking run with wandb version 0.15.2"
            ]
          },
          "metadata": {}
        },
        {
          "output_type": "display_data",
          "data": {
            "text/plain": [
              "<IPython.core.display.HTML object>"
            ],
            "text/html": [
              "Run data is saved locally in <code>/content/wandb/run-20230511_045050-vggbmdc4</code>"
            ]
          },
          "metadata": {}
        },
        {
          "output_type": "display_data",
          "data": {
            "text/plain": [
              "<IPython.core.display.HTML object>"
            ],
            "text/html": [
              "Syncing run <strong><a href='https://wandb.ai/vincenttu/torch_vs_tf_talmo_lab/runs/vggbmdc4' target=\"_blank\">tf_baseline_run3</a></strong> to <a href='https://wandb.ai/vincenttu/torch_vs_tf_talmo_lab' target=\"_blank\">Weights & Biases</a> (<a href='https://wandb.me/run' target=\"_blank\">docs</a>)<br/>"
            ]
          },
          "metadata": {}
        },
        {
          "output_type": "display_data",
          "data": {
            "text/plain": [
              "<IPython.core.display.HTML object>"
            ],
            "text/html": [
              " View project at <a href='https://wandb.ai/vincenttu/torch_vs_tf_talmo_lab' target=\"_blank\">https://wandb.ai/vincenttu/torch_vs_tf_talmo_lab</a>"
            ]
          },
          "metadata": {}
        },
        {
          "output_type": "display_data",
          "data": {
            "text/plain": [
              "<IPython.core.display.HTML object>"
            ],
            "text/html": [
              " View run at <a href='https://wandb.ai/vincenttu/torch_vs_tf_talmo_lab/runs/vggbmdc4' target=\"_blank\">https://wandb.ai/vincenttu/torch_vs_tf_talmo_lab/runs/vggbmdc4</a>"
            ]
          },
          "metadata": {}
        },
        {
          "output_type": "stream",
          "name": "stdout",
          "text": [
            "Epoch 000 | Step 000 | loss = 0.00109\n",
            "Epoch 000 | Step 100 | loss = 0.00093\n",
            "Epoch 000 | Step 200 | loss = 0.00103\n",
            "Epoch 000 | Step 300 | loss = 0.00101\n",
            "Epoch 000 | Step 400 | loss = 0.00096\n",
            "Epoch 000 | Step 500 | loss = 0.00095\n",
            "Epoch 000 | Step 600 | loss = 0.00094\n",
            "Epoch 000 | Step 700 | loss = 0.00090\n",
            "TRAIN: --- 84.32904624938965s seconds ---\n",
            "VAL: --- 42.471017837524414s seconds ---\n",
            "Epoch 001 | Step 000 | loss = 0.00078\n",
            "Epoch 001 | Step 100 | loss = 0.00074\n",
            "Epoch 001 | Step 200 | loss = 0.00066\n",
            "Epoch 001 | Step 300 | loss = 0.00062\n",
            "Epoch 001 | Step 400 | loss = 0.00069\n",
            "Epoch 001 | Step 500 | loss = 0.00064\n",
            "Epoch 001 | Step 600 | loss = 0.00081\n",
            "Epoch 001 | Step 700 | loss = 0.00064\n",
            "TRAIN: --- 83.63809013366699s seconds ---\n",
            "VAL: --- 43.11942529678345s seconds ---\n",
            "Epoch 002 | Step 000 | loss = 0.00054\n",
            "Epoch 002 | Step 100 | loss = 0.00060\n",
            "Epoch 002 | Step 200 | loss = 0.00043\n",
            "Epoch 002 | Step 300 | loss = 0.00045\n",
            "Epoch 002 | Step 400 | loss = 0.00061\n",
            "Epoch 002 | Step 500 | loss = 0.00047\n",
            "Epoch 002 | Step 600 | loss = 0.00081\n",
            "Epoch 002 | Step 700 | loss = 0.00051\n",
            "TRAIN: --- 83.43477320671082s seconds ---\n",
            "VAL: --- 42.29169154167175s seconds ---\n"
          ]
        },
        {
          "output_type": "display_data",
          "data": {
            "text/plain": [
              "<IPython.core.display.HTML object>"
            ],
            "text/html": [
              "Waiting for W&B process to finish... <strong style=\"color:green\">(success).</strong>"
            ]
          },
          "metadata": {}
        },
        {
          "output_type": "display_data",
          "data": {
            "text/plain": [
              "VBox(children=(Label(value='0.001 MB of 0.010 MB uploaded (0.000 MB deduped)\\r'), FloatProgress(value=0.114219…"
            ],
            "application/vnd.jupyter.widget-view+json": {
              "version_major": 2,
              "version_minor": 0,
              "model_id": "96e2fda644bf422789d869e6d564d1ab"
            }
          },
          "metadata": {}
        },
        {
          "output_type": "display_data",
          "data": {
            "text/plain": [
              "<IPython.core.display.HTML object>"
            ],
            "text/html": [
              "<style>\n",
              "    table.wandb td:nth-child(1) { padding: 0 10px; text-align: left ; width: auto;} td:nth-child(2) {text-align: left ; width: 100%}\n",
              "    .wandb-row { display: flex; flex-direction: row; flex-wrap: wrap; justify-content: flex-start; width: 100% }\n",
              "    .wandb-col { display: flex; flex-direction: column; flex-basis: 100%; flex: 1; padding: 10px; }\n",
              "    </style>\n",
              "<div class=\"wandb-row\"><div class=\"wandb-col\"><h3>Run history:</h3><br/><table class=\"wandb\"><tr><td>total_time</td><td>██▁</td></tr><tr><td>train_loss</td><td>█▄▁</td></tr><tr><td>train_time</td><td>█▃▁</td></tr><tr><td>val_loss</td><td>█▃▁</td></tr><tr><td>val_time</td><td>▃█▁</td></tr></table><br/></div><div class=\"wandb-col\"><h3>Run summary:</h3><br/><table class=\"wandb\"><tr><td>total_time</td><td>125.72646</td></tr><tr><td>train_loss</td><td>0.0005</td></tr><tr><td>train_time</td><td>83.43477</td></tr><tr><td>val_loss</td><td>0.00045</td></tr><tr><td>val_time</td><td>42.29169</td></tr></table><br/></div></div>"
            ]
          },
          "metadata": {}
        },
        {
          "output_type": "display_data",
          "data": {
            "text/plain": [
              "<IPython.core.display.HTML object>"
            ],
            "text/html": [
              " View run <strong style=\"color:#cdcd00\">tf_baseline_run3</strong> at: <a href='https://wandb.ai/vincenttu/torch_vs_tf_talmo_lab/runs/vggbmdc4' target=\"_blank\">https://wandb.ai/vincenttu/torch_vs_tf_talmo_lab/runs/vggbmdc4</a><br/>Synced 5 W&B file(s), 0 media file(s), 0 artifact file(s) and 0 other file(s)"
            ]
          },
          "metadata": {}
        },
        {
          "output_type": "display_data",
          "data": {
            "text/plain": [
              "<IPython.core.display.HTML object>"
            ],
            "text/html": [
              "Find logs at: <code>./wandb/run-20230511_045050-vggbmdc4/logs</code>"
            ]
          },
          "metadata": {}
        },
        {
          "output_type": "display_data",
          "data": {
            "text/plain": [
              "<IPython.core.display.HTML object>"
            ],
            "text/html": [
              "Tracking run with wandb version 0.15.2"
            ]
          },
          "metadata": {}
        },
        {
          "output_type": "display_data",
          "data": {
            "text/plain": [
              "<IPython.core.display.HTML object>"
            ],
            "text/html": [
              "Run data is saved locally in <code>/content/wandb/run-20230511_045718-9tno29xx</code>"
            ]
          },
          "metadata": {}
        },
        {
          "output_type": "display_data",
          "data": {
            "text/plain": [
              "<IPython.core.display.HTML object>"
            ],
            "text/html": [
              "Syncing run <strong><a href='https://wandb.ai/vincenttu/torch_vs_tf_talmo_lab/runs/9tno29xx' target=\"_blank\">tf_baseline_run4</a></strong> to <a href='https://wandb.ai/vincenttu/torch_vs_tf_talmo_lab' target=\"_blank\">Weights & Biases</a> (<a href='https://wandb.me/run' target=\"_blank\">docs</a>)<br/>"
            ]
          },
          "metadata": {}
        },
        {
          "output_type": "display_data",
          "data": {
            "text/plain": [
              "<IPython.core.display.HTML object>"
            ],
            "text/html": [
              " View project at <a href='https://wandb.ai/vincenttu/torch_vs_tf_talmo_lab' target=\"_blank\">https://wandb.ai/vincenttu/torch_vs_tf_talmo_lab</a>"
            ]
          },
          "metadata": {}
        },
        {
          "output_type": "display_data",
          "data": {
            "text/plain": [
              "<IPython.core.display.HTML object>"
            ],
            "text/html": [
              " View run at <a href='https://wandb.ai/vincenttu/torch_vs_tf_talmo_lab/runs/9tno29xx' target=\"_blank\">https://wandb.ai/vincenttu/torch_vs_tf_talmo_lab/runs/9tno29xx</a>"
            ]
          },
          "metadata": {}
        },
        {
          "output_type": "stream",
          "name": "stdout",
          "text": [
            "Epoch 000 | Step 000 | loss = 0.00124\n",
            "Epoch 000 | Step 100 | loss = 0.00093\n",
            "Epoch 000 | Step 200 | loss = 0.00103\n",
            "Epoch 000 | Step 300 | loss = 0.00101\n",
            "Epoch 000 | Step 400 | loss = 0.00099\n",
            "Epoch 000 | Step 500 | loss = 0.00096\n",
            "Epoch 000 | Step 600 | loss = 0.00092\n",
            "Epoch 000 | Step 700 | loss = 0.00089\n",
            "TRAIN: --- 83.62147450447083s seconds ---\n",
            "VAL: --- 43.27170538902283s seconds ---\n",
            "Epoch 001 | Step 000 | loss = 0.00079\n",
            "Epoch 001 | Step 100 | loss = 0.00075\n",
            "Epoch 001 | Step 200 | loss = 0.00070\n",
            "Epoch 001 | Step 300 | loss = 0.00068\n",
            "Epoch 001 | Step 400 | loss = 0.00070\n",
            "Epoch 001 | Step 500 | loss = 0.00070\n",
            "Epoch 001 | Step 600 | loss = 0.00081\n",
            "Epoch 001 | Step 700 | loss = 0.00066\n",
            "TRAIN: --- 83.42112231254578s seconds ---\n",
            "VAL: --- 42.32711577415466s seconds ---\n",
            "Epoch 002 | Step 000 | loss = 0.00063\n",
            "Epoch 002 | Step 100 | loss = 0.00064\n",
            "Epoch 002 | Step 200 | loss = 0.00049\n",
            "Epoch 002 | Step 300 | loss = 0.00051\n",
            "Epoch 002 | Step 400 | loss = 0.00062\n",
            "Epoch 002 | Step 500 | loss = 0.00052\n",
            "Epoch 002 | Step 600 | loss = 0.00078\n",
            "Epoch 002 | Step 700 | loss = 0.00058\n",
            "TRAIN: --- 60.57603979110718s seconds ---\n",
            "VAL: --- 37.811718702316284s seconds ---\n"
          ]
        },
        {
          "output_type": "display_data",
          "data": {
            "text/plain": [
              "<IPython.core.display.HTML object>"
            ],
            "text/html": [
              "Waiting for W&B process to finish... <strong style=\"color:green\">(success).</strong>"
            ]
          },
          "metadata": {}
        },
        {
          "output_type": "display_data",
          "data": {
            "text/plain": [
              "VBox(children=(Label(value='0.001 MB of 0.001 MB uploaded (0.000 MB deduped)\\r'), FloatProgress(value=1.0, max…"
            ],
            "application/vnd.jupyter.widget-view+json": {
              "version_major": 2,
              "version_minor": 0,
              "model_id": "416f60eaad0a41a58bbf563a7bf478da"
            }
          },
          "metadata": {}
        },
        {
          "output_type": "display_data",
          "data": {
            "text/plain": [
              "<IPython.core.display.HTML object>"
            ],
            "text/html": [
              "<style>\n",
              "    table.wandb td:nth-child(1) { padding: 0 10px; text-align: left ; width: auto;} td:nth-child(2) {text-align: left ; width: 100%}\n",
              "    .wandb-row { display: flex; flex-direction: row; flex-wrap: wrap; justify-content: flex-start; width: 100% }\n",
              "    .wandb-col { display: flex; flex-direction: column; flex-basis: 100%; flex: 1; padding: 10px; }\n",
              "    </style>\n",
              "<div class=\"wandb-row\"><div class=\"wandb-col\"><h3>Run history:</h3><br/><table class=\"wandb\"><tr><td>total_time</td><td>██▁</td></tr><tr><td>train_loss</td><td>█▄▁</td></tr><tr><td>train_time</td><td>██▁</td></tr><tr><td>val_loss</td><td>█▄▁</td></tr><tr><td>val_time</td><td>█▇▁</td></tr></table><br/></div><div class=\"wandb-col\"><h3>Run summary:</h3><br/><table class=\"wandb\"><tr><td>total_time</td><td>98.38776</td></tr><tr><td>train_loss</td><td>0.00056</td></tr><tr><td>train_time</td><td>60.57604</td></tr><tr><td>val_loss</td><td>0.00049</td></tr><tr><td>val_time</td><td>37.81172</td></tr></table><br/></div></div>"
            ]
          },
          "metadata": {}
        },
        {
          "output_type": "display_data",
          "data": {
            "text/plain": [
              "<IPython.core.display.HTML object>"
            ],
            "text/html": [
              " View run <strong style=\"color:#cdcd00\">tf_baseline_run4</strong> at: <a href='https://wandb.ai/vincenttu/torch_vs_tf_talmo_lab/runs/9tno29xx' target=\"_blank\">https://wandb.ai/vincenttu/torch_vs_tf_talmo_lab/runs/9tno29xx</a><br/>Synced 5 W&B file(s), 0 media file(s), 0 artifact file(s) and 0 other file(s)"
            ]
          },
          "metadata": {}
        },
        {
          "output_type": "display_data",
          "data": {
            "text/plain": [
              "<IPython.core.display.HTML object>"
            ],
            "text/html": [
              "Find logs at: <code>./wandb/run-20230511_045718-9tno29xx/logs</code>"
            ]
          },
          "metadata": {}
        }
      ]
    },
    {
      "cell_type": "code",
      "source": [],
      "metadata": {
        "id": "zpaQGxBctxVL"
      },
      "execution_count": null,
      "outputs": []
    }
  ]
}