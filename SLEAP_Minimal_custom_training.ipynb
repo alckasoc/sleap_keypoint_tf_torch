{
  "nbformat": 4,
  "nbformat_minor": 0,
  "metadata": {
    "colab": {
      "provenance": [],
      "machine_shape": "hm"
    },
    "kernelspec": {
      "name": "python3",
      "display_name": "Python 3"
    },
    "accelerator": "GPU",
    "widgets": {
      "application/vnd.jupyter.widget-state+json": {
        "1ae474331c6e4dadba60f1bd6460f0a2": {
          "model_module": "@jupyter-widgets/controls",
          "model_name": "VBoxModel",
          "model_module_version": "1.5.0",
          "state": {
            "_dom_classes": [],
            "_model_module": "@jupyter-widgets/controls",
            "_model_module_version": "1.5.0",
            "_model_name": "VBoxModel",
            "_view_count": null,
            "_view_module": "@jupyter-widgets/controls",
            "_view_module_version": "1.5.0",
            "_view_name": "VBoxView",
            "box_style": "",
            "children": [
              "IPY_MODEL_01df21e84e474034bb62ef7f6f39d22d",
              "IPY_MODEL_2d47b25f5bbc41a9983d14860764f6f1"
            ],
            "layout": "IPY_MODEL_356bcab40c064e018b5f98fb682643b8"
          }
        },
        "01df21e84e474034bb62ef7f6f39d22d": {
          "model_module": "@jupyter-widgets/controls",
          "model_name": "LabelModel",
          "model_module_version": "1.5.0",
          "state": {
            "_dom_classes": [],
            "_model_module": "@jupyter-widgets/controls",
            "_model_module_version": "1.5.0",
            "_model_name": "LabelModel",
            "_view_count": null,
            "_view_module": "@jupyter-widgets/controls",
            "_view_module_version": "1.5.0",
            "_view_name": "LabelView",
            "description": "",
            "description_tooltip": null,
            "layout": "IPY_MODEL_23873488d7c64ec4b5b6e53db2d792df",
            "placeholder": "​",
            "style": "IPY_MODEL_a3c93f64a49b46b2b82c8d6135d9f941",
            "value": "0.002 MB of 0.011 MB uploaded (0.000 MB deduped)\r"
          }
        },
        "2d47b25f5bbc41a9983d14860764f6f1": {
          "model_module": "@jupyter-widgets/controls",
          "model_name": "FloatProgressModel",
          "model_module_version": "1.5.0",
          "state": {
            "_dom_classes": [],
            "_model_module": "@jupyter-widgets/controls",
            "_model_module_version": "1.5.0",
            "_model_name": "FloatProgressModel",
            "_view_count": null,
            "_view_module": "@jupyter-widgets/controls",
            "_view_module_version": "1.5.0",
            "_view_name": "ProgressView",
            "bar_style": "",
            "description": "",
            "description_tooltip": null,
            "layout": "IPY_MODEL_5ed7833e98fe4c1da464194688964d8b",
            "max": 1,
            "min": 0,
            "orientation": "horizontal",
            "style": "IPY_MODEL_4c0e025d331d40c794621fc70be76bd7",
            "value": 0.17280181437543615
          }
        },
        "356bcab40c064e018b5f98fb682643b8": {
          "model_module": "@jupyter-widgets/base",
          "model_name": "LayoutModel",
          "model_module_version": "1.2.0",
          "state": {
            "_model_module": "@jupyter-widgets/base",
            "_model_module_version": "1.2.0",
            "_model_name": "LayoutModel",
            "_view_count": null,
            "_view_module": "@jupyter-widgets/base",
            "_view_module_version": "1.2.0",
            "_view_name": "LayoutView",
            "align_content": null,
            "align_items": null,
            "align_self": null,
            "border": null,
            "bottom": null,
            "display": null,
            "flex": null,
            "flex_flow": null,
            "grid_area": null,
            "grid_auto_columns": null,
            "grid_auto_flow": null,
            "grid_auto_rows": null,
            "grid_column": null,
            "grid_gap": null,
            "grid_row": null,
            "grid_template_areas": null,
            "grid_template_columns": null,
            "grid_template_rows": null,
            "height": null,
            "justify_content": null,
            "justify_items": null,
            "left": null,
            "margin": null,
            "max_height": null,
            "max_width": null,
            "min_height": null,
            "min_width": null,
            "object_fit": null,
            "object_position": null,
            "order": null,
            "overflow": null,
            "overflow_x": null,
            "overflow_y": null,
            "padding": null,
            "right": null,
            "top": null,
            "visibility": null,
            "width": null
          }
        },
        "23873488d7c64ec4b5b6e53db2d792df": {
          "model_module": "@jupyter-widgets/base",
          "model_name": "LayoutModel",
          "model_module_version": "1.2.0",
          "state": {
            "_model_module": "@jupyter-widgets/base",
            "_model_module_version": "1.2.0",
            "_model_name": "LayoutModel",
            "_view_count": null,
            "_view_module": "@jupyter-widgets/base",
            "_view_module_version": "1.2.0",
            "_view_name": "LayoutView",
            "align_content": null,
            "align_items": null,
            "align_self": null,
            "border": null,
            "bottom": null,
            "display": null,
            "flex": null,
            "flex_flow": null,
            "grid_area": null,
            "grid_auto_columns": null,
            "grid_auto_flow": null,
            "grid_auto_rows": null,
            "grid_column": null,
            "grid_gap": null,
            "grid_row": null,
            "grid_template_areas": null,
            "grid_template_columns": null,
            "grid_template_rows": null,
            "height": null,
            "justify_content": null,
            "justify_items": null,
            "left": null,
            "margin": null,
            "max_height": null,
            "max_width": null,
            "min_height": null,
            "min_width": null,
            "object_fit": null,
            "object_position": null,
            "order": null,
            "overflow": null,
            "overflow_x": null,
            "overflow_y": null,
            "padding": null,
            "right": null,
            "top": null,
            "visibility": null,
            "width": null
          }
        },
        "a3c93f64a49b46b2b82c8d6135d9f941": {
          "model_module": "@jupyter-widgets/controls",
          "model_name": "DescriptionStyleModel",
          "model_module_version": "1.5.0",
          "state": {
            "_model_module": "@jupyter-widgets/controls",
            "_model_module_version": "1.5.0",
            "_model_name": "DescriptionStyleModel",
            "_view_count": null,
            "_view_module": "@jupyter-widgets/base",
            "_view_module_version": "1.2.0",
            "_view_name": "StyleView",
            "description_width": ""
          }
        },
        "5ed7833e98fe4c1da464194688964d8b": {
          "model_module": "@jupyter-widgets/base",
          "model_name": "LayoutModel",
          "model_module_version": "1.2.0",
          "state": {
            "_model_module": "@jupyter-widgets/base",
            "_model_module_version": "1.2.0",
            "_model_name": "LayoutModel",
            "_view_count": null,
            "_view_module": "@jupyter-widgets/base",
            "_view_module_version": "1.2.0",
            "_view_name": "LayoutView",
            "align_content": null,
            "align_items": null,
            "align_self": null,
            "border": null,
            "bottom": null,
            "display": null,
            "flex": null,
            "flex_flow": null,
            "grid_area": null,
            "grid_auto_columns": null,
            "grid_auto_flow": null,
            "grid_auto_rows": null,
            "grid_column": null,
            "grid_gap": null,
            "grid_row": null,
            "grid_template_areas": null,
            "grid_template_columns": null,
            "grid_template_rows": null,
            "height": null,
            "justify_content": null,
            "justify_items": null,
            "left": null,
            "margin": null,
            "max_height": null,
            "max_width": null,
            "min_height": null,
            "min_width": null,
            "object_fit": null,
            "object_position": null,
            "order": null,
            "overflow": null,
            "overflow_x": null,
            "overflow_y": null,
            "padding": null,
            "right": null,
            "top": null,
            "visibility": null,
            "width": null
          }
        },
        "4c0e025d331d40c794621fc70be76bd7": {
          "model_module": "@jupyter-widgets/controls",
          "model_name": "ProgressStyleModel",
          "model_module_version": "1.5.0",
          "state": {
            "_model_module": "@jupyter-widgets/controls",
            "_model_module_version": "1.5.0",
            "_model_name": "ProgressStyleModel",
            "_view_count": null,
            "_view_module": "@jupyter-widgets/base",
            "_view_module_version": "1.2.0",
            "_view_name": "StyleView",
            "bar_color": null,
            "description_width": ""
          }
        },
        "90b5dd787b4243bf99ba4c06cd6b9ec6": {
          "model_module": "@jupyter-widgets/controls",
          "model_name": "VBoxModel",
          "model_module_version": "1.5.0",
          "state": {
            "_dom_classes": [],
            "_model_module": "@jupyter-widgets/controls",
            "_model_module_version": "1.5.0",
            "_model_name": "VBoxModel",
            "_view_count": null,
            "_view_module": "@jupyter-widgets/controls",
            "_view_module_version": "1.5.0",
            "_view_name": "VBoxView",
            "box_style": "",
            "children": [
              "IPY_MODEL_39411b9ee6d74851a68b69e390305837",
              "IPY_MODEL_c2752513c35a4f85b7da11eae8ef0b9f"
            ],
            "layout": "IPY_MODEL_2b178ffac1b946038e4a7b86914af8b9"
          }
        },
        "39411b9ee6d74851a68b69e390305837": {
          "model_module": "@jupyter-widgets/controls",
          "model_name": "LabelModel",
          "model_module_version": "1.5.0",
          "state": {
            "_dom_classes": [],
            "_model_module": "@jupyter-widgets/controls",
            "_model_module_version": "1.5.0",
            "_model_name": "LabelModel",
            "_view_count": null,
            "_view_module": "@jupyter-widgets/controls",
            "_view_module_version": "1.5.0",
            "_view_name": "LabelView",
            "description": "",
            "description_tooltip": null,
            "layout": "IPY_MODEL_7a57260a11d343f9860f22bd3b01bf5e",
            "placeholder": "​",
            "style": "IPY_MODEL_b23d0d3fbb984948878369a5aa097498",
            "value": "Waiting for wandb.init()...\r"
          }
        },
        "c2752513c35a4f85b7da11eae8ef0b9f": {
          "model_module": "@jupyter-widgets/controls",
          "model_name": "FloatProgressModel",
          "model_module_version": "1.5.0",
          "state": {
            "_dom_classes": [],
            "_model_module": "@jupyter-widgets/controls",
            "_model_module_version": "1.5.0",
            "_model_name": "FloatProgressModel",
            "_view_count": null,
            "_view_module": "@jupyter-widgets/controls",
            "_view_module_version": "1.5.0",
            "_view_name": "ProgressView",
            "bar_style": "",
            "description": "",
            "description_tooltip": null,
            "layout": "IPY_MODEL_ef64559988cb40038dbe8d65f9f48479",
            "max": 1,
            "min": 0,
            "orientation": "horizontal",
            "style": "IPY_MODEL_ab821202799e47a48d5588eaf5f72d07",
            "value": 1
          }
        },
        "2b178ffac1b946038e4a7b86914af8b9": {
          "model_module": "@jupyter-widgets/base",
          "model_name": "LayoutModel",
          "model_module_version": "1.2.0",
          "state": {
            "_model_module": "@jupyter-widgets/base",
            "_model_module_version": "1.2.0",
            "_model_name": "LayoutModel",
            "_view_count": null,
            "_view_module": "@jupyter-widgets/base",
            "_view_module_version": "1.2.0",
            "_view_name": "LayoutView",
            "align_content": null,
            "align_items": null,
            "align_self": null,
            "border": null,
            "bottom": null,
            "display": null,
            "flex": null,
            "flex_flow": null,
            "grid_area": null,
            "grid_auto_columns": null,
            "grid_auto_flow": null,
            "grid_auto_rows": null,
            "grid_column": null,
            "grid_gap": null,
            "grid_row": null,
            "grid_template_areas": null,
            "grid_template_columns": null,
            "grid_template_rows": null,
            "height": null,
            "justify_content": null,
            "justify_items": null,
            "left": null,
            "margin": null,
            "max_height": null,
            "max_width": null,
            "min_height": null,
            "min_width": null,
            "object_fit": null,
            "object_position": null,
            "order": null,
            "overflow": null,
            "overflow_x": null,
            "overflow_y": null,
            "padding": null,
            "right": null,
            "top": null,
            "visibility": null,
            "width": null
          }
        },
        "7a57260a11d343f9860f22bd3b01bf5e": {
          "model_module": "@jupyter-widgets/base",
          "model_name": "LayoutModel",
          "model_module_version": "1.2.0",
          "state": {
            "_model_module": "@jupyter-widgets/base",
            "_model_module_version": "1.2.0",
            "_model_name": "LayoutModel",
            "_view_count": null,
            "_view_module": "@jupyter-widgets/base",
            "_view_module_version": "1.2.0",
            "_view_name": "LayoutView",
            "align_content": null,
            "align_items": null,
            "align_self": null,
            "border": null,
            "bottom": null,
            "display": null,
            "flex": null,
            "flex_flow": null,
            "grid_area": null,
            "grid_auto_columns": null,
            "grid_auto_flow": null,
            "grid_auto_rows": null,
            "grid_column": null,
            "grid_gap": null,
            "grid_row": null,
            "grid_template_areas": null,
            "grid_template_columns": null,
            "grid_template_rows": null,
            "height": null,
            "justify_content": null,
            "justify_items": null,
            "left": null,
            "margin": null,
            "max_height": null,
            "max_width": null,
            "min_height": null,
            "min_width": null,
            "object_fit": null,
            "object_position": null,
            "order": null,
            "overflow": null,
            "overflow_x": null,
            "overflow_y": null,
            "padding": null,
            "right": null,
            "top": null,
            "visibility": null,
            "width": null
          }
        },
        "b23d0d3fbb984948878369a5aa097498": {
          "model_module": "@jupyter-widgets/controls",
          "model_name": "DescriptionStyleModel",
          "model_module_version": "1.5.0",
          "state": {
            "_model_module": "@jupyter-widgets/controls",
            "_model_module_version": "1.5.0",
            "_model_name": "DescriptionStyleModel",
            "_view_count": null,
            "_view_module": "@jupyter-widgets/base",
            "_view_module_version": "1.2.0",
            "_view_name": "StyleView",
            "description_width": ""
          }
        },
        "ef64559988cb40038dbe8d65f9f48479": {
          "model_module": "@jupyter-widgets/base",
          "model_name": "LayoutModel",
          "model_module_version": "1.2.0",
          "state": {
            "_model_module": "@jupyter-widgets/base",
            "_model_module_version": "1.2.0",
            "_model_name": "LayoutModel",
            "_view_count": null,
            "_view_module": "@jupyter-widgets/base",
            "_view_module_version": "1.2.0",
            "_view_name": "LayoutView",
            "align_content": null,
            "align_items": null,
            "align_self": null,
            "border": null,
            "bottom": null,
            "display": null,
            "flex": null,
            "flex_flow": null,
            "grid_area": null,
            "grid_auto_columns": null,
            "grid_auto_flow": null,
            "grid_auto_rows": null,
            "grid_column": null,
            "grid_gap": null,
            "grid_row": null,
            "grid_template_areas": null,
            "grid_template_columns": null,
            "grid_template_rows": null,
            "height": null,
            "justify_content": null,
            "justify_items": null,
            "left": null,
            "margin": null,
            "max_height": null,
            "max_width": null,
            "min_height": null,
            "min_width": null,
            "object_fit": null,
            "object_position": null,
            "order": null,
            "overflow": null,
            "overflow_x": null,
            "overflow_y": null,
            "padding": null,
            "right": null,
            "top": null,
            "visibility": null,
            "width": null
          }
        },
        "ab821202799e47a48d5588eaf5f72d07": {
          "model_module": "@jupyter-widgets/controls",
          "model_name": "ProgressStyleModel",
          "model_module_version": "1.5.0",
          "state": {
            "_model_module": "@jupyter-widgets/controls",
            "_model_module_version": "1.5.0",
            "_model_name": "ProgressStyleModel",
            "_view_count": null,
            "_view_module": "@jupyter-widgets/base",
            "_view_module_version": "1.2.0",
            "_view_name": "StyleView",
            "bar_color": null,
            "description_width": ""
          }
        },
        "0a68c9db29884cab987076d47010ac6e": {
          "model_module": "@jupyter-widgets/controls",
          "model_name": "VBoxModel",
          "model_module_version": "1.5.0",
          "state": {
            "_dom_classes": [],
            "_model_module": "@jupyter-widgets/controls",
            "_model_module_version": "1.5.0",
            "_model_name": "VBoxModel",
            "_view_count": null,
            "_view_module": "@jupyter-widgets/controls",
            "_view_module_version": "1.5.0",
            "_view_name": "VBoxView",
            "box_style": "",
            "children": [
              "IPY_MODEL_77a22c41363d4d07bcedae8e860233cc",
              "IPY_MODEL_3d2d624f9363404fb6285717ec58c78f"
            ],
            "layout": "IPY_MODEL_13da082a1e6c4cc8b6ac0d0cf6e502b7"
          }
        },
        "77a22c41363d4d07bcedae8e860233cc": {
          "model_module": "@jupyter-widgets/controls",
          "model_name": "LabelModel",
          "model_module_version": "1.5.0",
          "state": {
            "_dom_classes": [],
            "_model_module": "@jupyter-widgets/controls",
            "_model_module_version": "1.5.0",
            "_model_name": "LabelModel",
            "_view_count": null,
            "_view_module": "@jupyter-widgets/controls",
            "_view_module_version": "1.5.0",
            "_view_name": "LabelView",
            "description": "",
            "description_tooltip": null,
            "layout": "IPY_MODEL_5ec5d0e089b94b84b410a672343caa60",
            "placeholder": "​",
            "style": "IPY_MODEL_c540a79d387d4500a9896900c111d15b",
            "value": "0.019 MB of 0.019 MB uploaded (0.000 MB deduped)\r"
          }
        },
        "3d2d624f9363404fb6285717ec58c78f": {
          "model_module": "@jupyter-widgets/controls",
          "model_name": "FloatProgressModel",
          "model_module_version": "1.5.0",
          "state": {
            "_dom_classes": [],
            "_model_module": "@jupyter-widgets/controls",
            "_model_module_version": "1.5.0",
            "_model_name": "FloatProgressModel",
            "_view_count": null,
            "_view_module": "@jupyter-widgets/controls",
            "_view_module_version": "1.5.0",
            "_view_name": "ProgressView",
            "bar_style": "",
            "description": "",
            "description_tooltip": null,
            "layout": "IPY_MODEL_ad6cfa5104604b1382b886476cd879f4",
            "max": 1,
            "min": 0,
            "orientation": "horizontal",
            "style": "IPY_MODEL_4f5b4eb73fce42d18cc4a6d186b272d2",
            "value": 0.9863342844270911
          }
        },
        "13da082a1e6c4cc8b6ac0d0cf6e502b7": {
          "model_module": "@jupyter-widgets/base",
          "model_name": "LayoutModel",
          "model_module_version": "1.2.0",
          "state": {
            "_model_module": "@jupyter-widgets/base",
            "_model_module_version": "1.2.0",
            "_model_name": "LayoutModel",
            "_view_count": null,
            "_view_module": "@jupyter-widgets/base",
            "_view_module_version": "1.2.0",
            "_view_name": "LayoutView",
            "align_content": null,
            "align_items": null,
            "align_self": null,
            "border": null,
            "bottom": null,
            "display": null,
            "flex": null,
            "flex_flow": null,
            "grid_area": null,
            "grid_auto_columns": null,
            "grid_auto_flow": null,
            "grid_auto_rows": null,
            "grid_column": null,
            "grid_gap": null,
            "grid_row": null,
            "grid_template_areas": null,
            "grid_template_columns": null,
            "grid_template_rows": null,
            "height": null,
            "justify_content": null,
            "justify_items": null,
            "left": null,
            "margin": null,
            "max_height": null,
            "max_width": null,
            "min_height": null,
            "min_width": null,
            "object_fit": null,
            "object_position": null,
            "order": null,
            "overflow": null,
            "overflow_x": null,
            "overflow_y": null,
            "padding": null,
            "right": null,
            "top": null,
            "visibility": null,
            "width": null
          }
        },
        "5ec5d0e089b94b84b410a672343caa60": {
          "model_module": "@jupyter-widgets/base",
          "model_name": "LayoutModel",
          "model_module_version": "1.2.0",
          "state": {
            "_model_module": "@jupyter-widgets/base",
            "_model_module_version": "1.2.0",
            "_model_name": "LayoutModel",
            "_view_count": null,
            "_view_module": "@jupyter-widgets/base",
            "_view_module_version": "1.2.0",
            "_view_name": "LayoutView",
            "align_content": null,
            "align_items": null,
            "align_self": null,
            "border": null,
            "bottom": null,
            "display": null,
            "flex": null,
            "flex_flow": null,
            "grid_area": null,
            "grid_auto_columns": null,
            "grid_auto_flow": null,
            "grid_auto_rows": null,
            "grid_column": null,
            "grid_gap": null,
            "grid_row": null,
            "grid_template_areas": null,
            "grid_template_columns": null,
            "grid_template_rows": null,
            "height": null,
            "justify_content": null,
            "justify_items": null,
            "left": null,
            "margin": null,
            "max_height": null,
            "max_width": null,
            "min_height": null,
            "min_width": null,
            "object_fit": null,
            "object_position": null,
            "order": null,
            "overflow": null,
            "overflow_x": null,
            "overflow_y": null,
            "padding": null,
            "right": null,
            "top": null,
            "visibility": null,
            "width": null
          }
        },
        "c540a79d387d4500a9896900c111d15b": {
          "model_module": "@jupyter-widgets/controls",
          "model_name": "DescriptionStyleModel",
          "model_module_version": "1.5.0",
          "state": {
            "_model_module": "@jupyter-widgets/controls",
            "_model_module_version": "1.5.0",
            "_model_name": "DescriptionStyleModel",
            "_view_count": null,
            "_view_module": "@jupyter-widgets/base",
            "_view_module_version": "1.2.0",
            "_view_name": "StyleView",
            "description_width": ""
          }
        },
        "ad6cfa5104604b1382b886476cd879f4": {
          "model_module": "@jupyter-widgets/base",
          "model_name": "LayoutModel",
          "model_module_version": "1.2.0",
          "state": {
            "_model_module": "@jupyter-widgets/base",
            "_model_module_version": "1.2.0",
            "_model_name": "LayoutModel",
            "_view_count": null,
            "_view_module": "@jupyter-widgets/base",
            "_view_module_version": "1.2.0",
            "_view_name": "LayoutView",
            "align_content": null,
            "align_items": null,
            "align_self": null,
            "border": null,
            "bottom": null,
            "display": null,
            "flex": null,
            "flex_flow": null,
            "grid_area": null,
            "grid_auto_columns": null,
            "grid_auto_flow": null,
            "grid_auto_rows": null,
            "grid_column": null,
            "grid_gap": null,
            "grid_row": null,
            "grid_template_areas": null,
            "grid_template_columns": null,
            "grid_template_rows": null,
            "height": null,
            "justify_content": null,
            "justify_items": null,
            "left": null,
            "margin": null,
            "max_height": null,
            "max_width": null,
            "min_height": null,
            "min_width": null,
            "object_fit": null,
            "object_position": null,
            "order": null,
            "overflow": null,
            "overflow_x": null,
            "overflow_y": null,
            "padding": null,
            "right": null,
            "top": null,
            "visibility": null,
            "width": null
          }
        },
        "4f5b4eb73fce42d18cc4a6d186b272d2": {
          "model_module": "@jupyter-widgets/controls",
          "model_name": "ProgressStyleModel",
          "model_module_version": "1.5.0",
          "state": {
            "_model_module": "@jupyter-widgets/controls",
            "_model_module_version": "1.5.0",
            "_model_name": "ProgressStyleModel",
            "_view_count": null,
            "_view_module": "@jupyter-widgets/base",
            "_view_module_version": "1.2.0",
            "_view_name": "StyleView",
            "bar_color": null,
            "description_width": ""
          }
        },
        "b7b96998581341d49927f4596abb8c6f": {
          "model_module": "@jupyter-widgets/controls",
          "model_name": "VBoxModel",
          "model_module_version": "1.5.0",
          "state": {
            "_dom_classes": [],
            "_model_module": "@jupyter-widgets/controls",
            "_model_module_version": "1.5.0",
            "_model_name": "VBoxModel",
            "_view_count": null,
            "_view_module": "@jupyter-widgets/controls",
            "_view_module_version": "1.5.0",
            "_view_name": "VBoxView",
            "box_style": "",
            "children": [
              "IPY_MODEL_10f69566962344d683e4f7d6a67f6262",
              "IPY_MODEL_e45dc52f7c2f4ba6ac3bf4fe87962d60"
            ],
            "layout": "IPY_MODEL_e18abe6f98714e9bb80baaa0cdd7f9cb"
          }
        },
        "10f69566962344d683e4f7d6a67f6262": {
          "model_module": "@jupyter-widgets/controls",
          "model_name": "LabelModel",
          "model_module_version": "1.5.0",
          "state": {
            "_dom_classes": [],
            "_model_module": "@jupyter-widgets/controls",
            "_model_module_version": "1.5.0",
            "_model_name": "LabelModel",
            "_view_count": null,
            "_view_module": "@jupyter-widgets/controls",
            "_view_module_version": "1.5.0",
            "_view_name": "LabelView",
            "description": "",
            "description_tooltip": null,
            "layout": "IPY_MODEL_5ce1f5a52926469682e5be98d96011ad",
            "placeholder": "​",
            "style": "IPY_MODEL_3c9c7d4cc3ee44fdb5f0e69212023e4f",
            "value": "0.001 MB of 0.001 MB uploaded (0.000 MB deduped)\r"
          }
        },
        "e45dc52f7c2f4ba6ac3bf4fe87962d60": {
          "model_module": "@jupyter-widgets/controls",
          "model_name": "FloatProgressModel",
          "model_module_version": "1.5.0",
          "state": {
            "_dom_classes": [],
            "_model_module": "@jupyter-widgets/controls",
            "_model_module_version": "1.5.0",
            "_model_name": "FloatProgressModel",
            "_view_count": null,
            "_view_module": "@jupyter-widgets/controls",
            "_view_module_version": "1.5.0",
            "_view_name": "ProgressView",
            "bar_style": "",
            "description": "",
            "description_tooltip": null,
            "layout": "IPY_MODEL_d07cb0f2271743738302a5ea11726035",
            "max": 1,
            "min": 0,
            "orientation": "horizontal",
            "style": "IPY_MODEL_6bc94db8b2b24fa384b803b18bfd1280",
            "value": 1
          }
        },
        "e18abe6f98714e9bb80baaa0cdd7f9cb": {
          "model_module": "@jupyter-widgets/base",
          "model_name": "LayoutModel",
          "model_module_version": "1.2.0",
          "state": {
            "_model_module": "@jupyter-widgets/base",
            "_model_module_version": "1.2.0",
            "_model_name": "LayoutModel",
            "_view_count": null,
            "_view_module": "@jupyter-widgets/base",
            "_view_module_version": "1.2.0",
            "_view_name": "LayoutView",
            "align_content": null,
            "align_items": null,
            "align_self": null,
            "border": null,
            "bottom": null,
            "display": null,
            "flex": null,
            "flex_flow": null,
            "grid_area": null,
            "grid_auto_columns": null,
            "grid_auto_flow": null,
            "grid_auto_rows": null,
            "grid_column": null,
            "grid_gap": null,
            "grid_row": null,
            "grid_template_areas": null,
            "grid_template_columns": null,
            "grid_template_rows": null,
            "height": null,
            "justify_content": null,
            "justify_items": null,
            "left": null,
            "margin": null,
            "max_height": null,
            "max_width": null,
            "min_height": null,
            "min_width": null,
            "object_fit": null,
            "object_position": null,
            "order": null,
            "overflow": null,
            "overflow_x": null,
            "overflow_y": null,
            "padding": null,
            "right": null,
            "top": null,
            "visibility": null,
            "width": null
          }
        },
        "5ce1f5a52926469682e5be98d96011ad": {
          "model_module": "@jupyter-widgets/base",
          "model_name": "LayoutModel",
          "model_module_version": "1.2.0",
          "state": {
            "_model_module": "@jupyter-widgets/base",
            "_model_module_version": "1.2.0",
            "_model_name": "LayoutModel",
            "_view_count": null,
            "_view_module": "@jupyter-widgets/base",
            "_view_module_version": "1.2.0",
            "_view_name": "LayoutView",
            "align_content": null,
            "align_items": null,
            "align_self": null,
            "border": null,
            "bottom": null,
            "display": null,
            "flex": null,
            "flex_flow": null,
            "grid_area": null,
            "grid_auto_columns": null,
            "grid_auto_flow": null,
            "grid_auto_rows": null,
            "grid_column": null,
            "grid_gap": null,
            "grid_row": null,
            "grid_template_areas": null,
            "grid_template_columns": null,
            "grid_template_rows": null,
            "height": null,
            "justify_content": null,
            "justify_items": null,
            "left": null,
            "margin": null,
            "max_height": null,
            "max_width": null,
            "min_height": null,
            "min_width": null,
            "object_fit": null,
            "object_position": null,
            "order": null,
            "overflow": null,
            "overflow_x": null,
            "overflow_y": null,
            "padding": null,
            "right": null,
            "top": null,
            "visibility": null,
            "width": null
          }
        },
        "3c9c7d4cc3ee44fdb5f0e69212023e4f": {
          "model_module": "@jupyter-widgets/controls",
          "model_name": "DescriptionStyleModel",
          "model_module_version": "1.5.0",
          "state": {
            "_model_module": "@jupyter-widgets/controls",
            "_model_module_version": "1.5.0",
            "_model_name": "DescriptionStyleModel",
            "_view_count": null,
            "_view_module": "@jupyter-widgets/base",
            "_view_module_version": "1.2.0",
            "_view_name": "StyleView",
            "description_width": ""
          }
        },
        "d07cb0f2271743738302a5ea11726035": {
          "model_module": "@jupyter-widgets/base",
          "model_name": "LayoutModel",
          "model_module_version": "1.2.0",
          "state": {
            "_model_module": "@jupyter-widgets/base",
            "_model_module_version": "1.2.0",
            "_model_name": "LayoutModel",
            "_view_count": null,
            "_view_module": "@jupyter-widgets/base",
            "_view_module_version": "1.2.0",
            "_view_name": "LayoutView",
            "align_content": null,
            "align_items": null,
            "align_self": null,
            "border": null,
            "bottom": null,
            "display": null,
            "flex": null,
            "flex_flow": null,
            "grid_area": null,
            "grid_auto_columns": null,
            "grid_auto_flow": null,
            "grid_auto_rows": null,
            "grid_column": null,
            "grid_gap": null,
            "grid_row": null,
            "grid_template_areas": null,
            "grid_template_columns": null,
            "grid_template_rows": null,
            "height": null,
            "justify_content": null,
            "justify_items": null,
            "left": null,
            "margin": null,
            "max_height": null,
            "max_width": null,
            "min_height": null,
            "min_width": null,
            "object_fit": null,
            "object_position": null,
            "order": null,
            "overflow": null,
            "overflow_x": null,
            "overflow_y": null,
            "padding": null,
            "right": null,
            "top": null,
            "visibility": null,
            "width": null
          }
        },
        "6bc94db8b2b24fa384b803b18bfd1280": {
          "model_module": "@jupyter-widgets/controls",
          "model_name": "ProgressStyleModel",
          "model_module_version": "1.5.0",
          "state": {
            "_model_module": "@jupyter-widgets/controls",
            "_model_module_version": "1.5.0",
            "_model_name": "ProgressStyleModel",
            "_view_count": null,
            "_view_module": "@jupyter-widgets/base",
            "_view_module_version": "1.2.0",
            "_view_name": "StyleView",
            "bar_color": null,
            "description_width": ""
          }
        },
        "1bde6ac72ea14033aaadca21192077ea": {
          "model_module": "@jupyter-widgets/controls",
          "model_name": "VBoxModel",
          "model_module_version": "1.5.0",
          "state": {
            "_dom_classes": [],
            "_model_module": "@jupyter-widgets/controls",
            "_model_module_version": "1.5.0",
            "_model_name": "VBoxModel",
            "_view_count": null,
            "_view_module": "@jupyter-widgets/controls",
            "_view_module_version": "1.5.0",
            "_view_name": "VBoxView",
            "box_style": "",
            "children": [
              "IPY_MODEL_0fd854763e6a44e7b1aae12dcdec6c3d",
              "IPY_MODEL_d1b7291d8c7c44e28a18fd81c3b6e851"
            ],
            "layout": "IPY_MODEL_33e28d3d1e9b47fd8f6a7c5afaac842d"
          }
        },
        "0fd854763e6a44e7b1aae12dcdec6c3d": {
          "model_module": "@jupyter-widgets/controls",
          "model_name": "LabelModel",
          "model_module_version": "1.5.0",
          "state": {
            "_dom_classes": [],
            "_model_module": "@jupyter-widgets/controls",
            "_model_module_version": "1.5.0",
            "_model_name": "LabelModel",
            "_view_count": null,
            "_view_module": "@jupyter-widgets/controls",
            "_view_module_version": "1.5.0",
            "_view_name": "LabelView",
            "description": "",
            "description_tooltip": null,
            "layout": "IPY_MODEL_eeb4136f92f74a67bbd4fd11ccc57c02",
            "placeholder": "​",
            "style": "IPY_MODEL_edb42fcb06994e519c73fedaa374bf9d",
            "value": "0.001 MB of 0.001 MB uploaded (0.000 MB deduped)\r"
          }
        },
        "d1b7291d8c7c44e28a18fd81c3b6e851": {
          "model_module": "@jupyter-widgets/controls",
          "model_name": "FloatProgressModel",
          "model_module_version": "1.5.0",
          "state": {
            "_dom_classes": [],
            "_model_module": "@jupyter-widgets/controls",
            "_model_module_version": "1.5.0",
            "_model_name": "FloatProgressModel",
            "_view_count": null,
            "_view_module": "@jupyter-widgets/controls",
            "_view_module_version": "1.5.0",
            "_view_name": "ProgressView",
            "bar_style": "",
            "description": "",
            "description_tooltip": null,
            "layout": "IPY_MODEL_6efe7bd887374bf8829d9a58d0bf814f",
            "max": 1,
            "min": 0,
            "orientation": "horizontal",
            "style": "IPY_MODEL_838bcf3a7cf74c1b8864bd929a7afd25",
            "value": 1
          }
        },
        "33e28d3d1e9b47fd8f6a7c5afaac842d": {
          "model_module": "@jupyter-widgets/base",
          "model_name": "LayoutModel",
          "model_module_version": "1.2.0",
          "state": {
            "_model_module": "@jupyter-widgets/base",
            "_model_module_version": "1.2.0",
            "_model_name": "LayoutModel",
            "_view_count": null,
            "_view_module": "@jupyter-widgets/base",
            "_view_module_version": "1.2.0",
            "_view_name": "LayoutView",
            "align_content": null,
            "align_items": null,
            "align_self": null,
            "border": null,
            "bottom": null,
            "display": null,
            "flex": null,
            "flex_flow": null,
            "grid_area": null,
            "grid_auto_columns": null,
            "grid_auto_flow": null,
            "grid_auto_rows": null,
            "grid_column": null,
            "grid_gap": null,
            "grid_row": null,
            "grid_template_areas": null,
            "grid_template_columns": null,
            "grid_template_rows": null,
            "height": null,
            "justify_content": null,
            "justify_items": null,
            "left": null,
            "margin": null,
            "max_height": null,
            "max_width": null,
            "min_height": null,
            "min_width": null,
            "object_fit": null,
            "object_position": null,
            "order": null,
            "overflow": null,
            "overflow_x": null,
            "overflow_y": null,
            "padding": null,
            "right": null,
            "top": null,
            "visibility": null,
            "width": null
          }
        },
        "eeb4136f92f74a67bbd4fd11ccc57c02": {
          "model_module": "@jupyter-widgets/base",
          "model_name": "LayoutModel",
          "model_module_version": "1.2.0",
          "state": {
            "_model_module": "@jupyter-widgets/base",
            "_model_module_version": "1.2.0",
            "_model_name": "LayoutModel",
            "_view_count": null,
            "_view_module": "@jupyter-widgets/base",
            "_view_module_version": "1.2.0",
            "_view_name": "LayoutView",
            "align_content": null,
            "align_items": null,
            "align_self": null,
            "border": null,
            "bottom": null,
            "display": null,
            "flex": null,
            "flex_flow": null,
            "grid_area": null,
            "grid_auto_columns": null,
            "grid_auto_flow": null,
            "grid_auto_rows": null,
            "grid_column": null,
            "grid_gap": null,
            "grid_row": null,
            "grid_template_areas": null,
            "grid_template_columns": null,
            "grid_template_rows": null,
            "height": null,
            "justify_content": null,
            "justify_items": null,
            "left": null,
            "margin": null,
            "max_height": null,
            "max_width": null,
            "min_height": null,
            "min_width": null,
            "object_fit": null,
            "object_position": null,
            "order": null,
            "overflow": null,
            "overflow_x": null,
            "overflow_y": null,
            "padding": null,
            "right": null,
            "top": null,
            "visibility": null,
            "width": null
          }
        },
        "edb42fcb06994e519c73fedaa374bf9d": {
          "model_module": "@jupyter-widgets/controls",
          "model_name": "DescriptionStyleModel",
          "model_module_version": "1.5.0",
          "state": {
            "_model_module": "@jupyter-widgets/controls",
            "_model_module_version": "1.5.0",
            "_model_name": "DescriptionStyleModel",
            "_view_count": null,
            "_view_module": "@jupyter-widgets/base",
            "_view_module_version": "1.2.0",
            "_view_name": "StyleView",
            "description_width": ""
          }
        },
        "6efe7bd887374bf8829d9a58d0bf814f": {
          "model_module": "@jupyter-widgets/base",
          "model_name": "LayoutModel",
          "model_module_version": "1.2.0",
          "state": {
            "_model_module": "@jupyter-widgets/base",
            "_model_module_version": "1.2.0",
            "_model_name": "LayoutModel",
            "_view_count": null,
            "_view_module": "@jupyter-widgets/base",
            "_view_module_version": "1.2.0",
            "_view_name": "LayoutView",
            "align_content": null,
            "align_items": null,
            "align_self": null,
            "border": null,
            "bottom": null,
            "display": null,
            "flex": null,
            "flex_flow": null,
            "grid_area": null,
            "grid_auto_columns": null,
            "grid_auto_flow": null,
            "grid_auto_rows": null,
            "grid_column": null,
            "grid_gap": null,
            "grid_row": null,
            "grid_template_areas": null,
            "grid_template_columns": null,
            "grid_template_rows": null,
            "height": null,
            "justify_content": null,
            "justify_items": null,
            "left": null,
            "margin": null,
            "max_height": null,
            "max_width": null,
            "min_height": null,
            "min_width": null,
            "object_fit": null,
            "object_position": null,
            "order": null,
            "overflow": null,
            "overflow_x": null,
            "overflow_y": null,
            "padding": null,
            "right": null,
            "top": null,
            "visibility": null,
            "width": null
          }
        },
        "838bcf3a7cf74c1b8864bd929a7afd25": {
          "model_module": "@jupyter-widgets/controls",
          "model_name": "ProgressStyleModel",
          "model_module_version": "1.5.0",
          "state": {
            "_model_module": "@jupyter-widgets/controls",
            "_model_module_version": "1.5.0",
            "_model_name": "ProgressStyleModel",
            "_view_count": null,
            "_view_module": "@jupyter-widgets/base",
            "_view_module_version": "1.2.0",
            "_view_name": "StyleView",
            "bar_color": null,
            "description_width": ""
          }
        }
      }
    }
  },
  "cells": [
    {
      "cell_type": "markdown",
      "metadata": {
        "id": "BeeqrLbdupmE"
      },
      "source": [
        "# Install SLEAP\n",
        "Don't forget to set **Runtime** -> **Change runtime type...** -> **GPU** as the accelerator."
      ]
    },
    {
      "cell_type": "code",
      "metadata": {
        "id": "BYxJ2rJOMW8B",
        "colab": {
          "base_uri": "https://localhost:8080/"
        },
        "outputId": "36a64381-b321-4e31-d950-d996970619e0"
      },
      "source": [
        "!pip install sleap -qqq\n",
        "!pip install nvidia-ml-py3 -qqq"
      ],
      "execution_count": null,
      "outputs": [
        {
          "output_type": "stream",
          "name": "stdout",
          "text": [
            "\u001b[2K     \u001b[90m━━━━━━━━━━━━━━━━━━━━━━━━━━━━━━━━━━━━━━━━\u001b[0m \u001b[32m64.4/64.4 MB\u001b[0m \u001b[31m8.1 MB/s\u001b[0m eta \u001b[36m0:00:00\u001b[0m\n",
            "\u001b[2K     \u001b[90m━━━━━━━━━━━━━━━━━━━━━━━━━━━━━━━━━━━━━━━━\u001b[0m \u001b[32m3.3/3.3 MB\u001b[0m \u001b[31m38.1 MB/s\u001b[0m eta \u001b[36m0:00:00\u001b[0m\n",
            "\u001b[2K     \u001b[90m━━━━━━━━━━━━━━━━━━━━━━━━━━━━━━━━━━━━━━\u001b[0m \u001b[32m228.9/228.9 kB\u001b[0m \u001b[31m10.7 MB/s\u001b[0m eta \u001b[36m0:00:00\u001b[0m\n",
            "\u001b[?25h  Preparing metadata (setup.py) ... \u001b[?25l\u001b[?25hdone\n",
            "  Preparing metadata (setup.py) ... \u001b[?25l\u001b[?25hdone\n",
            "\u001b[2K     \u001b[90m━━━━━━━━━━━━━━━━━━━━━━━━━━━━━━━━━━━━━━━\u001b[0m \u001b[32m214.3/214.3 kB\u001b[0m \u001b[31m2.3 MB/s\u001b[0m eta \u001b[36m0:00:00\u001b[0m\n",
            "\u001b[2K     \u001b[90m━━━━━━━━━━━━━━━━━━━━━━━━━━━━━━━━━━━━━━━\u001b[0m \u001b[32m131.9/131.9 kB\u001b[0m \u001b[31m4.8 MB/s\u001b[0m eta \u001b[36m0:00:00\u001b[0m\n",
            "\u001b[2K     \u001b[90m━━━━━━━━━━━━━━━━━━━━━━━━━━━━━━━━━━━━━━━━\u001b[0m \u001b[32m88.2/88.2 kB\u001b[0m \u001b[31m7.4 MB/s\u001b[0m eta \u001b[36m0:00:00\u001b[0m\n",
            "\u001b[2K     \u001b[90m━━━━━━━━━━━━━━━━━━━━━━━━━━━━━━━━━━━━━━━━\u001b[0m \u001b[32m60.6/60.6 kB\u001b[0m \u001b[31m3.5 MB/s\u001b[0m eta \u001b[36m0:00:00\u001b[0m\n",
            "\u001b[2K     \u001b[90m━━━━━━━━━━━━━━━━━━━━━━━━━━━━━━━━━━━━━━━━\u001b[0m \u001b[32m43.9/43.9 MB\u001b[0m \u001b[31m7.8 MB/s\u001b[0m eta \u001b[36m0:00:00\u001b[0m\n",
            "\u001b[2K     \u001b[90m━━━━━━━━━━━━━━━━━━━━━━━━━━━━━━━━━━━━━━━━\u001b[0m \u001b[32m84.9/84.9 kB\u001b[0m \u001b[31m3.2 MB/s\u001b[0m eta \u001b[36m0:00:00\u001b[0m\n",
            "\u001b[2K     \u001b[90m━━━━━━━━━━━━━━━━━━━━━━━━━━━━━━━━━━━━━━━━\u001b[0m \u001b[32m60.5/60.5 MB\u001b[0m \u001b[31m8.1 MB/s\u001b[0m eta \u001b[36m0:00:00\u001b[0m\n",
            "\u001b[2K     \u001b[90m━━━━━━━━━━━━━━━━━━━━━━━━━━━━━━━━━━━━━━━━\u001b[0m \u001b[32m2.3/2.3 MB\u001b[0m \u001b[31m15.5 MB/s\u001b[0m eta \u001b[36m0:00:00\u001b[0m\n",
            "\u001b[2K     \u001b[90m━━━━━━━━━━━━━━━━━━━━━━━━━━━━━━━━━━━━━━━\u001b[0m \u001b[32m904.1/904.1 kB\u001b[0m \u001b[31m7.5 MB/s\u001b[0m eta \u001b[36m0:00:00\u001b[0m\n",
            "\u001b[2K     \u001b[90m━━━━━━━━━━━━━━━━━━━━━━━━━━━━━━━━━━━━━━━\u001b[0m \u001b[32m149.2/149.2 kB\u001b[0m \u001b[31m3.7 MB/s\u001b[0m eta \u001b[36m0:00:00\u001b[0m\n",
            "\u001b[2K     \u001b[90m━━━━━━━━━━━━━━━━━━━━━━━━━━━━━━━━━━━━━━━━\u001b[0m \u001b[32m26.5/26.5 MB\u001b[0m \u001b[31m6.0 MB/s\u001b[0m eta \u001b[36m0:00:00\u001b[0m\n",
            "\u001b[2K     \u001b[90m━━━━━━━━━━━━━━━━━━━━━━━━━━━━━━━━━━━━━━━━\u001b[0m \u001b[32m4.5/4.5 MB\u001b[0m \u001b[31m60.6 MB/s\u001b[0m eta \u001b[36m0:00:00\u001b[0m\n",
            "\u001b[2K     \u001b[90m━━━━━━━━━━━━━━━━━━━━━━━━━━━━━━━━━━━━━━━\u001b[0m \u001b[32m156.1/156.1 MB\u001b[0m \u001b[31m6.6 MB/s\u001b[0m eta \u001b[36m0:00:00\u001b[0m\n",
            "\u001b[2K     \u001b[90m━━━━━━━━━━━━━━━━━━━━━━━━━━━━━━━━━━━━━━━━\u001b[0m \u001b[32m1.7/1.7 MB\u001b[0m \u001b[31m30.7 MB/s\u001b[0m eta \u001b[36m0:00:00\u001b[0m\n",
            "\u001b[2K     \u001b[90m━━━━━━━━━━━━━━━━━━━━━━━━━━━━━━━━━━━━━━━\u001b[0m \u001b[32m498.1/498.1 MB\u001b[0m \u001b[31m3.4 MB/s\u001b[0m eta \u001b[36m0:00:00\u001b[0m\n",
            "\u001b[2K     \u001b[90m━━━━━━━━━━━━━━━━━━━━━━━━━━━━━━━━━━━━━━━━\u001b[0m \u001b[32m51.1/51.1 kB\u001b[0m \u001b[31m6.6 MB/s\u001b[0m eta \u001b[36m0:00:00\u001b[0m\n",
            "\u001b[2K     \u001b[90m━━━━━━━━━━━━━━━━━━━━━━━━━━━━━━━━━━━━━━━━\u001b[0m \u001b[32m50.7/50.7 kB\u001b[0m \u001b[31m6.0 MB/s\u001b[0m eta \u001b[36m0:00:00\u001b[0m\n",
            "\u001b[2K     \u001b[90m━━━━━━━━━━━━━━━━━━━━━━━━━━━━━━━━━━━━━━\u001b[0m \u001b[32m832.9/832.9 kB\u001b[0m \u001b[31m52.3 MB/s\u001b[0m eta \u001b[36m0:00:00\u001b[0m\n",
            "\u001b[2K     \u001b[90m━━━━━━━━━━━━━━━━━━━━━━━━━━━━━━━━━━━━━━━━\u001b[0m \u001b[32m1.4/1.4 MB\u001b[0m \u001b[31m59.6 MB/s\u001b[0m eta \u001b[36m0:00:00\u001b[0m\n",
            "\u001b[2K     \u001b[90m━━━━━━━━━━━━━━━━━━━━━━━━━━━━━━━━━━━━━━\u001b[0m \u001b[32m462.3/462.3 kB\u001b[0m \u001b[31m36.7 MB/s\u001b[0m eta \u001b[36m0:00:00\u001b[0m\n",
            "\u001b[2K     \u001b[90m━━━━━━━━━━━━━━━━━━━━━━━━━━━━━━━━━━━━━━━━\u001b[0m \u001b[32m5.8/5.8 MB\u001b[0m \u001b[31m68.1 MB/s\u001b[0m eta \u001b[36m0:00:00\u001b[0m\n",
            "\u001b[2K     \u001b[90m━━━━━━━━━━━━━━━━━━━━━━━━━━━━━━━━━━━━━━━━\u001b[0m \u001b[32m42.6/42.6 kB\u001b[0m \u001b[31m3.5 MB/s\u001b[0m eta \u001b[36m0:00:00\u001b[0m\n",
            "\u001b[2K     \u001b[90m━━━━━━━━━━━━━━━━━━━━━━━━━━━━━━━━━━━━━━━━\u001b[0m \u001b[32m1.1/1.1 MB\u001b[0m \u001b[31m38.9 MB/s\u001b[0m eta \u001b[36m0:00:00\u001b[0m\n",
            "\u001b[2K     \u001b[90m━━━━━━━━━━━━━━━━━━━━━━━━━━━━━━━━━━━━━━\u001b[0m \u001b[32m192.2/192.2 kB\u001b[0m \u001b[31m17.7 MB/s\u001b[0m eta \u001b[36m0:00:00\u001b[0m\n",
            "\u001b[2K     \u001b[90m━━━━━━━━━━━━━━━━━━━━━━━━━━━━━━━━━━━━━━━\u001b[0m \u001b[32m109.0/109.0 kB\u001b[0m \u001b[31m9.5 MB/s\u001b[0m eta \u001b[36m0:00:00\u001b[0m\n",
            "\u001b[2K     \u001b[90m━━━━━━━━━━━━━━━━━━━━━━━━━━━━━━━━━━━━━━━━\u001b[0m \u001b[32m4.9/4.9 MB\u001b[0m \u001b[31m73.9 MB/s\u001b[0m eta \u001b[36m0:00:00\u001b[0m\n",
            "\u001b[2K     \u001b[90m━━━━━━━━━━━━━━━━━━━━━━━━━━━━━━━━━━━━━━\u001b[0m \u001b[32m485.6/485.6 kB\u001b[0m \u001b[31m46.6 MB/s\u001b[0m eta \u001b[36m0:00:00\u001b[0m\n",
            "\u001b[?25h  Building wheel for pykalman (setup.py) ... \u001b[?25l\u001b[?25hdone\n",
            "  Building wheel for jsmin (setup.py) ... \u001b[?25l\u001b[?25hdone\n",
            "\u001b[31mERROR: pip's dependency resolver does not currently take into account all the packages that are installed. This behaviour is the source of the following dependency conflicts.\n",
            "tensorflow-metadata 1.13.1 requires protobuf<5,>=3.20.3, but you have protobuf 3.19.6 which is incompatible.\n",
            "flax 0.6.9 requires rich>=11.1, but you have rich 10.16.1 which is incompatible.\u001b[0m\u001b[31m\n",
            "\u001b[0m  Preparing metadata (setup.py) ... \u001b[?25l\u001b[?25hdone\n",
            "  Building wheel for nvidia-ml-py3 (setup.py) ... \u001b[?25l\u001b[?25hdone\n"
          ]
        }
      ]
    },
    {
      "cell_type": "code",
      "metadata": {
        "colab": {
          "base_uri": "https://localhost:8080/"
        },
        "id": "jftAOyvvuQeh",
        "outputId": "34230aff-49b2-49e2-e965-edb56fb55611"
      },
      "source": [
        "import os\n",
        "import gc\n",
        "import random\n",
        "import time\n",
        "\n",
        "import nvidia_smi\n",
        "\n",
        "import numpy as np\n",
        "import tensorflow as tf\n",
        "\n",
        "import sleap\n",
        "\n",
        "sleap.versions()"
      ],
      "execution_count": null,
      "outputs": [
        {
          "output_type": "stream",
          "name": "stdout",
          "text": [
            "SLEAP: 1.3.0\n",
            "TensorFlow: 2.8.4\n",
            "Numpy: 1.22.4\n",
            "Python: 3.10.11\n",
            "OS: Linux-5.10.147+-x86_64-with-glibc2.31\n"
          ]
        }
      ]
    },
    {
      "cell_type": "code",
      "source": [
        "!pip install wandb -qqq\n",
        "import wandb\n",
        "wandb.login()"
      ],
      "metadata": {
        "colab": {
          "base_uri": "https://localhost:8080/",
          "height": 173
        },
        "id": "9yvGIQSkWyt_",
        "outputId": "e3703c86-588c-44c3-9d95-7ac88f5910c7"
      },
      "execution_count": null,
      "outputs": [
        {
          "output_type": "stream",
          "name": "stdout",
          "text": [
            "\u001b[2K     \u001b[90m━━━━━━━━━━━━━━━━━━━━━━━━━━━━━━━━━━━━━━━━\u001b[0m \u001b[32m2.0/2.0 MB\u001b[0m \u001b[31m19.7 MB/s\u001b[0m eta \u001b[36m0:00:00\u001b[0m\n",
            "\u001b[2K     \u001b[90m━━━━━━━━━━━━━━━━━━━━━━━━━━━━━━━━━━━━━━\u001b[0m \u001b[32m184.3/184.3 kB\u001b[0m \u001b[31m18.0 MB/s\u001b[0m eta \u001b[36m0:00:00\u001b[0m\n",
            "\u001b[2K     \u001b[90m━━━━━━━━━━━━━━━━━━━━━━━━━━━━━━━━━━━━━━\u001b[0m \u001b[32m203.1/203.1 kB\u001b[0m \u001b[31m19.4 MB/s\u001b[0m eta \u001b[36m0:00:00\u001b[0m\n",
            "\u001b[?25h  Preparing metadata (setup.py) ... \u001b[?25l\u001b[?25hdone\n",
            "\u001b[2K     \u001b[90m━━━━━━━━━━━━━━━━━━━━━━━━━━━━━━━━━━━━━━━━\u001b[0m \u001b[32m62.7/62.7 kB\u001b[0m \u001b[31m6.4 MB/s\u001b[0m eta \u001b[36m0:00:00\u001b[0m\n",
            "\u001b[?25h  Building wheel for pathtools (setup.py) ... \u001b[?25l\u001b[?25hdone\n"
          ]
        },
        {
          "output_type": "display_data",
          "data": {
            "text/plain": [
              "<IPython.core.display.Javascript object>"
            ],
            "application/javascript": [
              "\n",
              "        window._wandbApiKey = new Promise((resolve, reject) => {\n",
              "            function loadScript(url) {\n",
              "            return new Promise(function(resolve, reject) {\n",
              "                let newScript = document.createElement(\"script\");\n",
              "                newScript.onerror = reject;\n",
              "                newScript.onload = resolve;\n",
              "                document.body.appendChild(newScript);\n",
              "                newScript.src = url;\n",
              "            });\n",
              "            }\n",
              "            loadScript(\"https://cdn.jsdelivr.net/npm/postmate/build/postmate.min.js\").then(() => {\n",
              "            const iframe = document.createElement('iframe')\n",
              "            iframe.style.cssText = \"width:0;height:0;border:none\"\n",
              "            document.body.appendChild(iframe)\n",
              "            const handshake = new Postmate({\n",
              "                container: iframe,\n",
              "                url: 'https://wandb.ai/authorize'\n",
              "            });\n",
              "            const timeout = setTimeout(() => reject(\"Couldn't auto authenticate\"), 5000)\n",
              "            handshake.then(function(child) {\n",
              "                child.on('authorize', data => {\n",
              "                    clearTimeout(timeout)\n",
              "                    resolve(data)\n",
              "                });\n",
              "            });\n",
              "            })\n",
              "        });\n",
              "    "
            ]
          },
          "metadata": {}
        },
        {
          "output_type": "stream",
          "name": "stderr",
          "text": [
            "\u001b[34m\u001b[1mwandb\u001b[0m: Appending key for api.wandb.ai to your netrc file: /root/.netrc\n"
          ]
        },
        {
          "output_type": "execute_result",
          "data": {
            "text/plain": [
              "True"
            ]
          },
          "metadata": {},
          "execution_count": 3
        }
      ]
    },
    {
      "cell_type": "markdown",
      "source": [
        "# Utils"
      ],
      "metadata": {
        "id": "7TIJQcB2hz44"
      }
    },
    {
      "cell_type": "code",
      "source": [
        "def seed_everything(seed=42):\n",
        "    random.seed(seed)\n",
        "    os.environ['PYTHONHASHSEED'] = str(seed)\n",
        "    np.random.seed(seed)\n",
        "    tf.random.set_seed(seed)\n",
        "    tf.keras.utils.set_random_seed(seed)\n",
        "\n",
        "def get_vram():\n",
        "    nvidia_smi.nvmlInit()\n",
        "\n",
        "    deviceCount = nvidia_smi.nvmlDeviceGetCount()\n",
        "    for i in range(deviceCount):\n",
        "        handle = nvidia_smi.nvmlDeviceGetHandleByIndex(i)\n",
        "        info = nvidia_smi.nvmlDeviceGetMemoryInfo(handle)\n",
        "        output = (\"Device {}: {}, Memory : ({:.2f}% free): {} (total), {} (free), {} (used)\"\n",
        "              .format(i, nvidia_smi.nvmlDeviceGetName(handle), 100*info.free/info.total, \n",
        "                      info.total/(1024 ** 3), info.free/(1024 ** 3), info.used/(1024 ** 3)))\n",
        "\n",
        "    nvidia_smi.nvmlShutdown()\n",
        "\n",
        "    return output\n",
        "\n",
        "def get_param_count(model):\n",
        "  trainable_params = np.sum([np.prod(v.get_shape()) for v in model.trainable_weights])\n",
        "  nontrainable_params = np.sum([np.prod(v.get_shape()) for v in model.non_trainable_weights])\n",
        "  total_params = trainable_params + nontrainable_params\n",
        "  return trainable_params, nontrainable_params, total_params"
      ],
      "metadata": {
        "id": "yxpqyaxnhzN9"
      },
      "execution_count": null,
      "outputs": []
    },
    {
      "cell_type": "code",
      "source": [
        "seed = 42\n",
        "seed_everything(seed)"
      ],
      "metadata": {
        "id": "h8FyuIUFh_if"
      },
      "execution_count": null,
      "outputs": []
    },
    {
      "cell_type": "markdown",
      "metadata": {
        "id": "wSdTJYOdu4L6"
      },
      "source": [
        "# Download training data"
      ]
    },
    {
      "cell_type": "code",
      "source": [
        "!curl -L --output labels.slp https://storage.googleapis.com/sleap-data/datasets/wt_gold.13pt/tracking_split2/train.pkg.slp\n",
        "!ls -lah\n",
        "\n",
        "!curl -L --output val_labels.slp https://storage.googleapis.com/sleap-data/datasets/wt_gold.13pt/tracking_split2/val.pkg.slp\n",
        "!ls -lah"
      ],
      "metadata": {
        "colab": {
          "base_uri": "https://localhost:8080/"
        },
        "id": "UlQlnc4uM-U7",
        "outputId": "2c16537b-41b0-402f-b70b-a3ec52708a1e"
      },
      "execution_count": null,
      "outputs": [
        {
          "output_type": "stream",
          "name": "stdout",
          "text": [
            "  % Total    % Received % Xferd  Average Speed   Time    Time     Time  Current\n",
            "                                 Dload  Upload   Total   Spent    Left  Speed\n",
            "100  619M  100  619M    0     0  63.3M      0  0:00:09  0:00:09 --:--:-- 70.3M\n",
            "total 620M\n",
            "drwxr-xr-x 1 root root 4.0K May  8 00:20 .\n",
            "drwxr-xr-x 1 root root 4.0K May  8 00:12 ..\n",
            "drwxr-xr-x 4 root root 4.0K May  3 13:30 .config\n",
            "-rw-r--r-- 1 root root 620M May  8 00:21 labels.slp\n",
            "drwxr-xr-x 1 root root 4.0K May  3 13:31 sample_data\n",
            "  % Total    % Received % Xferd  Average Speed   Time    Time     Time  Current\n",
            "                                 Dload  Upload   Total   Spent    Left  Speed\n",
            "100 77.2M  100 77.2M    0     0  64.6M      0  0:00:01  0:00:01 --:--:-- 64.6M\n",
            "total 697M\n",
            "drwxr-xr-x 1 root root 4.0K May  8 00:21 .\n",
            "drwxr-xr-x 1 root root 4.0K May  8 00:12 ..\n",
            "drwxr-xr-x 4 root root 4.0K May  3 13:30 .config\n",
            "-rw-r--r-- 1 root root 620M May  8 00:21 labels.slp\n",
            "drwxr-xr-x 1 root root 4.0K May  3 13:31 sample_data\n",
            "-rw-r--r-- 1 root root  78M May  8 00:21 val_labels.slp\n"
          ]
        }
      ]
    },
    {
      "cell_type": "markdown",
      "metadata": {
        "id": "5lugn7a_HC0Q"
      },
      "source": [
        "# Load the training data"
      ]
    },
    {
      "cell_type": "code",
      "metadata": {
        "colab": {
          "base_uri": "https://localhost:8080/"
        },
        "id": "UMkSIZrTHCMr",
        "outputId": "4e977208-8093-479b-c28a-29b3f1201f92"
      },
      "source": [
        "# SLEAP Labels files (.slp) can include the images as well as labeled instances and\n",
        "# other metadata for a project.\n",
        "labels = sleap.load_file(\"labels.slp\")\n",
        "labels = labels.with_user_labels_only()\n",
        "labels.describe()"
      ],
      "execution_count": null,
      "outputs": [
        {
          "output_type": "stream",
          "name": "stdout",
          "text": [
            "Skeleton: Skeleton(description=None, nodes=[head, thorax, abdomen, wingL, wingR, forelegL4, forelegR4, midlegL4, midlegR4, hindlegL4, hindlegR4, eyeL, eyeR], edges=[thorax->head, thorax->abdomen, thorax->wingL, thorax->wingR, thorax->forelegL4, thorax->forelegR4, thorax->midlegL4, thorax->midlegR4, thorax->hindlegL4, thorax->hindlegR4, head->eyeL, head->eyeR], symmetries=[hindlegL4<->hindlegR4, forelegL4<->forelegR4, midlegL4<->midlegR4, eyeL<->eyeR, wingL<->wingR])\n",
            "Videos: ['labels.slp', 'labels.slp', 'labels.slp', 'labels.slp', 'labels.slp', 'labels.slp', 'labels.slp', 'labels.slp', 'labels.slp', 'labels.slp', 'labels.slp', 'labels.slp', 'labels.slp', 'labels.slp', 'labels.slp', 'labels.slp', 'labels.slp', 'labels.slp', 'labels.slp', 'labels.slp', 'labels.slp', 'labels.slp', 'labels.slp', 'labels.slp', 'labels.slp', 'labels.slp', 'labels.slp', 'labels.slp', 'labels.slp', 'labels.slp']\n",
            "Frames (user/predicted): 1,600/0\n",
            "Instances (user/predicted): 3,200/0\n",
            "Tracks: [Track(spawned_on=0, name='female'), Track(spawned_on=0, name='male')]\n",
            "Suggestions: 0\n",
            "Provenance: {}\n"
          ]
        }
      ]
    },
    {
      "cell_type": "code",
      "source": [
        "# Let's also do the same for the val labels.\n",
        "val_labels = sleap.load_file(\"val_labels.slp\")\n",
        "val_labels = val_labels.with_user_labels_only()\n",
        "val_labels.describe()"
      ],
      "metadata": {
        "colab": {
          "base_uri": "https://localhost:8080/"
        },
        "id": "IanzIx9WsqoH",
        "outputId": "a966c57b-fb2a-4ce0-f757-6d56262dd068"
      },
      "execution_count": null,
      "outputs": [
        {
          "output_type": "stream",
          "name": "stdout",
          "text": [
            "Skeleton: Skeleton(description=None, nodes=[head, thorax, abdomen, wingL, wingR, forelegL4, forelegR4, midlegL4, midlegR4, hindlegL4, hindlegR4, eyeL, eyeR], edges=[thorax->head, thorax->abdomen, thorax->wingL, thorax->wingR, thorax->forelegL4, thorax->forelegR4, thorax->midlegL4, thorax->midlegR4, thorax->hindlegL4, thorax->hindlegR4, head->eyeL, head->eyeR], symmetries=[hindlegL4<->hindlegR4, eyeL<->eyeR, midlegL4<->midlegR4, wingL<->wingR, forelegL4<->forelegR4])\n",
            "Videos: ['val_labels.slp', 'val_labels.slp', 'val_labels.slp', 'val_labels.slp', 'val_labels.slp', 'val_labels.slp', 'val_labels.slp', 'val_labels.slp', 'val_labels.slp', 'val_labels.slp', 'val_labels.slp', 'val_labels.slp', 'val_labels.slp', 'val_labels.slp', 'val_labels.slp', 'val_labels.slp', 'val_labels.slp', 'val_labels.slp', 'val_labels.slp', 'val_labels.slp', 'val_labels.slp', 'val_labels.slp', 'val_labels.slp', 'val_labels.slp', 'val_labels.slp', 'val_labels.slp', 'val_labels.slp', 'val_labels.slp', 'val_labels.slp', 'val_labels.slp']\n",
            "Frames (user/predicted): 200/0\n",
            "Instances (user/predicted): 400/0\n",
            "Tracks: [Track(spawned_on=0, name='female'), Track(spawned_on=0, name='male')]\n",
            "Suggestions: 0\n",
            "Provenance: {}\n"
          ]
        }
      ]
    },
    {
      "cell_type": "code",
      "metadata": {
        "colab": {
          "base_uri": "https://localhost:8080/"
        },
        "id": "EK8DDPHDHBr_",
        "outputId": "7ef32d16-361b-4574-9d15-711660838ceb"
      },
      "source": [
        "# Labels are list-like containers whose elements are LabeledFrames\n",
        "print(f\"Number of labels: {len(labels)}\")\n",
        "\n",
        "labeled_frame = labels[0]\n",
        "labeled_frame"
      ],
      "execution_count": null,
      "outputs": [
        {
          "output_type": "stream",
          "name": "stdout",
          "text": [
            "Number of labels: 1600\n"
          ]
        },
        {
          "output_type": "execute_result",
          "data": {
            "text/plain": [
              "LabeledFrame(video=HDF5Video('labels.slp'), frame_idx=166050, instances=2)"
            ]
          },
          "metadata": {},
          "execution_count": 9
        }
      ]
    },
    {
      "cell_type": "code",
      "metadata": {
        "colab": {
          "base_uri": "https://localhost:8080/"
        },
        "id": "pP5uXrU3HX6o",
        "outputId": "6c744307-9127-4e4d-f7b8-e50cfe228997"
      },
      "source": [
        "# LabeledFrames are containers for instances that were labeled in a single frame\n",
        "instance = labeled_frame[0]\n",
        "instance"
      ],
      "execution_count": null,
      "outputs": [
        {
          "output_type": "execute_result",
          "data": {
            "text/plain": [
              "Instance(video=Video(filename=labels.slp, shape=(66, 1024, 1024, 1), backend=HDF5Video), frame_idx=166050, points=[head: (491.6, 187.7), thorax: (474.4, 224.8), abdomen: (459.9, 262.2), wingL: (448.3, 271.7), wingR: (452.1, 273.5), forelegL4: (478.5, 175.9), forelegR4: (499.9, 177.9), midlegL4: (440.6, 216.4), midlegR4: (510.1, 242.7), hindlegL4: (437.2, 234.3), hindlegR4: (490.9, 266.7), eyeL: (477.5, 193.2), eyeR: (498.4, 201.2)], track=Track(spawned_on=0, name='female'))"
            ]
          },
          "metadata": {},
          "execution_count": 10
        }
      ]
    },
    {
      "cell_type": "code",
      "metadata": {
        "colab": {
          "base_uri": "https://localhost:8080/"
        },
        "id": "700fTPs4Hurg",
        "outputId": "91968bbf-d09b-4d98-81c0-c8e2767f1f1e"
      },
      "source": [
        "# They can be converted to numpy arrays where each row corresponds to the coordinates\n",
        "# of a different body part:\n",
        "pts = instance.numpy()\n",
        "pts"
      ],
      "execution_count": null,
      "outputs": [
        {
          "output_type": "execute_result",
          "data": {
            "text/plain": [
              "rec.array([[491.58118169, 187.72078779],\n",
              "           [474.3603939 , 224.80196948],\n",
              "           [459.90098474, 262.16236338],\n",
              "           [448.26137864, 271.72078779],\n",
              "           [452.08118169, 273.54059084],\n",
              "           [478.5       , 175.90098474],\n",
              "           [499.94157558, 177.90098474],\n",
              "           [440.58118169, 216.3603939 ],\n",
              "           [510.12177253, 242.72078779],\n",
              "           [         nan,          nan],\n",
              "           [490.90098474, 266.72078779],\n",
              "           [477.54059084, 193.16236338],\n",
              "           [498.40098474, 201.18019695]],\n",
              "          dtype=float64)"
            ]
          },
          "metadata": {},
          "execution_count": 11
        }
      ]
    },
    {
      "cell_type": "markdown",
      "metadata": {
        "id": "-vYsPusvviiu"
      },
      "source": [
        "# Setup training data generation"
      ]
    },
    {
      "cell_type": "code",
      "metadata": {
        "colab": {
          "base_uri": "https://localhost:8080/"
        },
        "id": "3SuKuK6GIDLg",
        "outputId": "3a244f72-7394-4c1a-8c59-b50b2866ac63"
      },
      "source": [
        "# Initialize a pipeline from the labels.\n",
        "p = labels.with_user_labels_only().to_pipeline()\n",
        "\n",
        "# This pipeline will output dictionaries with tensors containing frame data:\n",
        "p.describe()"
      ],
      "execution_count": null,
      "outputs": [
        {
          "output_type": "stream",
          "name": "stdout",
          "text": [
            "         image: type=EagerTensor, shape=(1024, 1024, 1), dtype=tf.uint8, device=/job:localhost/replica:0/task:0/device:CPU:0\n",
            "raw_image_size: type=EagerTensor, shape=(3,), dtype=tf.int32, device=/job:localhost/replica:0/task:0/device:CPU:0\n",
            "   example_ind: type=EagerTensor, shape=(), dtype=tf.int64, device=/job:localhost/replica:0/task:0/device:CPU:0\n",
            "     video_ind: type=EagerTensor, shape=(), dtype=tf.int32, device=/job:localhost/replica:0/task:0/device:CPU:0\n",
            "     frame_ind: type=EagerTensor, shape=(), dtype=tf.int64, device=/job:localhost/replica:0/task:0/device:CPU:0\n",
            "         scale: type=EagerTensor, shape=(2,), dtype=tf.float32, device=/job:localhost/replica:0/task:0/device:CPU:0\n",
            "     instances: type=EagerTensor, shape=(2, 13, 2), dtype=tf.float32, device=/job:localhost/replica:0/task:0/device:CPU:0\n",
            " skeleton_inds: type=EagerTensor, shape=(2,), dtype=tf.int32, device=/job:localhost/replica:0/task:0/device:CPU:0\n",
            "    track_inds: type=EagerTensor, shape=(2,), dtype=tf.int32, device=/job:localhost/replica:0/task:0/device:CPU:0\n",
            "      n_tracks: type=EagerTensor, shape=(), dtype=tf.int32, device=/job:localhost/replica:0/task:0/device:CPU:0\n"
          ]
        }
      ]
    },
    {
      "cell_type": "code",
      "metadata": {
        "colab": {
          "base_uri": "https://localhost:8080/"
        },
        "id": "ozFr7JQeI22M",
        "outputId": "867ed84b-4a4a-438e-c093-d6a97069379e"
      },
      "source": [
        "# Let's add some transformations necessary for the centered-instance model.\n",
        "p = labels.with_user_labels_only().to_pipeline()\n",
        "p += sleap.pipelines.ImgaugAugmenter.from_config(sleap.pipelines.AugmentationConfig(rotate=True, rotation_min_angle=-180, rotation_max_angle=180))\n",
        "p += sleap.pipelines.Normalizer()\n",
        "p += sleap.pipelines.InstanceCentroidFinder(center_on_anchor_part=True, anchor_part_names=\"thorax\", skeletons=labels.skeletons)\n",
        "p += sleap.pipelines.InstanceCropper(crop_width=160, crop_height=160)\n",
        "p += sleap.pipelines.InstanceConfidenceMapGenerator(sigma=1.5, output_stride=2)\n",
        "p += sleap.pipelines.Batcher(batch_size=4, drop_remainder=True)\n",
        "p.describe()"
      ],
      "execution_count": null,
      "outputs": [
        {
          "output_type": "stream",
          "name": "stdout",
          "text": [
            "          instance_image: type=EagerTensor, shape=(4, 160, 160, 1), dtype=tf.float32, device=/job:localhost/replica:0/task:0/device:CPU:0\n",
            "                    bbox: type=EagerTensor, shape=(4, 4), dtype=tf.float32, device=/job:localhost/replica:0/task:0/device:CPU:0\n",
            "         center_instance: type=EagerTensor, shape=(4, 13, 2), dtype=tf.float32, device=/job:localhost/replica:0/task:0/device:CPU:0\n",
            "     center_instance_ind: type=EagerTensor, shape=(4, 1), dtype=tf.int32, device=/job:localhost/replica:0/task:0/device:CPU:0\n",
            "               track_ind: type=EagerTensor, shape=(4, 1), dtype=tf.int32, device=/job:localhost/replica:0/task:0/device:CPU:0\n",
            "           all_instances: type=EagerTensor, shape=(4, 2, 13, 2), dtype=tf.float32, device=/job:localhost/replica:0/task:0/device:CPU:0\n",
            "                centroid: type=EagerTensor, shape=(4, 2), dtype=tf.float32, device=/job:localhost/replica:0/task:0/device:CPU:0\n",
            "       full_image_height: type=EagerTensor, shape=(4, 1), dtype=tf.int32, device=/job:localhost/replica:0/task:0/device:CPU:0\n",
            "        full_image_width: type=EagerTensor, shape=(4, 1), dtype=tf.int32, device=/job:localhost/replica:0/task:0/device:CPU:0\n",
            "          raw_image_size: type=EagerTensor, shape=(4, 3), dtype=tf.int32, device=/job:localhost/replica:0/task:0/device:CPU:0\n",
            "             example_ind: type=EagerTensor, shape=(4, 1), dtype=tf.int64, device=/job:localhost/replica:0/task:0/device:CPU:0\n",
            "               video_ind: type=EagerTensor, shape=(4, 1), dtype=tf.int32, device=/job:localhost/replica:0/task:0/device:CPU:0\n",
            "               frame_ind: type=EagerTensor, shape=(4, 1), dtype=tf.int64, device=/job:localhost/replica:0/task:0/device:CPU:0\n",
            "                   scale: type=EagerTensor, shape=(4, 2), dtype=tf.float32, device=/job:localhost/replica:0/task:0/device:CPU:0\n",
            "           skeleton_inds: type=EagerTensor, shape=(4, 2), dtype=tf.int32, device=/job:localhost/replica:0/task:0/device:CPU:0\n",
            "              track_inds: type=EagerTensor, shape=(4, 2), dtype=tf.int32, device=/job:localhost/replica:0/task:0/device:CPU:0\n",
            "                n_tracks: type=EagerTensor, shape=(4, 1), dtype=tf.int32, device=/job:localhost/replica:0/task:0/device:CPU:0\n",
            "instance_confidence_maps: type=EagerTensor, shape=(4, 80, 80, 13), dtype=tf.float32, device=/job:localhost/replica:0/task:0/device:CPU:0\n"
          ]
        }
      ]
    },
    {
      "cell_type": "code",
      "source": [
        "# Let's build our validation pipeline.\n",
        "# Note, we didn't include the augmentations.\n",
        "val_p = labels.with_user_labels_only().to_pipeline()\n",
        "val_p += sleap.pipelines.Normalizer()\n",
        "val_p += sleap.pipelines.InstanceCentroidFinder(center_on_anchor_part=True, anchor_part_names=\"thorax\", skeletons=labels.skeletons)\n",
        "val_p += sleap.pipelines.InstanceCropper(crop_width=160, crop_height=160)\n",
        "val_p += sleap.pipelines.InstanceConfidenceMapGenerator(sigma=1.5, output_stride=2)\n",
        "val_p += sleap.pipelines.Batcher(batch_size=4, drop_remainder=True)\n",
        "val_p.describe()"
      ],
      "metadata": {
        "colab": {
          "base_uri": "https://localhost:8080/"
        },
        "id": "lJRdies-tWuK",
        "outputId": "1e208f9b-512d-433c-c778-1247eaf6f49b"
      },
      "execution_count": null,
      "outputs": [
        {
          "output_type": "stream",
          "name": "stdout",
          "text": [
            "          instance_image: type=EagerTensor, shape=(4, 160, 160, 1), dtype=tf.float32, device=/job:localhost/replica:0/task:0/device:CPU:0\n",
            "                    bbox: type=EagerTensor, shape=(4, 4), dtype=tf.float32, device=/job:localhost/replica:0/task:0/device:CPU:0\n",
            "         center_instance: type=EagerTensor, shape=(4, 13, 2), dtype=tf.float32, device=/job:localhost/replica:0/task:0/device:CPU:0\n",
            "     center_instance_ind: type=EagerTensor, shape=(4, 1), dtype=tf.int32, device=/job:localhost/replica:0/task:0/device:CPU:0\n",
            "               track_ind: type=EagerTensor, shape=(4, 1), dtype=tf.int32, device=/job:localhost/replica:0/task:0/device:CPU:0\n",
            "           all_instances: type=EagerTensor, shape=(4, 2, 13, 2), dtype=tf.float32, device=/job:localhost/replica:0/task:0/device:CPU:0\n",
            "                centroid: type=EagerTensor, shape=(4, 2), dtype=tf.float32, device=/job:localhost/replica:0/task:0/device:CPU:0\n",
            "       full_image_height: type=EagerTensor, shape=(4, 1), dtype=tf.int32, device=/job:localhost/replica:0/task:0/device:CPU:0\n",
            "        full_image_width: type=EagerTensor, shape=(4, 1), dtype=tf.int32, device=/job:localhost/replica:0/task:0/device:CPU:0\n",
            "          raw_image_size: type=EagerTensor, shape=(4, 3), dtype=tf.int32, device=/job:localhost/replica:0/task:0/device:CPU:0\n",
            "             example_ind: type=EagerTensor, shape=(4, 1), dtype=tf.int64, device=/job:localhost/replica:0/task:0/device:CPU:0\n",
            "               video_ind: type=EagerTensor, shape=(4, 1), dtype=tf.int32, device=/job:localhost/replica:0/task:0/device:CPU:0\n",
            "               frame_ind: type=EagerTensor, shape=(4, 1), dtype=tf.int64, device=/job:localhost/replica:0/task:0/device:CPU:0\n",
            "                   scale: type=EagerTensor, shape=(4, 2), dtype=tf.float32, device=/job:localhost/replica:0/task:0/device:CPU:0\n",
            "           skeleton_inds: type=EagerTensor, shape=(4, 2), dtype=tf.int32, device=/job:localhost/replica:0/task:0/device:CPU:0\n",
            "              track_inds: type=EagerTensor, shape=(4, 2), dtype=tf.int32, device=/job:localhost/replica:0/task:0/device:CPU:0\n",
            "                n_tracks: type=EagerTensor, shape=(4, 1), dtype=tf.int32, device=/job:localhost/replica:0/task:0/device:CPU:0\n",
            "instance_confidence_maps: type=EagerTensor, shape=(4, 80, 80, 13), dtype=tf.float32, device=/job:localhost/replica:0/task:0/device:CPU:0\n"
          ]
        }
      ]
    },
    {
      "cell_type": "markdown",
      "metadata": {
        "id": "0yo95XzRKkba"
      },
      "source": [
        "# Setting up a neural network model"
      ]
    },
    {
      "cell_type": "code",
      "metadata": {
        "colab": {
          "base_uri": "https://localhost:8080/"
        },
        "id": "kjshAqdqKyUI",
        "outputId": "c885edc5-84e0-4d11-a237-94aafff16dd5"
      },
      "source": [
        "# Instantiate the backbone builder.\n",
        "unet = sleap.nn.architectures.unet.UNet(filters=32, filters_rate=1.5, down_blocks=4, up_blocks=3, up_interpolate=True)\n",
        "\n",
        "# Create the input layer (see above for the dimensions)\n",
        "x_in = tf.keras.layers.Input((160, 160, 1))\n",
        "\n",
        "# Create the feature extractor backbone.\n",
        "x_features, x_intermediate = unet.make_backbone(x_in)\n",
        "\n",
        "# Do a 1x1 conv with linear activation to remap activations to the number of channels in\n",
        "# the confidence maps (see above)\n",
        "x_confmaps = tf.keras.layers.Conv2D(filters=13, kernel_size=1, strides=1, padding=\"same\")(x_features)\n",
        "\n",
        "# Create a Model that links the whole graph\n",
        "model = tf.keras.Model(x_in, x_confmaps)\n",
        "model.summary()"
      ],
      "execution_count": null,
      "outputs": [
        {
          "output_type": "stream",
          "name": "stdout",
          "text": [
            "Model: \"model\"\n",
            "__________________________________________________________________________________________________\n",
            " Layer (type)                   Output Shape         Param #     Connected to                     \n",
            "==================================================================================================\n",
            " input_1 (InputLayer)           [(None, 160, 160, 1  0           []                               \n",
            "                                )]                                                                \n",
            "                                                                                                  \n",
            " stack0_enc0_conv0 (Conv2D)     (None, 160, 160, 32  320         ['input_1[0][0]']                \n",
            "                                )                                                                 \n",
            "                                                                                                  \n",
            " stack0_enc0_act0_relu (Activat  (None, 160, 160, 32  0          ['stack0_enc0_conv0[0][0]']      \n",
            " ion)                           )                                                                 \n",
            "                                                                                                  \n",
            " stack0_enc0_conv1 (Conv2D)     (None, 160, 160, 32  9248        ['stack0_enc0_act0_relu[0][0]']  \n",
            "                                )                                                                 \n",
            "                                                                                                  \n",
            " stack0_enc0_act1_relu (Activat  (None, 160, 160, 32  0          ['stack0_enc0_conv1[0][0]']      \n",
            " ion)                           )                                                                 \n",
            "                                                                                                  \n",
            " stack0_enc1_pool (MaxPooling2D  (None, 80, 80, 32)  0           ['stack0_enc0_act1_relu[0][0]']  \n",
            " )                                                                                                \n",
            "                                                                                                  \n",
            " stack0_enc1_conv0 (Conv2D)     (None, 80, 80, 48)   13872       ['stack0_enc1_pool[0][0]']       \n",
            "                                                                                                  \n",
            " stack0_enc1_act0_relu (Activat  (None, 80, 80, 48)  0           ['stack0_enc1_conv0[0][0]']      \n",
            " ion)                                                                                             \n",
            "                                                                                                  \n",
            " stack0_enc1_conv1 (Conv2D)     (None, 80, 80, 48)   20784       ['stack0_enc1_act0_relu[0][0]']  \n",
            "                                                                                                  \n",
            " stack0_enc1_act1_relu (Activat  (None, 80, 80, 48)  0           ['stack0_enc1_conv1[0][0]']      \n",
            " ion)                                                                                             \n",
            "                                                                                                  \n",
            " stack0_enc2_pool (MaxPooling2D  (None, 40, 40, 48)  0           ['stack0_enc1_act1_relu[0][0]']  \n",
            " )                                                                                                \n",
            "                                                                                                  \n",
            " stack0_enc2_conv0 (Conv2D)     (None, 40, 40, 72)   31176       ['stack0_enc2_pool[0][0]']       \n",
            "                                                                                                  \n",
            " stack0_enc2_act0_relu (Activat  (None, 40, 40, 72)  0           ['stack0_enc2_conv0[0][0]']      \n",
            " ion)                                                                                             \n",
            "                                                                                                  \n",
            " stack0_enc2_conv1 (Conv2D)     (None, 40, 40, 72)   46728       ['stack0_enc2_act0_relu[0][0]']  \n",
            "                                                                                                  \n",
            " stack0_enc2_act1_relu (Activat  (None, 40, 40, 72)  0           ['stack0_enc2_conv1[0][0]']      \n",
            " ion)                                                                                             \n",
            "                                                                                                  \n",
            " stack0_enc3_pool (MaxPooling2D  (None, 20, 20, 72)  0           ['stack0_enc2_act1_relu[0][0]']  \n",
            " )                                                                                                \n",
            "                                                                                                  \n",
            " stack0_enc3_conv0 (Conv2D)     (None, 20, 20, 108)  70092       ['stack0_enc3_pool[0][0]']       \n",
            "                                                                                                  \n",
            " stack0_enc3_act0_relu (Activat  (None, 20, 20, 108)  0          ['stack0_enc3_conv0[0][0]']      \n",
            " ion)                                                                                             \n",
            "                                                                                                  \n",
            " stack0_enc3_conv1 (Conv2D)     (None, 20, 20, 108)  105084      ['stack0_enc3_act0_relu[0][0]']  \n",
            "                                                                                                  \n",
            " stack0_enc3_act1_relu (Activat  (None, 20, 20, 108)  0          ['stack0_enc3_conv1[0][0]']      \n",
            " ion)                                                                                             \n",
            "                                                                                                  \n",
            " stack0_enc4_last_pool (MaxPool  (None, 10, 10, 108)  0          ['stack0_enc3_act1_relu[0][0]']  \n",
            " ing2D)                                                                                           \n",
            "                                                                                                  \n",
            " stack0_enc5_middle_expand_conv  (None, 10, 10, 162)  157626     ['stack0_enc4_last_pool[0][0]']  \n",
            " 0 (Conv2D)                                                                                       \n",
            "                                                                                                  \n",
            " stack0_enc5_middle_expand_act0  (None, 10, 10, 162)  0          ['stack0_enc5_middle_expand_conv0\n",
            " _relu (Activation)                                              [0][0]']                         \n",
            "                                                                                                  \n",
            " stack0_enc6_middle_contract_co  (None, 10, 10, 162)  236358     ['stack0_enc5_middle_expand_act0_\n",
            " nv0 (Conv2D)                                                    relu[0][0]']                     \n",
            "                                                                                                  \n",
            " stack0_enc6_middle_contract_ac  (None, 10, 10, 162)  0          ['stack0_enc6_middle_contract_con\n",
            " t0_relu (Activation)                                            v0[0][0]']                       \n",
            "                                                                                                  \n",
            " stack0_dec0_s16_to_s8_interp_b  (None, 20, 20, 162)  0          ['stack0_enc6_middle_contract_act\n",
            " ilinear (UpSampling2D)                                          0_relu[0][0]']                   \n",
            "                                                                                                  \n",
            " stack0_dec0_s16_to_s8_skip_con  (None, 20, 20, 270)  0          ['stack0_enc3_act1_relu[0][0]',  \n",
            " cat (Concatenate)                                                'stack0_dec0_s16_to_s8_interp_bi\n",
            "                                                                 linear[0][0]']                   \n",
            "                                                                                                  \n",
            " stack0_dec0_s16_to_s8_refine_c  (None, 20, 20, 108)  262548     ['stack0_dec0_s16_to_s8_skip_conc\n",
            " onv0 (Conv2D)                                                   at[0][0]']                       \n",
            "                                                                                                  \n",
            " stack0_dec0_s16_to_s8_refine_c  (None, 20, 20, 108)  0          ['stack0_dec0_s16_to_s8_refine_co\n",
            " onv0_act_relu (Activation)                                      nv0[0][0]']                      \n",
            "                                                                                                  \n",
            " stack0_dec0_s16_to_s8_refine_c  (None, 20, 20, 108)  105084     ['stack0_dec0_s16_to_s8_refine_co\n",
            " onv1 (Conv2D)                                                   nv0_act_relu[0][0]']             \n",
            "                                                                                                  \n",
            " stack0_dec0_s16_to_s8_refine_c  (None, 20, 20, 108)  0          ['stack0_dec0_s16_to_s8_refine_co\n",
            " onv1_act_relu (Activation)                                      nv1[0][0]']                      \n",
            "                                                                                                  \n",
            " stack0_dec1_s8_to_s4_interp_bi  (None, 40, 40, 108)  0          ['stack0_dec0_s16_to_s8_refine_co\n",
            " linear (UpSampling2D)                                           nv1_act_relu[0][0]']             \n",
            "                                                                                                  \n",
            " stack0_dec1_s8_to_s4_skip_conc  (None, 40, 40, 180)  0          ['stack0_enc2_act1_relu[0][0]',  \n",
            " at (Concatenate)                                                 'stack0_dec1_s8_to_s4_interp_bil\n",
            "                                                                 inear[0][0]']                    \n",
            "                                                                                                  \n",
            " stack0_dec1_s8_to_s4_refine_co  (None, 40, 40, 72)  116712      ['stack0_dec1_s8_to_s4_skip_conca\n",
            " nv0 (Conv2D)                                                    t[0][0]']                        \n",
            "                                                                                                  \n",
            " stack0_dec1_s8_to_s4_refine_co  (None, 40, 40, 72)  0           ['stack0_dec1_s8_to_s4_refine_con\n",
            " nv0_act_relu (Activation)                                       v0[0][0]']                       \n",
            "                                                                                                  \n",
            " stack0_dec1_s8_to_s4_refine_co  (None, 40, 40, 72)  46728       ['stack0_dec1_s8_to_s4_refine_con\n",
            " nv1 (Conv2D)                                                    v0_act_relu[0][0]']              \n",
            "                                                                                                  \n",
            " stack0_dec1_s8_to_s4_refine_co  (None, 40, 40, 72)  0           ['stack0_dec1_s8_to_s4_refine_con\n",
            " nv1_act_relu (Activation)                                       v1[0][0]']                       \n",
            "                                                                                                  \n",
            " stack0_dec2_s4_to_s2_interp_bi  (None, 80, 80, 72)  0           ['stack0_dec1_s8_to_s4_refine_con\n",
            " linear (UpSampling2D)                                           v1_act_relu[0][0]']              \n",
            "                                                                                                  \n",
            " stack0_dec2_s4_to_s2_skip_conc  (None, 80, 80, 120)  0          ['stack0_enc1_act1_relu[0][0]',  \n",
            " at (Concatenate)                                                 'stack0_dec2_s4_to_s2_interp_bil\n",
            "                                                                 inear[0][0]']                    \n",
            "                                                                                                  \n",
            " stack0_dec2_s4_to_s2_refine_co  (None, 80, 80, 48)  51888       ['stack0_dec2_s4_to_s2_skip_conca\n",
            " nv0 (Conv2D)                                                    t[0][0]']                        \n",
            "                                                                                                  \n",
            " stack0_dec2_s4_to_s2_refine_co  (None, 80, 80, 48)  0           ['stack0_dec2_s4_to_s2_refine_con\n",
            " nv0_act_relu (Activation)                                       v0[0][0]']                       \n",
            "                                                                                                  \n",
            " stack0_dec2_s4_to_s2_refine_co  (None, 80, 80, 48)  20784       ['stack0_dec2_s4_to_s2_refine_con\n",
            " nv1 (Conv2D)                                                    v0_act_relu[0][0]']              \n",
            "                                                                                                  \n",
            " stack0_dec2_s4_to_s2_refine_co  (None, 80, 80, 48)  0           ['stack0_dec2_s4_to_s2_refine_con\n",
            " nv1_act_relu (Activation)                                       v1[0][0]']                       \n",
            "                                                                                                  \n",
            " conv2d (Conv2D)                (None, 80, 80, 13)   637         ['stack0_dec2_s4_to_s2_refine_con\n",
            "                                                                 v1_act_relu[0][0]']              \n",
            "                                                                                                  \n",
            "==================================================================================================\n",
            "Total params: 1,295,669\n",
            "Trainable params: 1,295,669\n",
            "Non-trainable params: 0\n",
            "__________________________________________________________________________________________________\n"
          ]
        }
      ]
    },
    {
      "cell_type": "markdown",
      "metadata": {
        "id": "gEfgZT4hLyW4"
      },
      "source": [
        "# Train the model"
      ]
    },
    {
      "cell_type": "code",
      "metadata": {
        "id": "3IKZi6FRL5e_"
      },
      "source": [
        "# Setup the optimizer and loss function.\n",
        "optimizer = tf.keras.optimizers.Adam(learning_rate=1e-4)\n",
        "loss_fn = tf.keras.losses.MeanSquaredError()\n",
        "\n",
        "# Define a \"training step\" function. This does the forward/backward passes and applies\n",
        "# the gradients to update the model weights.\n",
        "@tf.function\n",
        "def train_step(ex, model, optimizer, loss_fn):\n",
        "    with tf.GradientTape() as tape:\n",
        "        predicted_confmaps = model(ex[\"instance_image\"])\n",
        "        loss = loss_fn(ex[\"instance_confidence_maps\"], predicted_confmaps)\n",
        "\n",
        "    grads = tape.gradient(loss, model.trainable_weights)\n",
        "    optimizer.apply_gradients(zip(grads, model.trainable_weights))\n",
        "\n",
        "    return loss\n",
        "\n",
        "@tf.function\n",
        "def val_step(ex, model, loss_fn):\n",
        "    predicted_confmaps = model(ex[\"instance_image\"])\n",
        "    loss = loss_fn(ex[\"instance_confidence_maps\"], predicted_confmaps)\n",
        "\n",
        "    return loss"
      ],
      "execution_count": null,
      "outputs": []
    },
    {
      "cell_type": "code",
      "source": [
        "!pip freeze > requirements.txt\n",
        "\n",
        "# Some of this code is redundant. I kept the previous cells un-deleted just for reference.\n",
        "for i in range(5):\n",
        "    @tf.function\n",
        "    def train_step(ex, model, optimizer, loss_fn):\n",
        "        with tf.GradientTape() as tape:\n",
        "            predicted_confmaps = model(ex[\"instance_image\"])\n",
        "            loss = loss_fn(ex[\"instance_confidence_maps\"], predicted_confmaps)\n",
        "\n",
        "        grads = tape.gradient(loss, model.trainable_weights)\n",
        "        optimizer.apply_gradients(zip(grads, model.trainable_weights))\n",
        "\n",
        "        return loss\n",
        "\n",
        "    @tf.function\n",
        "    def val_step(ex, model, loss_fn):\n",
        "        predicted_confmaps = model(ex[\"instance_image\"])\n",
        "        loss = loss_fn(ex[\"instance_confidence_maps\"], predicted_confmaps)\n",
        "\n",
        "        return loss\n",
        "\n",
        "    unet = sleap.nn.architectures.unet.UNet(filters=32, filters_rate=1.5, down_blocks=4, up_blocks=3, up_interpolate=True)\n",
        "    x_in = tf.keras.layers.Input((160, 160, 1))\n",
        "    x_features, x_intermediate = unet.make_backbone(x_in)\n",
        "    x_confmaps = tf.keras.layers.Conv2D(filters=13, kernel_size=1, strides=1, padding=\"same\")(x_features)\n",
        "    model = tf.keras.Model(x_in, x_confmaps)\n",
        "\n",
        "    optimizer = tf.keras.optimizers.Adam(learning_rate=1e-4)\n",
        "    loss_fn = tf.keras.losses.MeanSquaredError()\n",
        "\n",
        "    run = wandb.init(\n",
        "        project=\"torch_vs_tf_talmo_lab\", \n",
        "        name=f\"tf_baseline_run{i}\", \n",
        "        config={\n",
        "            \"device_and_memory\": get_vram(),\n",
        "            \"seed\": seed,\n",
        "            \"model_param_count\": get_param_count(model)\n",
        "        }, \n",
        "        tags=[\"baseline\"],\n",
        "        notes=\"This experiment was done in a Google Colab Notebook.\"\n",
        "    )\n",
        "\n",
        "    # Log dependencies.\n",
        "    artifact = wandb.Artifact(\"Dependencies\", type=\"dependencies\")\n",
        "    artifact.add_file(\"requirements.txt\", name=f\"requirements.txt\")\n",
        "    run.log_artifact(artifact)\n",
        "\n",
        "    # Training loop, go!\n",
        "    epochs = 3\n",
        "    for epoch in range(epochs):\n",
        "        start_time = time.time()\n",
        "        train_loss = 0\n",
        "        for step, ex in enumerate(p.make_dataset()):\n",
        "            loss = train_step(ex, model, optimizer, loss_fn)\n",
        "\n",
        "            if step % 100 == 0:\n",
        "                print(f\"Epoch {epoch:03d} | Step {step:03d} | loss = {loss:.5f}\")\n",
        "\n",
        "            train_loss += loss\n",
        "\n",
        "        train_loss /= (step+1)\n",
        "        train_time = time.time() - start_time\n",
        "        print(f\"TRAIN: --- {train_time}s seconds ---\")\n",
        "\n",
        "        start_time = time.time()\n",
        "        val_loss = 0\n",
        "        for step, ex in enumerate(val_p.make_dataset()):\n",
        "            loss = val_step(ex, model, loss_fn)\n",
        "            val_loss += loss\n",
        "\n",
        "        val_loss /= (step+1)\n",
        "        val_time = time.time() - start_time\n",
        "        print(f\"VAL: --- {val_time}s seconds ---\")\n",
        "\n",
        "        run.log({\n",
        "            \"train_loss\": train_loss,\n",
        "            \"val_loss\": val_loss,\n",
        "            \"train_time\": train_time,\n",
        "            \"val_time\": val_time,\n",
        "            \"total_time\": train_time + val_time\n",
        "        })\n",
        "\n",
        "    del model, optimizer, loss_fn, unet, x_in, x_features, x_intermediate, x_confmaps\n",
        "    gc.collect()\n",
        "    run.finish()"
      ],
      "metadata": {
        "colab": {
          "base_uri": "https://localhost:8080/",
          "height": 1000,
          "referenced_widgets": [
            "1ae474331c6e4dadba60f1bd6460f0a2",
            "01df21e84e474034bb62ef7f6f39d22d",
            "2d47b25f5bbc41a9983d14860764f6f1",
            "356bcab40c064e018b5f98fb682643b8",
            "23873488d7c64ec4b5b6e53db2d792df",
            "a3c93f64a49b46b2b82c8d6135d9f941",
            "5ed7833e98fe4c1da464194688964d8b",
            "4c0e025d331d40c794621fc70be76bd7",
            "90b5dd787b4243bf99ba4c06cd6b9ec6",
            "39411b9ee6d74851a68b69e390305837",
            "c2752513c35a4f85b7da11eae8ef0b9f",
            "2b178ffac1b946038e4a7b86914af8b9",
            "7a57260a11d343f9860f22bd3b01bf5e",
            "b23d0d3fbb984948878369a5aa097498",
            "ef64559988cb40038dbe8d65f9f48479",
            "ab821202799e47a48d5588eaf5f72d07",
            "0a68c9db29884cab987076d47010ac6e",
            "77a22c41363d4d07bcedae8e860233cc",
            "3d2d624f9363404fb6285717ec58c78f",
            "13da082a1e6c4cc8b6ac0d0cf6e502b7",
            "5ec5d0e089b94b84b410a672343caa60",
            "c540a79d387d4500a9896900c111d15b",
            "ad6cfa5104604b1382b886476cd879f4",
            "4f5b4eb73fce42d18cc4a6d186b272d2",
            "b7b96998581341d49927f4596abb8c6f",
            "10f69566962344d683e4f7d6a67f6262",
            "e45dc52f7c2f4ba6ac3bf4fe87962d60",
            "e18abe6f98714e9bb80baaa0cdd7f9cb",
            "5ce1f5a52926469682e5be98d96011ad",
            "3c9c7d4cc3ee44fdb5f0e69212023e4f",
            "d07cb0f2271743738302a5ea11726035",
            "6bc94db8b2b24fa384b803b18bfd1280",
            "1bde6ac72ea14033aaadca21192077ea",
            "0fd854763e6a44e7b1aae12dcdec6c3d",
            "d1b7291d8c7c44e28a18fd81c3b6e851",
            "33e28d3d1e9b47fd8f6a7c5afaac842d",
            "eeb4136f92f74a67bbd4fd11ccc57c02",
            "edb42fcb06994e519c73fedaa374bf9d",
            "6efe7bd887374bf8829d9a58d0bf814f",
            "838bcf3a7cf74c1b8864bd929a7afd25"
          ]
        },
        "id": "goZvpYV8Xe0l",
        "outputId": "d3d20a73-d865-49be-8301-267b7f563118"
      },
      "execution_count": null,
      "outputs": [
        {
          "output_type": "display_data",
          "data": {
            "text/plain": [
              "<IPython.core.display.HTML object>"
            ],
            "text/html": [
              "Finishing last run (ID:9t9gb9zn) before initializing another..."
            ]
          },
          "metadata": {}
        },
        {
          "output_type": "display_data",
          "data": {
            "text/plain": [
              "<IPython.core.display.HTML object>"
            ],
            "text/html": [
              "Waiting for W&B process to finish... <strong style=\"color:green\">(success).</strong>"
            ]
          },
          "metadata": {}
        },
        {
          "output_type": "display_data",
          "data": {
            "text/plain": [
              "<IPython.core.display.HTML object>"
            ],
            "text/html": [
              " View run <strong style=\"color:#cdcd00\">tf_baseline_run0</strong> at: <a href='https://wandb.ai/vincenttu/torch_vs_tf_talmo_lab/runs/9t9gb9zn' target=\"_blank\">https://wandb.ai/vincenttu/torch_vs_tf_talmo_lab/runs/9t9gb9zn</a><br/>Synced 5 W&B file(s), 0 media file(s), 0 artifact file(s) and 0 other file(s)"
            ]
          },
          "metadata": {}
        },
        {
          "output_type": "display_data",
          "data": {
            "text/plain": [
              "<IPython.core.display.HTML object>"
            ],
            "text/html": [
              "Find logs at: <code>./wandb/run-20230508_003127-9t9gb9zn/logs</code>"
            ]
          },
          "metadata": {}
        },
        {
          "output_type": "display_data",
          "data": {
            "text/plain": [
              "<IPython.core.display.HTML object>"
            ],
            "text/html": [
              "Successfully finished last run (ID:9t9gb9zn). Initializing new run:<br/>"
            ]
          },
          "metadata": {}
        },
        {
          "output_type": "display_data",
          "data": {
            "text/plain": [
              "<IPython.core.display.HTML object>"
            ],
            "text/html": [
              "Tracking run with wandb version 0.15.2"
            ]
          },
          "metadata": {}
        },
        {
          "output_type": "display_data",
          "data": {
            "text/plain": [
              "<IPython.core.display.HTML object>"
            ],
            "text/html": [
              "Run data is saved locally in <code>/content/wandb/run-20230508_003307-px2ochao</code>"
            ]
          },
          "metadata": {}
        },
        {
          "output_type": "display_data",
          "data": {
            "text/plain": [
              "<IPython.core.display.HTML object>"
            ],
            "text/html": [
              "Syncing run <strong><a href='https://wandb.ai/vincenttu/torch_vs_tf_talmo_lab/runs/px2ochao' target=\"_blank\">tf_baseline_run0</a></strong> to <a href='https://wandb.ai/vincenttu/torch_vs_tf_talmo_lab' target=\"_blank\">Weights & Biases</a> (<a href='https://wandb.me/run' target=\"_blank\">docs</a>)<br/>"
            ]
          },
          "metadata": {}
        },
        {
          "output_type": "display_data",
          "data": {
            "text/plain": [
              "<IPython.core.display.HTML object>"
            ],
            "text/html": [
              " View project at <a href='https://wandb.ai/vincenttu/torch_vs_tf_talmo_lab' target=\"_blank\">https://wandb.ai/vincenttu/torch_vs_tf_talmo_lab</a>"
            ]
          },
          "metadata": {}
        },
        {
          "output_type": "display_data",
          "data": {
            "text/plain": [
              "<IPython.core.display.HTML object>"
            ],
            "text/html": [
              " View run at <a href='https://wandb.ai/vincenttu/torch_vs_tf_talmo_lab/runs/px2ochao' target=\"_blank\">https://wandb.ai/vincenttu/torch_vs_tf_talmo_lab/runs/px2ochao</a>"
            ]
          },
          "metadata": {}
        },
        {
          "output_type": "stream",
          "name": "stdout",
          "text": [
            "Epoch 000 | Step 000 | loss = 0.00107\n",
            "Epoch 000 | Step 100 | loss = 0.00093\n",
            "Epoch 000 | Step 200 | loss = 0.00103\n",
            "Epoch 000 | Step 300 | loss = 0.00100\n",
            "Epoch 000 | Step 400 | loss = 0.00098\n",
            "Epoch 000 | Step 500 | loss = 0.00097\n",
            "Epoch 000 | Step 600 | loss = 0.00095\n",
            "Epoch 000 | Step 700 | loss = 0.00089\n",
            "TRAIN: --- 83.46568393707275s seconds ---\n",
            "VAL: --- 38.58218812942505s seconds ---\n",
            "Epoch 001 | Step 000 | loss = 0.00081\n",
            "Epoch 001 | Step 100 | loss = 0.00076\n",
            "Epoch 001 | Step 200 | loss = 0.00069\n",
            "Epoch 001 | Step 300 | loss = 0.00070\n",
            "Epoch 001 | Step 400 | loss = 0.00069\n",
            "Epoch 001 | Step 500 | loss = 0.00070\n",
            "Epoch 001 | Step 600 | loss = 0.00084\n",
            "Epoch 001 | Step 700 | loss = 0.00071\n",
            "TRAIN: --- 60.94407534599304s seconds ---\n",
            "VAL: --- 42.983715772628784s seconds ---\n",
            "Epoch 002 | Step 000 | loss = 0.00063\n",
            "Epoch 002 | Step 100 | loss = 0.00064\n",
            "Epoch 002 | Step 200 | loss = 0.00052\n",
            "Epoch 002 | Step 300 | loss = 0.00052\n",
            "Epoch 002 | Step 400 | loss = 0.00061\n",
            "Epoch 002 | Step 500 | loss = 0.00051\n",
            "Epoch 002 | Step 600 | loss = 0.00080\n",
            "Epoch 002 | Step 700 | loss = 0.00054\n",
            "TRAIN: --- 60.084712266922s seconds ---\n",
            "VAL: --- 38.6929817199707s seconds ---\n"
          ]
        },
        {
          "output_type": "display_data",
          "data": {
            "text/plain": [
              "<IPython.core.display.HTML object>"
            ],
            "text/html": [
              "Waiting for W&B process to finish... <strong style=\"color:green\">(success).</strong>"
            ]
          },
          "metadata": {}
        },
        {
          "output_type": "display_data",
          "data": {
            "text/plain": [
              "VBox(children=(Label(value='0.002 MB of 0.011 MB uploaded (0.000 MB deduped)\\r'), FloatProgress(value=0.172801…"
            ],
            "application/vnd.jupyter.widget-view+json": {
              "version_major": 2,
              "version_minor": 0,
              "model_id": "1ae474331c6e4dadba60f1bd6460f0a2"
            }
          },
          "metadata": {}
        },
        {
          "output_type": "display_data",
          "data": {
            "text/plain": [
              "<IPython.core.display.HTML object>"
            ],
            "text/html": [
              "<style>\n",
              "    table.wandb td:nth-child(1) { padding: 0 10px; text-align: left ; width: auto;} td:nth-child(2) {text-align: left ; width: 100%}\n",
              "    .wandb-row { display: flex; flex-direction: row; flex-wrap: wrap; justify-content: flex-start; width: 100% }\n",
              "    .wandb-col { display: flex; flex-direction: column; flex-basis: 100%; flex: 1; padding: 10px; }\n",
              "    </style>\n",
              "<div class=\"wandb-row\"><div class=\"wandb-col\"><h3>Run history:</h3><br/><table class=\"wandb\"><tr><td>total_time</td><td>█▃▁</td></tr><tr><td>train_loss</td><td>█▄▁</td></tr><tr><td>train_time</td><td>█▁▁</td></tr><tr><td>val_loss</td><td>█▄▁</td></tr><tr><td>val_time</td><td>▁█▁</td></tr></table><br/></div><div class=\"wandb-col\"><h3>Run summary:</h3><br/><table class=\"wandb\"><tr><td>total_time</td><td>98.77769</td></tr><tr><td>train_loss</td><td>0.00056</td></tr><tr><td>train_time</td><td>60.08471</td></tr><tr><td>val_loss</td><td>0.00049</td></tr><tr><td>val_time</td><td>38.69298</td></tr></table><br/></div></div>"
            ]
          },
          "metadata": {}
        },
        {
          "output_type": "display_data",
          "data": {
            "text/plain": [
              "<IPython.core.display.HTML object>"
            ],
            "text/html": [
              " View run <strong style=\"color:#cdcd00\">tf_baseline_run0</strong> at: <a href='https://wandb.ai/vincenttu/torch_vs_tf_talmo_lab/runs/px2ochao' target=\"_blank\">https://wandb.ai/vincenttu/torch_vs_tf_talmo_lab/runs/px2ochao</a><br/>Synced 5 W&B file(s), 0 media file(s), 0 artifact file(s) and 0 other file(s)"
            ]
          },
          "metadata": {}
        },
        {
          "output_type": "display_data",
          "data": {
            "text/plain": [
              "<IPython.core.display.HTML object>"
            ],
            "text/html": [
              "Find logs at: <code>./wandb/run-20230508_003307-px2ochao/logs</code>"
            ]
          },
          "metadata": {}
        },
        {
          "output_type": "display_data",
          "data": {
            "text/plain": [
              "VBox(children=(Label(value='Waiting for wandb.init()...\\r'), FloatProgress(value=0.01666903810000046, max=1.0)…"
            ],
            "application/vnd.jupyter.widget-view+json": {
              "version_major": 2,
              "version_minor": 0,
              "model_id": "90b5dd787b4243bf99ba4c06cd6b9ec6"
            }
          },
          "metadata": {}
        },
        {
          "output_type": "display_data",
          "data": {
            "text/plain": [
              "<IPython.core.display.HTML object>"
            ],
            "text/html": [
              "Tracking run with wandb version 0.15.2"
            ]
          },
          "metadata": {}
        },
        {
          "output_type": "display_data",
          "data": {
            "text/plain": [
              "<IPython.core.display.HTML object>"
            ],
            "text/html": [
              "Run data is saved locally in <code>/content/wandb/run-20230508_003839-ebqtqw7j</code>"
            ]
          },
          "metadata": {}
        },
        {
          "output_type": "display_data",
          "data": {
            "text/plain": [
              "<IPython.core.display.HTML object>"
            ],
            "text/html": [
              "Syncing run <strong><a href='https://wandb.ai/vincenttu/torch_vs_tf_talmo_lab/runs/ebqtqw7j' target=\"_blank\">tf_baseline_run1</a></strong> to <a href='https://wandb.ai/vincenttu/torch_vs_tf_talmo_lab' target=\"_blank\">Weights & Biases</a> (<a href='https://wandb.me/run' target=\"_blank\">docs</a>)<br/>"
            ]
          },
          "metadata": {}
        },
        {
          "output_type": "display_data",
          "data": {
            "text/plain": [
              "<IPython.core.display.HTML object>"
            ],
            "text/html": [
              " View project at <a href='https://wandb.ai/vincenttu/torch_vs_tf_talmo_lab' target=\"_blank\">https://wandb.ai/vincenttu/torch_vs_tf_talmo_lab</a>"
            ]
          },
          "metadata": {}
        },
        {
          "output_type": "display_data",
          "data": {
            "text/plain": [
              "<IPython.core.display.HTML object>"
            ],
            "text/html": [
              " View run at <a href='https://wandb.ai/vincenttu/torch_vs_tf_talmo_lab/runs/ebqtqw7j' target=\"_blank\">https://wandb.ai/vincenttu/torch_vs_tf_talmo_lab/runs/ebqtqw7j</a>"
            ]
          },
          "metadata": {}
        },
        {
          "output_type": "stream",
          "name": "stdout",
          "text": [
            "Epoch 000 | Step 000 | loss = 0.00113\n",
            "Epoch 000 | Step 100 | loss = 0.00093\n",
            "Epoch 000 | Step 200 | loss = 0.00103\n",
            "Epoch 000 | Step 300 | loss = 0.00102\n",
            "Epoch 000 | Step 400 | loss = 0.00097\n",
            "Epoch 000 | Step 500 | loss = 0.00093\n",
            "Epoch 000 | Step 600 | loss = 0.00094\n",
            "Epoch 000 | Step 700 | loss = 0.00090\n",
            "TRAIN: --- 84.37313461303711s seconds ---\n",
            "VAL: --- 42.39431953430176s seconds ---\n",
            "Epoch 001 | Step 000 | loss = 0.00082\n",
            "Epoch 001 | Step 100 | loss = 0.00074\n",
            "Epoch 001 | Step 200 | loss = 0.00067\n",
            "Epoch 001 | Step 300 | loss = 0.00067\n",
            "Epoch 001 | Step 400 | loss = 0.00071\n",
            "Epoch 001 | Step 500 | loss = 0.00067\n",
            "Epoch 001 | Step 600 | loss = 0.00082\n",
            "Epoch 001 | Step 700 | loss = 0.00065\n",
            "TRAIN: --- 84.29384803771973s seconds ---\n",
            "VAL: --- 42.98069667816162s seconds ---\n",
            "Epoch 002 | Step 000 | loss = 0.00059\n",
            "Epoch 002 | Step 100 | loss = 0.00065\n",
            "Epoch 002 | Step 200 | loss = 0.00048\n",
            "Epoch 002 | Step 300 | loss = 0.00050\n",
            "Epoch 002 | Step 400 | loss = 0.00060\n",
            "Epoch 002 | Step 500 | loss = 0.00049\n",
            "Epoch 002 | Step 600 | loss = 0.00081\n",
            "Epoch 002 | Step 700 | loss = 0.00054\n",
            "TRAIN: --- 59.92104434967041s seconds ---\n",
            "VAL: --- 37.47814416885376s seconds ---\n"
          ]
        },
        {
          "output_type": "display_data",
          "data": {
            "text/plain": [
              "<IPython.core.display.HTML object>"
            ],
            "text/html": [
              "Waiting for W&B process to finish... <strong style=\"color:green\">(success).</strong>"
            ]
          },
          "metadata": {}
        },
        {
          "output_type": "display_data",
          "data": {
            "text/plain": [
              "<IPython.core.display.HTML object>"
            ],
            "text/html": [
              "<style>\n",
              "    table.wandb td:nth-child(1) { padding: 0 10px; text-align: left ; width: auto;} td:nth-child(2) {text-align: left ; width: 100%}\n",
              "    .wandb-row { display: flex; flex-direction: row; flex-wrap: wrap; justify-content: flex-start; width: 100% }\n",
              "    .wandb-col { display: flex; flex-direction: column; flex-basis: 100%; flex: 1; padding: 10px; }\n",
              "    </style>\n",
              "<div class=\"wandb-row\"><div class=\"wandb-col\"><h3>Run history:</h3><br/><table class=\"wandb\"><tr><td>total_time</td><td>██▁</td></tr><tr><td>train_loss</td><td>█▄▁</td></tr><tr><td>train_time</td><td>██▁</td></tr><tr><td>val_loss</td><td>█▄▁</td></tr><tr><td>val_time</td><td>▇█▁</td></tr></table><br/></div><div class=\"wandb-col\"><h3>Run summary:</h3><br/><table class=\"wandb\"><tr><td>total_time</td><td>97.39919</td></tr><tr><td>train_loss</td><td>0.00053</td></tr><tr><td>train_time</td><td>59.92104</td></tr><tr><td>val_loss</td><td>0.00048</td></tr><tr><td>val_time</td><td>37.47814</td></tr></table><br/></div></div>"
            ]
          },
          "metadata": {}
        },
        {
          "output_type": "display_data",
          "data": {
            "text/plain": [
              "<IPython.core.display.HTML object>"
            ],
            "text/html": [
              " View run <strong style=\"color:#cdcd00\">tf_baseline_run1</strong> at: <a href='https://wandb.ai/vincenttu/torch_vs_tf_talmo_lab/runs/ebqtqw7j' target=\"_blank\">https://wandb.ai/vincenttu/torch_vs_tf_talmo_lab/runs/ebqtqw7j</a><br/>Synced 5 W&B file(s), 0 media file(s), 0 artifact file(s) and 0 other file(s)"
            ]
          },
          "metadata": {}
        },
        {
          "output_type": "display_data",
          "data": {
            "text/plain": [
              "<IPython.core.display.HTML object>"
            ],
            "text/html": [
              "Find logs at: <code>./wandb/run-20230508_003839-ebqtqw7j/logs</code>"
            ]
          },
          "metadata": {}
        },
        {
          "output_type": "display_data",
          "data": {
            "text/plain": [
              "<IPython.core.display.HTML object>"
            ],
            "text/html": [
              "Tracking run with wandb version 0.15.2"
            ]
          },
          "metadata": {}
        },
        {
          "output_type": "display_data",
          "data": {
            "text/plain": [
              "<IPython.core.display.HTML object>"
            ],
            "text/html": [
              "Run data is saved locally in <code>/content/wandb/run-20230508_004436-2w47wqvr</code>"
            ]
          },
          "metadata": {}
        },
        {
          "output_type": "display_data",
          "data": {
            "text/plain": [
              "<IPython.core.display.HTML object>"
            ],
            "text/html": [
              "Syncing run <strong><a href='https://wandb.ai/vincenttu/torch_vs_tf_talmo_lab/runs/2w47wqvr' target=\"_blank\">tf_baseline_run2</a></strong> to <a href='https://wandb.ai/vincenttu/torch_vs_tf_talmo_lab' target=\"_blank\">Weights & Biases</a> (<a href='https://wandb.me/run' target=\"_blank\">docs</a>)<br/>"
            ]
          },
          "metadata": {}
        },
        {
          "output_type": "display_data",
          "data": {
            "text/plain": [
              "<IPython.core.display.HTML object>"
            ],
            "text/html": [
              " View project at <a href='https://wandb.ai/vincenttu/torch_vs_tf_talmo_lab' target=\"_blank\">https://wandb.ai/vincenttu/torch_vs_tf_talmo_lab</a>"
            ]
          },
          "metadata": {}
        },
        {
          "output_type": "display_data",
          "data": {
            "text/plain": [
              "<IPython.core.display.HTML object>"
            ],
            "text/html": [
              " View run at <a href='https://wandb.ai/vincenttu/torch_vs_tf_talmo_lab/runs/2w47wqvr' target=\"_blank\">https://wandb.ai/vincenttu/torch_vs_tf_talmo_lab/runs/2w47wqvr</a>"
            ]
          },
          "metadata": {}
        },
        {
          "output_type": "stream",
          "name": "stdout",
          "text": [
            "Epoch 000 | Step 000 | loss = 0.00109\n",
            "Epoch 000 | Step 100 | loss = 0.00093\n",
            "Epoch 000 | Step 200 | loss = 0.00103\n",
            "Epoch 000 | Step 300 | loss = 0.00102\n",
            "Epoch 000 | Step 400 | loss = 0.00099\n",
            "Epoch 000 | Step 500 | loss = 0.00098\n",
            "Epoch 000 | Step 600 | loss = 0.00097\n",
            "Epoch 000 | Step 700 | loss = 0.00092\n",
            "TRAIN: --- 84.40168952941895s seconds ---\n",
            "VAL: --- 42.35712671279907s seconds ---\n",
            "Epoch 001 | Step 000 | loss = 0.00083\n",
            "Epoch 001 | Step 100 | loss = 0.00078\n",
            "Epoch 001 | Step 200 | loss = 0.00072\n",
            "Epoch 001 | Step 300 | loss = 0.00069\n",
            "Epoch 001 | Step 400 | loss = 0.00076\n",
            "Epoch 001 | Step 500 | loss = 0.00070\n",
            "Epoch 001 | Step 600 | loss = 0.00088\n",
            "Epoch 001 | Step 700 | loss = 0.00073\n",
            "TRAIN: --- 72.5752387046814s seconds ---\n",
            "VAL: --- 46.58367991447449s seconds ---\n",
            "Epoch 002 | Step 000 | loss = 0.00064\n",
            "Epoch 002 | Step 100 | loss = 0.00065\n",
            "Epoch 002 | Step 200 | loss = 0.00056\n",
            "Epoch 002 | Step 300 | loss = 0.00052\n",
            "Epoch 002 | Step 400 | loss = 0.00061\n",
            "Epoch 002 | Step 500 | loss = 0.00052\n",
            "Epoch 002 | Step 600 | loss = 0.00082\n",
            "Epoch 002 | Step 700 | loss = 0.00059\n",
            "TRAIN: --- 84.41701364517212s seconds ---\n",
            "VAL: --- 83.58499646186829s seconds ---\n"
          ]
        },
        {
          "output_type": "display_data",
          "data": {
            "text/plain": [
              "<IPython.core.display.HTML object>"
            ],
            "text/html": [
              "Waiting for W&B process to finish... <strong style=\"color:green\">(success).</strong>"
            ]
          },
          "metadata": {}
        },
        {
          "output_type": "display_data",
          "data": {
            "text/plain": [
              "VBox(children=(Label(value='0.019 MB of 0.019 MB uploaded (0.000 MB deduped)\\r'), FloatProgress(value=0.986334…"
            ],
            "application/vnd.jupyter.widget-view+json": {
              "version_major": 2,
              "version_minor": 0,
              "model_id": "0a68c9db29884cab987076d47010ac6e"
            }
          },
          "metadata": {}
        },
        {
          "output_type": "display_data",
          "data": {
            "text/plain": [
              "<IPython.core.display.HTML object>"
            ],
            "text/html": [
              "<style>\n",
              "    table.wandb td:nth-child(1) { padding: 0 10px; text-align: left ; width: auto;} td:nth-child(2) {text-align: left ; width: 100%}\n",
              "    .wandb-row { display: flex; flex-direction: row; flex-wrap: wrap; justify-content: flex-start; width: 100% }\n",
              "    .wandb-col { display: flex; flex-direction: column; flex-basis: 100%; flex: 1; padding: 10px; }\n",
              "    </style>\n",
              "<div class=\"wandb-row\"><div class=\"wandb-col\"><h3>Run history:</h3><br/><table class=\"wandb\"><tr><td>total_time</td><td>▂▁█</td></tr><tr><td>train_loss</td><td>█▄▁</td></tr><tr><td>train_time</td><td>█▁█</td></tr><tr><td>val_loss</td><td>█▄▁</td></tr><tr><td>val_time</td><td>▁▂█</td></tr></table><br/></div><div class=\"wandb-col\"><h3>Run summary:</h3><br/><table class=\"wandb\"><tr><td>total_time</td><td>168.00201</td></tr><tr><td>train_loss</td><td>0.00056</td></tr><tr><td>train_time</td><td>84.41701</td></tr><tr><td>val_loss</td><td>0.00051</td></tr><tr><td>val_time</td><td>83.585</td></tr></table><br/></div></div>"
            ]
          },
          "metadata": {}
        },
        {
          "output_type": "display_data",
          "data": {
            "text/plain": [
              "<IPython.core.display.HTML object>"
            ],
            "text/html": [
              " View run <strong style=\"color:#cdcd00\">tf_baseline_run2</strong> at: <a href='https://wandb.ai/vincenttu/torch_vs_tf_talmo_lab/runs/2w47wqvr' target=\"_blank\">https://wandb.ai/vincenttu/torch_vs_tf_talmo_lab/runs/2w47wqvr</a><br/>Synced 5 W&B file(s), 0 media file(s), 1 artifact file(s) and 0 other file(s)"
            ]
          },
          "metadata": {}
        },
        {
          "output_type": "display_data",
          "data": {
            "text/plain": [
              "<IPython.core.display.HTML object>"
            ],
            "text/html": [
              "Find logs at: <code>./wandb/run-20230508_004436-2w47wqvr/logs</code>"
            ]
          },
          "metadata": {}
        },
        {
          "output_type": "display_data",
          "data": {
            "text/plain": [
              "<IPython.core.display.HTML object>"
            ],
            "text/html": [
              "Tracking run with wandb version 0.15.2"
            ]
          },
          "metadata": {}
        },
        {
          "output_type": "display_data",
          "data": {
            "text/plain": [
              "<IPython.core.display.HTML object>"
            ],
            "text/html": [
              "Run data is saved locally in <code>/content/wandb/run-20230508_005136-rwerms09</code>"
            ]
          },
          "metadata": {}
        },
        {
          "output_type": "display_data",
          "data": {
            "text/plain": [
              "<IPython.core.display.HTML object>"
            ],
            "text/html": [
              "Syncing run <strong><a href='https://wandb.ai/vincenttu/torch_vs_tf_talmo_lab/runs/rwerms09' target=\"_blank\">tf_baseline_run3</a></strong> to <a href='https://wandb.ai/vincenttu/torch_vs_tf_talmo_lab' target=\"_blank\">Weights & Biases</a> (<a href='https://wandb.me/run' target=\"_blank\">docs</a>)<br/>"
            ]
          },
          "metadata": {}
        },
        {
          "output_type": "display_data",
          "data": {
            "text/plain": [
              "<IPython.core.display.HTML object>"
            ],
            "text/html": [
              " View project at <a href='https://wandb.ai/vincenttu/torch_vs_tf_talmo_lab' target=\"_blank\">https://wandb.ai/vincenttu/torch_vs_tf_talmo_lab</a>"
            ]
          },
          "metadata": {}
        },
        {
          "output_type": "display_data",
          "data": {
            "text/plain": [
              "<IPython.core.display.HTML object>"
            ],
            "text/html": [
              " View run at <a href='https://wandb.ai/vincenttu/torch_vs_tf_talmo_lab/runs/rwerms09' target=\"_blank\">https://wandb.ai/vincenttu/torch_vs_tf_talmo_lab/runs/rwerms09</a>"
            ]
          },
          "metadata": {}
        },
        {
          "output_type": "stream",
          "name": "stdout",
          "text": [
            "Epoch 000 | Step 000 | loss = 0.00109\n",
            "Epoch 000 | Step 100 | loss = 0.00093\n",
            "Epoch 000 | Step 200 | loss = 0.00102\n",
            "Epoch 000 | Step 300 | loss = 0.00101\n",
            "Epoch 000 | Step 400 | loss = 0.00098\n",
            "Epoch 000 | Step 500 | loss = 0.00096\n",
            "Epoch 000 | Step 600 | loss = 0.00095\n",
            "Epoch 000 | Step 700 | loss = 0.00088\n",
            "TRAIN: --- 67.38401794433594s seconds ---\n",
            "VAL: --- 39.651575803756714s seconds ---\n",
            "Epoch 001 | Step 000 | loss = 0.00080\n",
            "Epoch 001 | Step 100 | loss = 0.00077\n",
            "Epoch 001 | Step 200 | loss = 0.00067\n",
            "Epoch 001 | Step 300 | loss = 0.00066\n",
            "Epoch 001 | Step 400 | loss = 0.00066\n",
            "Epoch 001 | Step 500 | loss = 0.00069\n",
            "Epoch 001 | Step 600 | loss = 0.00086\n",
            "Epoch 001 | Step 700 | loss = 0.00065\n",
            "TRAIN: --- 63.006717681884766s seconds ---\n",
            "VAL: --- 40.510669469833374s seconds ---\n",
            "Epoch 002 | Step 000 | loss = 0.00057\n",
            "Epoch 002 | Step 100 | loss = 0.00065\n",
            "Epoch 002 | Step 200 | loss = 0.00044\n",
            "Epoch 002 | Step 300 | loss = 0.00050\n",
            "Epoch 002 | Step 400 | loss = 0.00059\n",
            "Epoch 002 | Step 500 | loss = 0.00048\n",
            "Epoch 002 | Step 600 | loss = 0.00082\n",
            "Epoch 002 | Step 700 | loss = 0.00050\n",
            "TRAIN: --- 63.0053596496582s seconds ---\n",
            "VAL: --- 39.35079073905945s seconds ---\n"
          ]
        },
        {
          "output_type": "display_data",
          "data": {
            "text/plain": [
              "<IPython.core.display.HTML object>"
            ],
            "text/html": [
              "Waiting for W&B process to finish... <strong style=\"color:green\">(success).</strong>"
            ]
          },
          "metadata": {}
        },
        {
          "output_type": "display_data",
          "data": {
            "text/plain": [
              "VBox(children=(Label(value='0.001 MB of 0.001 MB uploaded (0.000 MB deduped)\\r'), FloatProgress(value=1.0, max…"
            ],
            "application/vnd.jupyter.widget-view+json": {
              "version_major": 2,
              "version_minor": 0,
              "model_id": "b7b96998581341d49927f4596abb8c6f"
            }
          },
          "metadata": {}
        },
        {
          "output_type": "display_data",
          "data": {
            "text/plain": [
              "<IPython.core.display.HTML object>"
            ],
            "text/html": [
              "<style>\n",
              "    table.wandb td:nth-child(1) { padding: 0 10px; text-align: left ; width: auto;} td:nth-child(2) {text-align: left ; width: 100%}\n",
              "    .wandb-row { display: flex; flex-direction: row; flex-wrap: wrap; justify-content: flex-start; width: 100% }\n",
              "    .wandb-col { display: flex; flex-direction: column; flex-basis: 100%; flex: 1; padding: 10px; }\n",
              "    </style>\n",
              "<div class=\"wandb-row\"><div class=\"wandb-col\"><h3>Run history:</h3><br/><table class=\"wandb\"><tr><td>total_time</td><td>█▃▁</td></tr><tr><td>train_loss</td><td>█▄▁</td></tr><tr><td>train_time</td><td>█▁▁</td></tr><tr><td>val_loss</td><td>█▃▁</td></tr><tr><td>val_time</td><td>▃█▁</td></tr></table><br/></div><div class=\"wandb-col\"><h3>Run summary:</h3><br/><table class=\"wandb\"><tr><td>total_time</td><td>102.35615</td></tr><tr><td>train_loss</td><td>0.00051</td></tr><tr><td>train_time</td><td>63.00536</td></tr><tr><td>val_loss</td><td>0.00046</td></tr><tr><td>val_time</td><td>39.35079</td></tr></table><br/></div></div>"
            ]
          },
          "metadata": {}
        },
        {
          "output_type": "display_data",
          "data": {
            "text/plain": [
              "<IPython.core.display.HTML object>"
            ],
            "text/html": [
              " View run <strong style=\"color:#cdcd00\">tf_baseline_run3</strong> at: <a href='https://wandb.ai/vincenttu/torch_vs_tf_talmo_lab/runs/rwerms09' target=\"_blank\">https://wandb.ai/vincenttu/torch_vs_tf_talmo_lab/runs/rwerms09</a><br/>Synced 5 W&B file(s), 0 media file(s), 0 artifact file(s) and 0 other file(s)"
            ]
          },
          "metadata": {}
        },
        {
          "output_type": "display_data",
          "data": {
            "text/plain": [
              "<IPython.core.display.HTML object>"
            ],
            "text/html": [
              "Find logs at: <code>./wandb/run-20230508_005136-rwerms09/logs</code>"
            ]
          },
          "metadata": {}
        },
        {
          "output_type": "display_data",
          "data": {
            "text/plain": [
              "<IPython.core.display.HTML object>"
            ],
            "text/html": [
              "Tracking run with wandb version 0.15.2"
            ]
          },
          "metadata": {}
        },
        {
          "output_type": "display_data",
          "data": {
            "text/plain": [
              "<IPython.core.display.HTML object>"
            ],
            "text/html": [
              "Run data is saved locally in <code>/content/wandb/run-20230508_005653-asgr4i0p</code>"
            ]
          },
          "metadata": {}
        },
        {
          "output_type": "display_data",
          "data": {
            "text/plain": [
              "<IPython.core.display.HTML object>"
            ],
            "text/html": [
              "Syncing run <strong><a href='https://wandb.ai/vincenttu/torch_vs_tf_talmo_lab/runs/asgr4i0p' target=\"_blank\">tf_baseline_run4</a></strong> to <a href='https://wandb.ai/vincenttu/torch_vs_tf_talmo_lab' target=\"_blank\">Weights & Biases</a> (<a href='https://wandb.me/run' target=\"_blank\">docs</a>)<br/>"
            ]
          },
          "metadata": {}
        },
        {
          "output_type": "display_data",
          "data": {
            "text/plain": [
              "<IPython.core.display.HTML object>"
            ],
            "text/html": [
              " View project at <a href='https://wandb.ai/vincenttu/torch_vs_tf_talmo_lab' target=\"_blank\">https://wandb.ai/vincenttu/torch_vs_tf_talmo_lab</a>"
            ]
          },
          "metadata": {}
        },
        {
          "output_type": "display_data",
          "data": {
            "text/plain": [
              "<IPython.core.display.HTML object>"
            ],
            "text/html": [
              " View run at <a href='https://wandb.ai/vincenttu/torch_vs_tf_talmo_lab/runs/asgr4i0p' target=\"_blank\">https://wandb.ai/vincenttu/torch_vs_tf_talmo_lab/runs/asgr4i0p</a>"
            ]
          },
          "metadata": {}
        },
        {
          "output_type": "stream",
          "name": "stdout",
          "text": [
            "Epoch 000 | Step 000 | loss = 0.00109\n",
            "Epoch 000 | Step 100 | loss = 0.00093\n",
            "Epoch 000 | Step 200 | loss = 0.00102\n",
            "Epoch 000 | Step 300 | loss = 0.00102\n",
            "Epoch 000 | Step 400 | loss = 0.00100\n",
            "Epoch 000 | Step 500 | loss = 0.00097\n",
            "Epoch 000 | Step 600 | loss = 0.00094\n",
            "Epoch 000 | Step 700 | loss = 0.00089\n",
            "TRAIN: --- 65.59577870368958s seconds ---\n",
            "VAL: --- 42.470173358917236s seconds ---\n",
            "Epoch 001 | Step 000 | loss = 0.00081\n",
            "Epoch 001 | Step 100 | loss = 0.00075\n",
            "Epoch 001 | Step 200 | loss = 0.00070\n",
            "Epoch 001 | Step 300 | loss = 0.00068\n",
            "Epoch 001 | Step 400 | loss = 0.00068\n",
            "Epoch 001 | Step 500 | loss = 0.00066\n",
            "Epoch 001 | Step 600 | loss = 0.00087\n",
            "Epoch 001 | Step 700 | loss = 0.00069\n",
            "TRAIN: --- 62.42042350769043s seconds ---\n",
            "VAL: --- 43.24361276626587s seconds ---\n",
            "Epoch 002 | Step 000 | loss = 0.00058\n",
            "Epoch 002 | Step 100 | loss = 0.00063\n",
            "Epoch 002 | Step 200 | loss = 0.00047\n",
            "Epoch 002 | Step 300 | loss = 0.00049\n",
            "Epoch 002 | Step 400 | loss = 0.00057\n",
            "Epoch 002 | Step 500 | loss = 0.00049\n",
            "Epoch 002 | Step 600 | loss = 0.00083\n",
            "Epoch 002 | Step 700 | loss = 0.00051\n",
            "TRAIN: --- 83.51734805107117s seconds ---\n",
            "VAL: --- 39.813796520233154s seconds ---\n"
          ]
        },
        {
          "output_type": "display_data",
          "data": {
            "text/plain": [
              "<IPython.core.display.HTML object>"
            ],
            "text/html": [
              "Waiting for W&B process to finish... <strong style=\"color:green\">(success).</strong>"
            ]
          },
          "metadata": {}
        },
        {
          "output_type": "display_data",
          "data": {
            "text/plain": [
              "VBox(children=(Label(value='0.001 MB of 0.001 MB uploaded (0.000 MB deduped)\\r'), FloatProgress(value=1.0, max…"
            ],
            "application/vnd.jupyter.widget-view+json": {
              "version_major": 2,
              "version_minor": 0,
              "model_id": "1bde6ac72ea14033aaadca21192077ea"
            }
          },
          "metadata": {}
        },
        {
          "output_type": "display_data",
          "data": {
            "text/plain": [
              "<IPython.core.display.HTML object>"
            ],
            "text/html": [
              "<style>\n",
              "    table.wandb td:nth-child(1) { padding: 0 10px; text-align: left ; width: auto;} td:nth-child(2) {text-align: left ; width: 100%}\n",
              "    .wandb-row { display: flex; flex-direction: row; flex-wrap: wrap; justify-content: flex-start; width: 100% }\n",
              "    .wandb-col { display: flex; flex-direction: column; flex-basis: 100%; flex: 1; padding: 10px; }\n",
              "    </style>\n",
              "<div class=\"wandb-row\"><div class=\"wandb-col\"><h3>Run history:</h3><br/><table class=\"wandb\"><tr><td>total_time</td><td>▂▁█</td></tr><tr><td>train_loss</td><td>█▄▁</td></tr><tr><td>train_time</td><td>▂▁█</td></tr><tr><td>val_loss</td><td>█▄▁</td></tr><tr><td>val_time</td><td>▆█▁</td></tr></table><br/></div><div class=\"wandb-col\"><h3>Run summary:</h3><br/><table class=\"wandb\"><tr><td>total_time</td><td>123.33114</td></tr><tr><td>train_loss</td><td>0.00053</td></tr><tr><td>train_time</td><td>83.51735</td></tr><tr><td>val_loss</td><td>0.00047</td></tr><tr><td>val_time</td><td>39.8138</td></tr></table><br/></div></div>"
            ]
          },
          "metadata": {}
        },
        {
          "output_type": "display_data",
          "data": {
            "text/plain": [
              "<IPython.core.display.HTML object>"
            ],
            "text/html": [
              " View run <strong style=\"color:#cdcd00\">tf_baseline_run4</strong> at: <a href='https://wandb.ai/vincenttu/torch_vs_tf_talmo_lab/runs/asgr4i0p' target=\"_blank\">https://wandb.ai/vincenttu/torch_vs_tf_talmo_lab/runs/asgr4i0p</a><br/>Synced 5 W&B file(s), 0 media file(s), 0 artifact file(s) and 0 other file(s)"
            ]
          },
          "metadata": {}
        },
        {
          "output_type": "display_data",
          "data": {
            "text/plain": [
              "<IPython.core.display.HTML object>"
            ],
            "text/html": [
              "Find logs at: <code>./wandb/run-20230508_005653-asgr4i0p/logs</code>"
            ]
          },
          "metadata": {}
        }
      ]
    },
    {
      "cell_type": "code",
      "source": [],
      "metadata": {
        "id": "zpaQGxBctxVL"
      },
      "execution_count": null,
      "outputs": []
    }
  ]
}